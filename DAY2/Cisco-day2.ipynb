{
 "cells": [
  {
   "cell_type": "code",
   "execution_count": 1,
   "id": "0852021d-fbeb-4918-9f99-14f3f0c1bdae",
   "metadata": {},
   "outputs": [
    {
     "name": "stdout",
     "output_type": "stream",
     "text": [
      "<class 'list'>\n"
     ]
    }
   ],
   "source": [
    "emp1 = {'eid':101,'ename':'Raj','edept':'sales'}\n",
    "\n",
    "emp2 = {'eid':[101,102,103],\n",
    "        'ename':['Raj','Leo','Paul'],\n",
    "        'edept':['sales','devops','DE']\n",
    "        } # dict of list\n",
    "\n",
    "print(type(emp2['eid']))\n",
    "# we can add new data to an exist\n",
    "emp2['eid'].append(104) \n",
    "emp2['ename'].append('Shiv')\n",
    "emp2['edept'].append('QA')"
   ]
  },
  {
   "cell_type": "code",
   "execution_count": 2,
   "id": "1086be64-d7de-44f1-924c-c91ec43062fc",
   "metadata": {},
   "outputs": [
    {
     "data": {
      "text/plain": [
       "{'eid': [101, 102, 103, 104],\n",
       " 'ename': ['Raj', 'Leo', 'Paul', 'Shiv'],\n",
       " 'edept': ['sales', 'devops', 'DE', 'QA']}"
      ]
     },
     "execution_count": 2,
     "metadata": {},
     "output_type": "execute_result"
    }
   ],
   "source": [
    "emp2"
   ]
  },
  {
   "cell_type": "code",
   "execution_count": 5,
   "id": "4553c2a9-d01f-4ebc-942b-fa02a94bb88a",
   "metadata": {},
   "outputs": [
    {
     "name": "stdout",
     "output_type": "stream",
     "text": [
      "101 Raj sales\n"
     ]
    }
   ],
   "source": [
    "print(emp2['eid'][0],emp2['ename'][0],emp2['edept'][0])"
   ]
  },
  {
   "cell_type": "code",
   "execution_count": 6,
   "id": "5c2c6e84-02a0-4da1-a56a-edb41c85ee86",
   "metadata": {},
   "outputs": [],
   "source": [
    "emp2['edept'][0] = 'Admin' # we can modify an existing value - mutable "
   ]
  },
  {
   "cell_type": "code",
   "execution_count": 7,
   "id": "cb3dbb95-d0fd-4654-9edb-dd51fb91956a",
   "metadata": {},
   "outputs": [
    {
     "data": {
      "text/plain": [
       "['Admin', 'devops', 'DE', 'QA']"
      ]
     },
     "execution_count": 7,
     "metadata": {},
     "output_type": "execute_result"
    }
   ],
   "source": [
    "emp2['edept']"
   ]
  },
  {
   "cell_type": "code",
   "execution_count": 8,
   "id": "6b280e74-d3b1-4880-8c84-3e4143cc6f36",
   "metadata": {},
   "outputs": [
    {
     "name": "stdout",
     "output_type": "stream",
     "text": [
      "101 Raj Admin\n"
     ]
    }
   ],
   "source": [
    "print(emp2['eid'][0],emp2['ename'][0],emp2['edept'][0])"
   ]
  },
  {
   "cell_type": "code",
   "execution_count": 12,
   "id": "4d49b721-3ac5-4b02-b140-44acb1e17421",
   "metadata": {},
   "outputs": [
    {
     "name": "stdout",
     "output_type": "stream",
     "text": [
      "<class 'dict'>\n",
      "<class 'tuple'>\n",
      "101\n"
     ]
    }
   ],
   "source": [
    "# Task\n",
    "#---------\n",
    "# create an emp records - dict of tuple\n",
    "# display dict details\n",
    "# fetch single data \n",
    "#------------------------------------\n",
    "emp2 = {'eid':(101,102,103),\n",
    "        'ename':('Raj','Leo','Paul'),\n",
    "        'edept':('sales','devops','DE')\n",
    "        } # dict of tuple\n",
    "\n",
    "print(type(emp2))\n",
    "print(type(emp2['eid']))\n",
    "print(emp2['eid'][0])\n",
    "\n",
    "emp2['eplace']=('City-1','City-2','City-3','City-4') # We can add new data to an existing dict"
   ]
  },
  {
   "cell_type": "code",
   "execution_count": 13,
   "id": "44d157df-6ab7-481a-bd99-ecb0883fb074",
   "metadata": {},
   "outputs": [
    {
     "data": {
      "text/plain": [
       "{'eid': (101, 102, 103),\n",
       " 'ename': ('Raj', 'Leo', 'Paul'),\n",
       " 'edept': ('sales', 'devops', 'DE'),\n",
       " 'eplace': ('City-1', 'City-2', 'City-3', 'City-4')}"
      ]
     },
     "execution_count": 13,
     "metadata": {},
     "output_type": "execute_result"
    }
   ],
   "source": [
    "emp2"
   ]
  },
  {
   "cell_type": "code",
   "execution_count": null,
   "id": "58b64ef0-279a-4e2c-ab3a-77eecb88a641",
   "metadata": {},
   "outputs": [],
   "source": [
    "# dict of dict\n",
    "# ----------------\n",
    "emp2={'eid':{'K1':101,'K2':102,'K3':103},'ename':{'K1':'Raj','K2':'Leo','K3':'Anu'}}\n",
    "     # ---------------------------------| ----------------------------------------"
   ]
  },
  {
   "cell_type": "code",
   "execution_count": 14,
   "id": "608e43db-24b5-4039-8b06-a5a3b3a80d39",
   "metadata": {},
   "outputs": [
    {
     "data": {
      "text/plain": [
       "{'K1': 101}"
      ]
     },
     "execution_count": 14,
     "metadata": {},
     "output_type": "execute_result"
    }
   ],
   "source": [
    "d={'K1':'V1','K1':10,'K1':101} # duplicate key\n",
    "d"
   ]
  },
  {
   "cell_type": "code",
   "execution_count": 15,
   "id": "bf7165ef-5dd2-42a1-b392-7a5f4506f809",
   "metadata": {},
   "outputs": [
    {
     "name": "stdout",
     "output_type": "stream",
     "text": [
      "{'K1': {'K1': 'V1'}, 'K2': {'K1': 10}, 'K3': {'K1': 101}}\n"
     ]
    }
   ],
   "source": [
    "d={'K1':{'K1':'V1'},'K2':{'K1':10},'K3':{'K1':101}} \n",
    "print(d)"
   ]
  },
  {
   "cell_type": "code",
   "execution_count": 16,
   "id": "158c2ba7-206b-4477-8821-78242886bf1e",
   "metadata": {},
   "outputs": [
    {
     "name": "stdout",
     "output_type": "stream",
     "text": [
      "101 Raj\n"
     ]
    }
   ],
   "source": [
    "emp2={'eid':{'K1':101,'K2':102,'K3':103},'ename':{'K1':'Raj','K2':'Leo','K3':'Anu'}}\n",
    "\n",
    "print(emp2['eid']['K1'],emp2['ename']['K1'])\n"
   ]
  },
  {
   "cell_type": "code",
   "execution_count": 17,
   "id": "510322cc-0322-490d-b3ba-2f13b53c17ee",
   "metadata": {},
   "outputs": [
    {
     "name": "stdout",
     "output_type": "stream",
     "text": [
      "<class 'list'>\n",
      "<class 'dict'>\n"
     ]
    }
   ],
   "source": [
    "L = [ [\"D1\",\"D2\",\"D3\"],(\"D4\",\"D5\"),{\"K1\":\"V1\",\"K2\":\"V2\"}]\n",
    "#     ----0-----------|-----1-----|---------2----------\n",
    "print(type(L))\n",
    "print(type(L[2]))"
   ]
  },
  {
   "cell_type": "code",
   "execution_count": 18,
   "id": "0aed0f86-dc53-493e-a6c9-190e11659524",
   "metadata": {},
   "outputs": [
    {
     "name": "stdout",
     "output_type": "stream",
     "text": [
      "V1\n"
     ]
    }
   ],
   "source": [
    "print(L[2]['K1'])"
   ]
  },
  {
   "cell_type": "code",
   "execution_count": null,
   "id": "2a53482b-015e-409e-b08a-6a591a798c65",
   "metadata": {},
   "outputs": [],
   "source": [
    "d = {'K1':[10,20,30]}  # d['K1'][0] ->10\n",
    "L = [{'K1':10}]        # L[0]['K1'] ->10"
   ]
  },
  {
   "cell_type": "code",
   "execution_count": null,
   "id": "0a8d2870-9a24-4998-8dee-fc20563487c0",
   "metadata": {},
   "outputs": [],
   "source": [
    "d={'K1':[{},{},{},{}]}\n",
    "  | --- |___________||\n",
    "  |__________________|"
   ]
  },
  {
   "cell_type": "code",
   "execution_count": 25,
   "id": "e825277d-d912-441e-abf1-5c87a9e6aac5",
   "metadata": {},
   "outputs": [
    {
     "name": "stdout",
     "output_type": "stream",
     "text": [
      "{'K1': [{'K1': 'V1'}], 'K2': [{'K1': 10}, {'K2': 20}, {'K3': 30}, {'K4': [40, 50, 60, {'Kx': 'Vx', 'Ky': 'Vy'}]}]}\n"
     ]
    }
   ],
   "source": [
    "d={}\n",
    "d['K1']=[{'K1':'V1'}]\n",
    "d['K2']=[{'K1':10},{'K2':20},{'K3':30},{'K4':[40,50,60,{'Kx':'Vx','Ky':'Vy'}]}]\n",
    "print(d)"
   ]
  },
  {
   "cell_type": "code",
   "execution_count": 26,
   "id": "65feb58b-c909-4edf-b454-be0dafc3a102",
   "metadata": {},
   "outputs": [
    {
     "name": "stdout",
     "output_type": "stream",
     "text": [
      "{'K1': [{'K1': 'V1'}],\n",
      " 'K2': [{'K1': 10},\n",
      "        {'K2': 20},\n",
      "        {'K3': 30},\n",
      "        {'K4': [40, 50, 60, {'Kx': 'Vx', 'Ky': 'Vy'}]}]}\n"
     ]
    }
   ],
   "source": [
    "import pprint\n",
    "pprint.pprint(d)"
   ]
  },
  {
   "cell_type": "code",
   "execution_count": null,
   "id": "ea43868a-0f4c-4aae-927e-e275d5a50dad",
   "metadata": {},
   "outputs": [],
   "source": [
    "JSON \n",
    " Store and exchange data - between webApplications\n",
    "\n",
    "Json                     Python\n",
    "int,float               int,float\n",
    "str                      str\n",
    "Array                   list\n",
    "Object                  dict\n",
    "true,false              True,False\n",
    "nil                     None\n",
    "\n",
    "from json data -->python data => json.loads(json_data) ->python_data\n",
    "\n",
    "from python data -->json data => json.dumps(python_data) ->json_data\n",
    "\n",
    "Client ------->Webserver-------->ServerCode\n",
    "                                    |\n",
    "        ------<---------------------|\n",
    "           1. Webpage response = <html>+{{data}} ... \n",
    "           2. Data response    = json data ****"
   ]
  },
  {
   "cell_type": "code",
   "execution_count": 35,
   "id": "9e018d55-866f-48ae-a1b0-ba44f4f1f75e",
   "metadata": {},
   "outputs": [
    {
     "name": "stdout",
     "output_type": "stream",
     "text": [
      "{'Types': ['Ethernt', 'Ring'], 'onboot': ('True', 'False'), 'IP': {'K1': '10.0.30.40', 'K2': '10.23.44.25'}}\n",
      "\n",
      "{'IP': {'K1': '10.0.30.40', 'K2': '10.23.44.25'},\n",
      " 'Types': ['Ethernt', 'Ring'],\n",
      " 'onboot': ('True', 'False')}\n"
     ]
    }
   ],
   "source": [
    "netinfo = {}\n",
    "netinfo['Types']=['Ethernt','Ring']\n",
    "netinfo['onboot']=('True','False')\n",
    "netinfo['IP']={'K1':'10.0.30.40','K2':'10.23.44.25'}\n",
    "print(netinfo)\n",
    "print('') # empty line\n",
    "pprint.pprint(netinfo)"
   ]
  },
  {
   "cell_type": "code",
   "execution_count": 36,
   "id": "c89a0030-fd47-4f32-94b3-1356b558dd11",
   "metadata": {},
   "outputs": [
    {
     "data": {
      "text/plain": [
       "'{\"Types\": [\"Ethernt\", \"Ring\"], \"onboot\": [\"True\", \"False\"], \"IP\": {\"K1\": \"10.0.30.40\", \"K2\": \"10.23.44.25\"}}'"
      ]
     },
     "execution_count": 36,
     "metadata": {},
     "output_type": "execute_result"
    }
   ],
   "source": [
    "import json\n",
    "json_data = json.dumps(netinfo) # converting from python to json\n",
    "json_data"
   ]
  },
  {
   "cell_type": "code",
   "execution_count": 37,
   "id": "1f69edf9-ba7b-481e-8e23-855ed5a3f868",
   "metadata": {},
   "outputs": [
    {
     "data": {
      "text/plain": [
       "'{\\n  \"Types\": [\\n    \"Ethernt\",\\n    \"Ring\"\\n  ],\\n  \"onboot\": [\\n    \"True\",\\n    \"False\"\\n  ],\\n  \"IP\": {\\n    \"K1\": \"10.0.30.40\",\\n    \"K2\": \"10.23.44.25\"\\n  }\\n}'"
      ]
     },
     "execution_count": 37,
     "metadata": {},
     "output_type": "execute_result"
    }
   ],
   "source": [
    "json_data = json.dumps(netinfo,indent=2) # converting from python to json\n",
    "json_data"
   ]
  },
  {
   "cell_type": "code",
   "execution_count": 38,
   "id": "35510fa1-e2fc-4579-aa86-9baba0ebaae1",
   "metadata": {},
   "outputs": [
    {
     "name": "stdout",
     "output_type": "stream",
     "text": [
      "{\n",
      "  \"Types\": [\n",
      "    \"Ethernt\",\n",
      "    \"Ring\"\n",
      "  ],\n",
      "  \"onboot\": [\n",
      "    \"True\",\n",
      "    \"False\"\n",
      "  ],\n",
      "  \"IP\": {\n",
      "    \"K1\": \"10.0.30.40\",\n",
      "    \"K2\": \"10.23.44.25\"\n",
      "  }\n",
      "}\n"
     ]
    }
   ],
   "source": [
    "print(json_data)"
   ]
  },
  {
   "cell_type": "code",
   "execution_count": 39,
   "id": "1689c221-59a4-4f57-a8f4-532a55cd9c49",
   "metadata": {},
   "outputs": [
    {
     "data": {
      "text/plain": [
       "{'Types': ['Ethernt', 'Ring'],\n",
       " 'onboot': ['True', 'False'],\n",
       " 'IP': {'K1': '10.0.30.40', 'K2': '10.23.44.25'}}"
      ]
     },
     "execution_count": 39,
     "metadata": {},
     "output_type": "execute_result"
    }
   ],
   "source": [
    "json.loads(json_data)"
   ]
  },
  {
   "cell_type": "code",
   "execution_count": 41,
   "id": "c8a29389-8bf7-4ac0-a8de-e38ab5c1378e",
   "metadata": {},
   "outputs": [
    {
     "name": "stdout",
     "output_type": "stream",
     "text": [
      "true\n",
      "false\n",
      "null\n"
     ]
    }
   ],
   "source": [
    "# convert to json\n",
    "print(json.dumps(True))\n",
    "print(json.dumps(False))\n",
    "print(json.dumps(None))\n"
   ]
  },
  {
   "cell_type": "code",
   "execution_count": null,
   "id": "afb42d9d-c83e-4952-9b3f-16acb7a1d9ce",
   "metadata": {},
   "outputs": [],
   "source": [
    "# Tasks\n",
    "# create netinfo - complex data \n",
    "# Convert data ->json\n",
    "# convert from json ->python\n",
    "# "
   ]
  },
  {
   "cell_type": "code",
   "execution_count": 42,
   "id": "f627968e-fe09-409e-be18-bc37e29d3e87",
   "metadata": {},
   "outputs": [
    {
     "data": {
      "text/plain": [
       "<Response [200]>"
      ]
     },
     "execution_count": 42,
     "metadata": {},
     "output_type": "execute_result"
    }
   ],
   "source": [
    "import requests\n",
    "requests.get('https://api.github.com/users/hadley/orgs')"
   ]
  },
  {
   "cell_type": "code",
   "execution_count": 44,
   "id": "a916e3ea-603e-41a0-9895-3e36ab42f7c9",
   "metadata": {},
   "outputs": [
    {
     "data": {
      "text/plain": [
       "'application/json; charset=utf-8'"
      ]
     },
     "execution_count": 44,
     "metadata": {},
     "output_type": "execute_result"
    }
   ],
   "source": [
    "r = requests.get('https://api.github.com/users/hadley/orgs')\n",
    "r.headers\n",
    "r.headers['Content-Type']"
   ]
  },
  {
   "cell_type": "code",
   "execution_count": 46,
   "id": "8500ac37-416a-4f29-b538-d9c711b0398a",
   "metadata": {},
   "outputs": [],
   "source": [
    "json_data = r.text\n"
   ]
  },
  {
   "cell_type": "code",
   "execution_count": 47,
   "id": "7bdc0d33-d994-4f03-a1b8-88df03912f2d",
   "metadata": {},
   "outputs": [
    {
     "data": {
      "text/plain": [
       "[{'login': 'ggobi',\n",
       "  'id': 423638,\n",
       "  'node_id': 'MDEyOk9yZ2FuaXphdGlvbjQyMzYzOA==',\n",
       "  'url': 'https://api.github.com/orgs/ggobi',\n",
       "  'repos_url': 'https://api.github.com/orgs/ggobi/repos',\n",
       "  'events_url': 'https://api.github.com/orgs/ggobi/events',\n",
       "  'hooks_url': 'https://api.github.com/orgs/ggobi/hooks',\n",
       "  'issues_url': 'https://api.github.com/orgs/ggobi/issues',\n",
       "  'members_url': 'https://api.github.com/orgs/ggobi/members{/member}',\n",
       "  'public_members_url': 'https://api.github.com/orgs/ggobi/public_members{/member}',\n",
       "  'avatar_url': 'https://avatars.githubusercontent.com/u/423638?v=4',\n",
       "  'description': ''},\n",
       " {'login': 'rstudio',\n",
       "  'id': 513560,\n",
       "  'node_id': 'MDEyOk9yZ2FuaXphdGlvbjUxMzU2MA==',\n",
       "  'url': 'https://api.github.com/orgs/rstudio',\n",
       "  'repos_url': 'https://api.github.com/orgs/rstudio/repos',\n",
       "  'events_url': 'https://api.github.com/orgs/rstudio/events',\n",
       "  'hooks_url': 'https://api.github.com/orgs/rstudio/hooks',\n",
       "  'issues_url': 'https://api.github.com/orgs/rstudio/issues',\n",
       "  'members_url': 'https://api.github.com/orgs/rstudio/members{/member}',\n",
       "  'public_members_url': 'https://api.github.com/orgs/rstudio/public_members{/member}',\n",
       "  'avatar_url': 'https://avatars.githubusercontent.com/u/513560?v=4',\n",
       "  'description': ''},\n",
       " {'login': 'rstats',\n",
       "  'id': 722735,\n",
       "  'node_id': 'MDEyOk9yZ2FuaXphdGlvbjcyMjczNQ==',\n",
       "  'url': 'https://api.github.com/orgs/rstats',\n",
       "  'repos_url': 'https://api.github.com/orgs/rstats/repos',\n",
       "  'events_url': 'https://api.github.com/orgs/rstats/events',\n",
       "  'hooks_url': 'https://api.github.com/orgs/rstats/hooks',\n",
       "  'issues_url': 'https://api.github.com/orgs/rstats/issues',\n",
       "  'members_url': 'https://api.github.com/orgs/rstats/members{/member}',\n",
       "  'public_members_url': 'https://api.github.com/orgs/rstats/public_members{/member}',\n",
       "  'avatar_url': 'https://avatars.githubusercontent.com/u/722735?v=4',\n",
       "  'description': None},\n",
       " {'login': 'ropensci',\n",
       "  'id': 1200269,\n",
       "  'node_id': 'MDEyOk9yZ2FuaXphdGlvbjEyMDAyNjk=',\n",
       "  'url': 'https://api.github.com/orgs/ropensci',\n",
       "  'repos_url': 'https://api.github.com/orgs/ropensci/repos',\n",
       "  'events_url': 'https://api.github.com/orgs/ropensci/events',\n",
       "  'hooks_url': 'https://api.github.com/orgs/ropensci/hooks',\n",
       "  'issues_url': 'https://api.github.com/orgs/ropensci/issues',\n",
       "  'members_url': 'https://api.github.com/orgs/ropensci/members{/member}',\n",
       "  'public_members_url': 'https://api.github.com/orgs/ropensci/public_members{/member}',\n",
       "  'avatar_url': 'https://avatars.githubusercontent.com/u/1200269?v=4',\n",
       "  'description': 'Tools and R Packages for Open Science'},\n",
       " {'login': 'rjournal',\n",
       "  'id': 3330561,\n",
       "  'node_id': 'MDEyOk9yZ2FuaXphdGlvbjMzMzA1NjE=',\n",
       "  'url': 'https://api.github.com/orgs/rjournal',\n",
       "  'repos_url': 'https://api.github.com/orgs/rjournal/repos',\n",
       "  'events_url': 'https://api.github.com/orgs/rjournal/events',\n",
       "  'hooks_url': 'https://api.github.com/orgs/rjournal/hooks',\n",
       "  'issues_url': 'https://api.github.com/orgs/rjournal/issues',\n",
       "  'members_url': 'https://api.github.com/orgs/rjournal/members{/member}',\n",
       "  'public_members_url': 'https://api.github.com/orgs/rjournal/public_members{/member}',\n",
       "  'avatar_url': 'https://avatars.githubusercontent.com/u/3330561?v=4',\n",
       "  'description': None},\n",
       " {'login': 'r-dbi',\n",
       "  'id': 5695665,\n",
       "  'node_id': 'MDEyOk9yZ2FuaXphdGlvbjU2OTU2NjU=',\n",
       "  'url': 'https://api.github.com/orgs/r-dbi',\n",
       "  'repos_url': 'https://api.github.com/orgs/r-dbi/repos',\n",
       "  'events_url': 'https://api.github.com/orgs/r-dbi/events',\n",
       "  'hooks_url': 'https://api.github.com/orgs/r-dbi/hooks',\n",
       "  'issues_url': 'https://api.github.com/orgs/r-dbi/issues',\n",
       "  'members_url': 'https://api.github.com/orgs/r-dbi/members{/member}',\n",
       "  'public_members_url': 'https://api.github.com/orgs/r-dbi/public_members{/member}',\n",
       "  'avatar_url': 'https://avatars.githubusercontent.com/u/5695665?v=4',\n",
       "  'description': 'R + databases'},\n",
       " {'login': 'RConsortium',\n",
       "  'id': 15366137,\n",
       "  'node_id': 'MDEyOk9yZ2FuaXphdGlvbjE1MzY2MTM3',\n",
       "  'url': 'https://api.github.com/orgs/RConsortium',\n",
       "  'repos_url': 'https://api.github.com/orgs/RConsortium/repos',\n",
       "  'events_url': 'https://api.github.com/orgs/RConsortium/events',\n",
       "  'hooks_url': 'https://api.github.com/orgs/RConsortium/hooks',\n",
       "  'issues_url': 'https://api.github.com/orgs/RConsortium/issues',\n",
       "  'members_url': 'https://api.github.com/orgs/RConsortium/members{/member}',\n",
       "  'public_members_url': 'https://api.github.com/orgs/RConsortium/public_members{/member}',\n",
       "  'avatar_url': 'https://avatars.githubusercontent.com/u/15366137?v=4',\n",
       "  'description': 'The R Consortium, Inc was established to provide support to the R Foundation and R Community, using maintaining and distributing R software.'},\n",
       " {'login': 'tidyverse',\n",
       "  'id': 22032646,\n",
       "  'node_id': 'MDEyOk9yZ2FuaXphdGlvbjIyMDMyNjQ2',\n",
       "  'url': 'https://api.github.com/orgs/tidyverse',\n",
       "  'repos_url': 'https://api.github.com/orgs/tidyverse/repos',\n",
       "  'events_url': 'https://api.github.com/orgs/tidyverse/events',\n",
       "  'hooks_url': 'https://api.github.com/orgs/tidyverse/hooks',\n",
       "  'issues_url': 'https://api.github.com/orgs/tidyverse/issues',\n",
       "  'members_url': 'https://api.github.com/orgs/tidyverse/members{/member}',\n",
       "  'public_members_url': 'https://api.github.com/orgs/tidyverse/public_members{/member}',\n",
       "  'avatar_url': 'https://avatars.githubusercontent.com/u/22032646?v=4',\n",
       "  'description': 'The tidyverse is a collection of R packages that share common principles and are designed to work together seamlessly'},\n",
       " {'login': 'r-lib',\n",
       "  'id': 22618716,\n",
       "  'node_id': 'MDEyOk9yZ2FuaXphdGlvbjIyNjE4NzE2',\n",
       "  'url': 'https://api.github.com/orgs/r-lib',\n",
       "  'repos_url': 'https://api.github.com/orgs/r-lib/repos',\n",
       "  'events_url': 'https://api.github.com/orgs/r-lib/events',\n",
       "  'hooks_url': 'https://api.github.com/orgs/r-lib/hooks',\n",
       "  'issues_url': 'https://api.github.com/orgs/r-lib/issues',\n",
       "  'members_url': 'https://api.github.com/orgs/r-lib/members{/member}',\n",
       "  'public_members_url': 'https://api.github.com/orgs/r-lib/public_members{/member}',\n",
       "  'avatar_url': 'https://avatars.githubusercontent.com/u/22618716?v=4',\n",
       "  'description': ''},\n",
       " {'login': 'rstudio-education',\n",
       "  'id': 34165516,\n",
       "  'node_id': 'MDEyOk9yZ2FuaXphdGlvbjM0MTY1NTE2',\n",
       "  'url': 'https://api.github.com/orgs/rstudio-education',\n",
       "  'repos_url': 'https://api.github.com/orgs/rstudio-education/repos',\n",
       "  'events_url': 'https://api.github.com/orgs/rstudio-education/events',\n",
       "  'hooks_url': 'https://api.github.com/orgs/rstudio-education/hooks',\n",
       "  'issues_url': 'https://api.github.com/orgs/rstudio-education/issues',\n",
       "  'members_url': 'https://api.github.com/orgs/rstudio-education/members{/member}',\n",
       "  'public_members_url': 'https://api.github.com/orgs/rstudio-education/public_members{/member}',\n",
       "  'avatar_url': 'https://avatars.githubusercontent.com/u/34165516?v=4',\n",
       "  'description': ''}]"
      ]
     },
     "execution_count": 47,
     "metadata": {},
     "output_type": "execute_result"
    }
   ],
   "source": [
    "json.loads(json_data) # Convert from json to python "
   ]
  },
  {
   "cell_type": "code",
   "execution_count": 48,
   "id": "dfbe5ac1-91da-4df5-92f9-e862d5c8a521",
   "metadata": {},
   "outputs": [
    {
     "name": "stdout",
     "output_type": "stream",
     "text": [
      "[{'avatar_url': 'https://avatars.githubusercontent.com/u/423638?v=4',\n",
      "  'description': '',\n",
      "  'events_url': 'https://api.github.com/orgs/ggobi/events',\n",
      "  'hooks_url': 'https://api.github.com/orgs/ggobi/hooks',\n",
      "  'id': 423638,\n",
      "  'issues_url': 'https://api.github.com/orgs/ggobi/issues',\n",
      "  'login': 'ggobi',\n",
      "  'members_url': 'https://api.github.com/orgs/ggobi/members{/member}',\n",
      "  'node_id': 'MDEyOk9yZ2FuaXphdGlvbjQyMzYzOA==',\n",
      "  'public_members_url': 'https://api.github.com/orgs/ggobi/public_members{/member}',\n",
      "  'repos_url': 'https://api.github.com/orgs/ggobi/repos',\n",
      "  'url': 'https://api.github.com/orgs/ggobi'},\n",
      " {'avatar_url': 'https://avatars.githubusercontent.com/u/513560?v=4',\n",
      "  'description': '',\n",
      "  'events_url': 'https://api.github.com/orgs/rstudio/events',\n",
      "  'hooks_url': 'https://api.github.com/orgs/rstudio/hooks',\n",
      "  'id': 513560,\n",
      "  'issues_url': 'https://api.github.com/orgs/rstudio/issues',\n",
      "  'login': 'rstudio',\n",
      "  'members_url': 'https://api.github.com/orgs/rstudio/members{/member}',\n",
      "  'node_id': 'MDEyOk9yZ2FuaXphdGlvbjUxMzU2MA==',\n",
      "  'public_members_url': 'https://api.github.com/orgs/rstudio/public_members{/member}',\n",
      "  'repos_url': 'https://api.github.com/orgs/rstudio/repos',\n",
      "  'url': 'https://api.github.com/orgs/rstudio'},\n",
      " {'avatar_url': 'https://avatars.githubusercontent.com/u/722735?v=4',\n",
      "  'description': None,\n",
      "  'events_url': 'https://api.github.com/orgs/rstats/events',\n",
      "  'hooks_url': 'https://api.github.com/orgs/rstats/hooks',\n",
      "  'id': 722735,\n",
      "  'issues_url': 'https://api.github.com/orgs/rstats/issues',\n",
      "  'login': 'rstats',\n",
      "  'members_url': 'https://api.github.com/orgs/rstats/members{/member}',\n",
      "  'node_id': 'MDEyOk9yZ2FuaXphdGlvbjcyMjczNQ==',\n",
      "  'public_members_url': 'https://api.github.com/orgs/rstats/public_members{/member}',\n",
      "  'repos_url': 'https://api.github.com/orgs/rstats/repos',\n",
      "  'url': 'https://api.github.com/orgs/rstats'},\n",
      " {'avatar_url': 'https://avatars.githubusercontent.com/u/1200269?v=4',\n",
      "  'description': 'Tools and R Packages for Open Science',\n",
      "  'events_url': 'https://api.github.com/orgs/ropensci/events',\n",
      "  'hooks_url': 'https://api.github.com/orgs/ropensci/hooks',\n",
      "  'id': 1200269,\n",
      "  'issues_url': 'https://api.github.com/orgs/ropensci/issues',\n",
      "  'login': 'ropensci',\n",
      "  'members_url': 'https://api.github.com/orgs/ropensci/members{/member}',\n",
      "  'node_id': 'MDEyOk9yZ2FuaXphdGlvbjEyMDAyNjk=',\n",
      "  'public_members_url': 'https://api.github.com/orgs/ropensci/public_members{/member}',\n",
      "  'repos_url': 'https://api.github.com/orgs/ropensci/repos',\n",
      "  'url': 'https://api.github.com/orgs/ropensci'},\n",
      " {'avatar_url': 'https://avatars.githubusercontent.com/u/3330561?v=4',\n",
      "  'description': None,\n",
      "  'events_url': 'https://api.github.com/orgs/rjournal/events',\n",
      "  'hooks_url': 'https://api.github.com/orgs/rjournal/hooks',\n",
      "  'id': 3330561,\n",
      "  'issues_url': 'https://api.github.com/orgs/rjournal/issues',\n",
      "  'login': 'rjournal',\n",
      "  'members_url': 'https://api.github.com/orgs/rjournal/members{/member}',\n",
      "  'node_id': 'MDEyOk9yZ2FuaXphdGlvbjMzMzA1NjE=',\n",
      "  'public_members_url': 'https://api.github.com/orgs/rjournal/public_members{/member}',\n",
      "  'repos_url': 'https://api.github.com/orgs/rjournal/repos',\n",
      "  'url': 'https://api.github.com/orgs/rjournal'},\n",
      " {'avatar_url': 'https://avatars.githubusercontent.com/u/5695665?v=4',\n",
      "  'description': 'R + databases',\n",
      "  'events_url': 'https://api.github.com/orgs/r-dbi/events',\n",
      "  'hooks_url': 'https://api.github.com/orgs/r-dbi/hooks',\n",
      "  'id': 5695665,\n",
      "  'issues_url': 'https://api.github.com/orgs/r-dbi/issues',\n",
      "  'login': 'r-dbi',\n",
      "  'members_url': 'https://api.github.com/orgs/r-dbi/members{/member}',\n",
      "  'node_id': 'MDEyOk9yZ2FuaXphdGlvbjU2OTU2NjU=',\n",
      "  'public_members_url': 'https://api.github.com/orgs/r-dbi/public_members{/member}',\n",
      "  'repos_url': 'https://api.github.com/orgs/r-dbi/repos',\n",
      "  'url': 'https://api.github.com/orgs/r-dbi'},\n",
      " {'avatar_url': 'https://avatars.githubusercontent.com/u/15366137?v=4',\n",
      "  'description': 'The R Consortium, Inc was established to provide support to '\n",
      "                 'the R Foundation and R Community, using maintaining and '\n",
      "                 'distributing R software.',\n",
      "  'events_url': 'https://api.github.com/orgs/RConsortium/events',\n",
      "  'hooks_url': 'https://api.github.com/orgs/RConsortium/hooks',\n",
      "  'id': 15366137,\n",
      "  'issues_url': 'https://api.github.com/orgs/RConsortium/issues',\n",
      "  'login': 'RConsortium',\n",
      "  'members_url': 'https://api.github.com/orgs/RConsortium/members{/member}',\n",
      "  'node_id': 'MDEyOk9yZ2FuaXphdGlvbjE1MzY2MTM3',\n",
      "  'public_members_url': 'https://api.github.com/orgs/RConsortium/public_members{/member}',\n",
      "  'repos_url': 'https://api.github.com/orgs/RConsortium/repos',\n",
      "  'url': 'https://api.github.com/orgs/RConsortium'},\n",
      " {'avatar_url': 'https://avatars.githubusercontent.com/u/22032646?v=4',\n",
      "  'description': 'The tidyverse is a collection of R packages that share '\n",
      "                 'common principles and are designed to work together '\n",
      "                 'seamlessly',\n",
      "  'events_url': 'https://api.github.com/orgs/tidyverse/events',\n",
      "  'hooks_url': 'https://api.github.com/orgs/tidyverse/hooks',\n",
      "  'id': 22032646,\n",
      "  'issues_url': 'https://api.github.com/orgs/tidyverse/issues',\n",
      "  'login': 'tidyverse',\n",
      "  'members_url': 'https://api.github.com/orgs/tidyverse/members{/member}',\n",
      "  'node_id': 'MDEyOk9yZ2FuaXphdGlvbjIyMDMyNjQ2',\n",
      "  'public_members_url': 'https://api.github.com/orgs/tidyverse/public_members{/member}',\n",
      "  'repos_url': 'https://api.github.com/orgs/tidyverse/repos',\n",
      "  'url': 'https://api.github.com/orgs/tidyverse'},\n",
      " {'avatar_url': 'https://avatars.githubusercontent.com/u/22618716?v=4',\n",
      "  'description': '',\n",
      "  'events_url': 'https://api.github.com/orgs/r-lib/events',\n",
      "  'hooks_url': 'https://api.github.com/orgs/r-lib/hooks',\n",
      "  'id': 22618716,\n",
      "  'issues_url': 'https://api.github.com/orgs/r-lib/issues',\n",
      "  'login': 'r-lib',\n",
      "  'members_url': 'https://api.github.com/orgs/r-lib/members{/member}',\n",
      "  'node_id': 'MDEyOk9yZ2FuaXphdGlvbjIyNjE4NzE2',\n",
      "  'public_members_url': 'https://api.github.com/orgs/r-lib/public_members{/member}',\n",
      "  'repos_url': 'https://api.github.com/orgs/r-lib/repos',\n",
      "  'url': 'https://api.github.com/orgs/r-lib'},\n",
      " {'avatar_url': 'https://avatars.githubusercontent.com/u/34165516?v=4',\n",
      "  'description': '',\n",
      "  'events_url': 'https://api.github.com/orgs/rstudio-education/events',\n",
      "  'hooks_url': 'https://api.github.com/orgs/rstudio-education/hooks',\n",
      "  'id': 34165516,\n",
      "  'issues_url': 'https://api.github.com/orgs/rstudio-education/issues',\n",
      "  'login': 'rstudio-education',\n",
      "  'members_url': 'https://api.github.com/orgs/rstudio-education/members{/member}',\n",
      "  'node_id': 'MDEyOk9yZ2FuaXphdGlvbjM0MTY1NTE2',\n",
      "  'public_members_url': 'https://api.github.com/orgs/rstudio-education/public_members{/member}',\n",
      "  'repos_url': 'https://api.github.com/orgs/rstudio-education/repos',\n",
      "  'url': 'https://api.github.com/orgs/rstudio-education'}]\n"
     ]
    }
   ],
   "source": [
    "python_data = json.loads(json_data)\n",
    "pprint.pprint(python_data)"
   ]
  },
  {
   "cell_type": "code",
   "execution_count": 55,
   "id": "9a4ef41d-4ae7-46c9-b8fb-7c46513382e0",
   "metadata": {},
   "outputs": [
    {
     "name": "stdout",
     "output_type": "stream",
     "text": [
      "<class 'list'>\n",
      "10\n",
      "<class 'dict'>\n",
      "\n",
      "List of keys:\n",
      "login id node_id url repos_url events_url hooks_url issues_url members_url public_members_url avatar_url description "
     ]
    }
   ],
   "source": [
    "print(type(python_data))\n",
    "print(len(python_data))\n",
    "print(type(python_data[0]))\n",
    "print('\\nList of keys:')\n",
    "for var in python_data[0]:\n",
    "    print(var,end = ' ')"
   ]
  },
  {
   "cell_type": "code",
   "execution_count": 56,
   "id": "6a7f06a4-b139-48c4-9309-6326d575c6cd",
   "metadata": {},
   "outputs": [
    {
     "name": "stdout",
     "output_type": "stream",
     "text": [
      "https://api.github.com/orgs/ggobi/repos\n"
     ]
    }
   ],
   "source": [
    "print(python_data[0]['repos_url'])"
   ]
  },
  {
   "cell_type": "code",
   "execution_count": 57,
   "id": "ce9096b1-770b-4dd1-8d49-1d1d514d5ccf",
   "metadata": {},
   "outputs": [
    {
     "data": {
      "text/plain": [
       "{'login': 'ggobi',\n",
       " 'id': 423638,\n",
       " 'node_id': 'MDEyOk9yZ2FuaXphdGlvbjQyMzYzOA==',\n",
       " 'url': 'https://api.github.com/orgs/ggobi',\n",
       " 'repos_url': 'https://mylocalhost:5000/myapi/repos',\n",
       " 'events_url': 'https://api.github.com/orgs/ggobi/events',\n",
       " 'hooks_url': 'https://api.github.com/orgs/ggobi/hooks',\n",
       " 'issues_url': 'https://api.github.com/orgs/ggobi/issues',\n",
       " 'members_url': 'https://api.github.com/orgs/ggobi/members{/member}',\n",
       " 'public_members_url': 'https://api.github.com/orgs/ggobi/public_members{/member}',\n",
       " 'avatar_url': 'https://avatars.githubusercontent.com/u/423638?v=4',\n",
       " 'description': ''}"
      ]
     },
     "execution_count": 57,
     "metadata": {},
     "output_type": "execute_result"
    }
   ],
   "source": [
    "python_data[0]['repos_url'] = 'https://mylocalhost:5000/myapi/repos' # we can modify\n",
    "python_data[0]"
   ]
  },
  {
   "cell_type": "code",
   "execution_count": null,
   "id": "a9e6b537-419e-43d7-811f-0225a7749a9c",
   "metadata": {},
   "outputs": [],
   "source": [
    "# Task\n",
    "# 1. https://jsonplaceholder.typicode.com/todos/\n",
    "# download this url \n",
    "# 2. headers -> Content-Type\n",
    "# 3. text ->download json data to localVariable\n",
    "# 4. Convert to python\n",
    "# 5. pprint.pprint - display \n",
    "# |\n",
    "# 6. display nth data "
   ]
  },
  {
   "cell_type": "code",
   "execution_count": 60,
   "id": "41176fbe-d3aa-403b-b7c5-19fbd9b38fcb",
   "metadata": {},
   "outputs": [
    {
     "data": {
      "text/plain": [
       "'application/json; charset=utf-8'"
      ]
     },
     "execution_count": 60,
     "metadata": {},
     "output_type": "execute_result"
    }
   ],
   "source": [
    "URL = 'https://jsonplaceholder.typicode.com/todos/'\n",
    "\n",
    "r = requests.get(URL)\n",
    "r.headers['Content-Type']"
   ]
  },
  {
   "cell_type": "code",
   "execution_count": 61,
   "id": "d8ce8010-405d-476c-956d-ca2de19ac50a",
   "metadata": {},
   "outputs": [],
   "source": [
    "json_data = r.text"
   ]
  },
  {
   "cell_type": "code",
   "execution_count": 62,
   "id": "906ad1e1-682a-447a-b3c5-13d7fb9c55ed",
   "metadata": {
    "collapsed": true,
    "jupyter": {
     "outputs_hidden": true
    }
   },
   "outputs": [
    {
     "name": "stdout",
     "output_type": "stream",
     "text": [
      "[{'completed': False, 'id': 1, 'title': 'delectus aut autem', 'userId': 1},\n",
      " {'completed': False,\n",
      "  'id': 2,\n",
      "  'title': 'quis ut nam facilis et officia qui',\n",
      "  'userId': 1},\n",
      " {'completed': False, 'id': 3, 'title': 'fugiat veniam minus', 'userId': 1},\n",
      " {'completed': True, 'id': 4, 'title': 'et porro tempora', 'userId': 1},\n",
      " {'completed': False,\n",
      "  'id': 5,\n",
      "  'title': 'laboriosam mollitia et enim quasi adipisci quia provident illum',\n",
      "  'userId': 1},\n",
      " {'completed': False,\n",
      "  'id': 6,\n",
      "  'title': 'qui ullam ratione quibusdam voluptatem quia omnis',\n",
      "  'userId': 1},\n",
      " {'completed': False,\n",
      "  'id': 7,\n",
      "  'title': 'illo expedita consequatur quia in',\n",
      "  'userId': 1},\n",
      " {'completed': True,\n",
      "  'id': 8,\n",
      "  'title': 'quo adipisci enim quam ut ab',\n",
      "  'userId': 1},\n",
      " {'completed': False,\n",
      "  'id': 9,\n",
      "  'title': 'molestiae perspiciatis ipsa',\n",
      "  'userId': 1},\n",
      " {'completed': True,\n",
      "  'id': 10,\n",
      "  'title': 'illo est ratione doloremque quia maiores aut',\n",
      "  'userId': 1},\n",
      " {'completed': True,\n",
      "  'id': 11,\n",
      "  'title': 'vero rerum temporibus dolor',\n",
      "  'userId': 1},\n",
      " {'completed': True,\n",
      "  'id': 12,\n",
      "  'title': 'ipsa repellendus fugit nisi',\n",
      "  'userId': 1},\n",
      " {'completed': False, 'id': 13, 'title': 'et doloremque nulla', 'userId': 1},\n",
      " {'completed': True,\n",
      "  'id': 14,\n",
      "  'title': 'repellendus sunt dolores architecto voluptatum',\n",
      "  'userId': 1},\n",
      " {'completed': True,\n",
      "  'id': 15,\n",
      "  'title': 'ab voluptatum amet voluptas',\n",
      "  'userId': 1},\n",
      " {'completed': True,\n",
      "  'id': 16,\n",
      "  'title': 'accusamus eos facilis sint et aut voluptatem',\n",
      "  'userId': 1},\n",
      " {'completed': True,\n",
      "  'id': 17,\n",
      "  'title': 'quo laboriosam deleniti aut qui',\n",
      "  'userId': 1},\n",
      " {'completed': False,\n",
      "  'id': 18,\n",
      "  'title': 'dolorum est consequatur ea mollitia in culpa',\n",
      "  'userId': 1},\n",
      " {'completed': True,\n",
      "  'id': 19,\n",
      "  'title': 'molestiae ipsa aut voluptatibus pariatur dolor nihil',\n",
      "  'userId': 1},\n",
      " {'completed': True,\n",
      "  'id': 20,\n",
      "  'title': 'ullam nobis libero sapiente ad optio sint',\n",
      "  'userId': 1},\n",
      " {'completed': False,\n",
      "  'id': 21,\n",
      "  'title': 'suscipit repellat esse quibusdam voluptatem incidunt',\n",
      "  'userId': 2},\n",
      " {'completed': True,\n",
      "  'id': 22,\n",
      "  'title': 'distinctio vitae autem nihil ut molestias quo',\n",
      "  'userId': 2},\n",
      " {'completed': False,\n",
      "  'id': 23,\n",
      "  'title': 'et itaque necessitatibus maxime molestiae qui quas velit',\n",
      "  'userId': 2},\n",
      " {'completed': False,\n",
      "  'id': 24,\n",
      "  'title': 'adipisci non ad dicta qui amet quaerat doloribus ea',\n",
      "  'userId': 2},\n",
      " {'completed': True,\n",
      "  'id': 25,\n",
      "  'title': 'voluptas quo tenetur perspiciatis explicabo natus',\n",
      "  'userId': 2},\n",
      " {'completed': True, 'id': 26, 'title': 'aliquam aut quasi', 'userId': 2},\n",
      " {'completed': True,\n",
      "  'id': 27,\n",
      "  'title': 'veritatis pariatur delectus',\n",
      "  'userId': 2},\n",
      " {'completed': False,\n",
      "  'id': 28,\n",
      "  'title': 'nesciunt totam sit blanditiis sit',\n",
      "  'userId': 2},\n",
      " {'completed': False, 'id': 29, 'title': 'laborum aut in quam', 'userId': 2},\n",
      " {'completed': True,\n",
      "  'id': 30,\n",
      "  'title': 'nemo perspiciatis repellat ut dolor libero commodi blanditiis '\n",
      "           'omnis',\n",
      "  'userId': 2},\n",
      " {'completed': False,\n",
      "  'id': 31,\n",
      "  'title': 'repudiandae totam in est sint facere fuga',\n",
      "  'userId': 2},\n",
      " {'completed': False,\n",
      "  'id': 32,\n",
      "  'title': 'earum doloribus ea doloremque quis',\n",
      "  'userId': 2},\n",
      " {'completed': False, 'id': 33, 'title': 'sint sit aut vero', 'userId': 2},\n",
      " {'completed': False,\n",
      "  'id': 34,\n",
      "  'title': 'porro aut necessitatibus eaque distinctio',\n",
      "  'userId': 2},\n",
      " {'completed': True,\n",
      "  'id': 35,\n",
      "  'title': 'repellendus veritatis molestias dicta incidunt',\n",
      "  'userId': 2},\n",
      " {'completed': True,\n",
      "  'id': 36,\n",
      "  'title': 'excepturi deleniti adipisci voluptatem et neque optio illum ad',\n",
      "  'userId': 2},\n",
      " {'completed': False, 'id': 37, 'title': 'sunt cum tempora', 'userId': 2},\n",
      " {'completed': False, 'id': 38, 'title': 'totam quia non', 'userId': 2},\n",
      " {'completed': False,\n",
      "  'id': 39,\n",
      "  'title': 'doloremque quibusdam asperiores libero corrupti illum qui omnis',\n",
      "  'userId': 2},\n",
      " {'completed': True,\n",
      "  'id': 40,\n",
      "  'title': 'totam atque quo nesciunt',\n",
      "  'userId': 2},\n",
      " {'completed': False,\n",
      "  'id': 41,\n",
      "  'title': 'aliquid amet impedit consequatur aspernatur placeat eaque fugiat '\n",
      "           'suscipit',\n",
      "  'userId': 3},\n",
      " {'completed': False,\n",
      "  'id': 42,\n",
      "  'title': 'rerum perferendis error quia ut eveniet',\n",
      "  'userId': 3},\n",
      " {'completed': True,\n",
      "  'id': 43,\n",
      "  'title': 'tempore ut sint quis recusandae',\n",
      "  'userId': 3},\n",
      " {'completed': True,\n",
      "  'id': 44,\n",
      "  'title': 'cum debitis quis accusamus doloremque ipsa natus sapiente omnis',\n",
      "  'userId': 3},\n",
      " {'completed': False,\n",
      "  'id': 45,\n",
      "  'title': 'velit soluta adipisci molestias reiciendis harum',\n",
      "  'userId': 3},\n",
      " {'completed': False,\n",
      "  'id': 46,\n",
      "  'title': 'vel voluptatem repellat nihil placeat corporis',\n",
      "  'userId': 3},\n",
      " {'completed': False,\n",
      "  'id': 47,\n",
      "  'title': 'nam qui rerum fugiat accusamus',\n",
      "  'userId': 3},\n",
      " {'completed': False,\n",
      "  'id': 48,\n",
      "  'title': 'sit reprehenderit omnis quia',\n",
      "  'userId': 3},\n",
      " {'completed': False,\n",
      "  'id': 49,\n",
      "  'title': 'ut necessitatibus aut maiores debitis officia blanditiis velit et',\n",
      "  'userId': 3},\n",
      " {'completed': True,\n",
      "  'id': 50,\n",
      "  'title': 'cupiditate necessitatibus ullam aut quis dolor voluptate',\n",
      "  'userId': 3},\n",
      " {'completed': False,\n",
      "  'id': 51,\n",
      "  'title': 'distinctio exercitationem ab doloribus',\n",
      "  'userId': 3},\n",
      " {'completed': False,\n",
      "  'id': 52,\n",
      "  'title': 'nesciunt dolorum quis recusandae ad pariatur ratione',\n",
      "  'userId': 3},\n",
      " {'completed': False,\n",
      "  'id': 53,\n",
      "  'title': 'qui labore est occaecati recusandae aliquid quam',\n",
      "  'userId': 3},\n",
      " {'completed': True,\n",
      "  'id': 54,\n",
      "  'title': 'quis et est ut voluptate quam dolor',\n",
      "  'userId': 3},\n",
      " {'completed': True,\n",
      "  'id': 55,\n",
      "  'title': 'voluptatum omnis minima qui occaecati provident nulla voluptatem '\n",
      "           'ratione',\n",
      "  'userId': 3},\n",
      " {'completed': True,\n",
      "  'id': 56,\n",
      "  'title': 'deleniti ea temporibus enim',\n",
      "  'userId': 3},\n",
      " {'completed': False,\n",
      "  'id': 57,\n",
      "  'title': 'pariatur et magnam ea doloribus similique voluptatem rerum quia',\n",
      "  'userId': 3},\n",
      " {'completed': False,\n",
      "  'id': 58,\n",
      "  'title': 'est dicta totam qui explicabo doloribus qui dignissimos',\n",
      "  'userId': 3},\n",
      " {'completed': False,\n",
      "  'id': 59,\n",
      "  'title': 'perspiciatis velit id laborum placeat iusto et aliquam odio',\n",
      "  'userId': 3},\n",
      " {'completed': True,\n",
      "  'id': 60,\n",
      "  'title': 'et sequi qui architecto ut adipisci',\n",
      "  'userId': 3},\n",
      " {'completed': True,\n",
      "  'id': 61,\n",
      "  'title': 'odit optio omnis qui sunt',\n",
      "  'userId': 4},\n",
      " {'completed': False,\n",
      "  'id': 62,\n",
      "  'title': 'et placeat et tempore aspernatur sint numquam',\n",
      "  'userId': 4},\n",
      " {'completed': True,\n",
      "  'id': 63,\n",
      "  'title': 'doloremque aut dolores quidem fuga qui nulla',\n",
      "  'userId': 4},\n",
      " {'completed': False,\n",
      "  'id': 64,\n",
      "  'title': 'voluptas consequatur qui ut quia magnam nemo esse',\n",
      "  'userId': 4},\n",
      " {'completed': False,\n",
      "  'id': 65,\n",
      "  'title': 'fugiat pariatur ratione ut asperiores necessitatibus magni',\n",
      "  'userId': 4},\n",
      " {'completed': False,\n",
      "  'id': 66,\n",
      "  'title': 'rerum eum molestias autem voluptatum sit optio',\n",
      "  'userId': 4},\n",
      " {'completed': False,\n",
      "  'id': 67,\n",
      "  'title': 'quia voluptatibus voluptatem quos similique maiores repellat',\n",
      "  'userId': 4},\n",
      " {'completed': False,\n",
      "  'id': 68,\n",
      "  'title': 'aut id perspiciatis voluptatem iusto',\n",
      "  'userId': 4},\n",
      " {'completed': False,\n",
      "  'id': 69,\n",
      "  'title': 'doloribus sint dolorum ab adipisci itaque dignissimos aliquam '\n",
      "           'suscipit',\n",
      "  'userId': 4},\n",
      " {'completed': False,\n",
      "  'id': 70,\n",
      "  'title': 'ut sequi accusantium et mollitia delectus sunt',\n",
      "  'userId': 4},\n",
      " {'completed': False, 'id': 71, 'title': 'aut velit saepe ullam', 'userId': 4},\n",
      " {'completed': False,\n",
      "  'id': 72,\n",
      "  'title': 'praesentium facilis facere quis harum voluptatibus voluptatem eum',\n",
      "  'userId': 4},\n",
      " {'completed': True,\n",
      "  'id': 73,\n",
      "  'title': 'sint amet quia totam corporis qui exercitationem commodi',\n",
      "  'userId': 4},\n",
      " {'completed': False,\n",
      "  'id': 74,\n",
      "  'title': 'expedita tempore nobis eveniet laborum maiores',\n",
      "  'userId': 4},\n",
      " {'completed': False,\n",
      "  'id': 75,\n",
      "  'title': 'occaecati adipisci est possimus totam',\n",
      "  'userId': 4},\n",
      " {'completed': True, 'id': 76, 'title': 'sequi dolorem sed', 'userId': 4},\n",
      " {'completed': False,\n",
      "  'id': 77,\n",
      "  'title': 'maiores aut nesciunt delectus exercitationem vel assumenda '\n",
      "           'eligendi at',\n",
      "  'userId': 4},\n",
      " {'completed': False,\n",
      "  'id': 78,\n",
      "  'title': 'reiciendis est magnam amet nemo iste recusandae impedit quaerat',\n",
      "  'userId': 4},\n",
      " {'completed': True, 'id': 79, 'title': 'eum ipsa maxime ut', 'userId': 4},\n",
      " {'completed': True,\n",
      "  'id': 80,\n",
      "  'title': 'tempore molestias dolores rerum sequi voluptates ipsum consequatur',\n",
      "  'userId': 4},\n",
      " {'completed': True, 'id': 81, 'title': 'suscipit qui totam', 'userId': 5},\n",
      " {'completed': False,\n",
      "  'id': 82,\n",
      "  'title': 'voluptates eum voluptas et dicta',\n",
      "  'userId': 5},\n",
      " {'completed': True,\n",
      "  'id': 83,\n",
      "  'title': 'quidem at rerum quis ex aut sit quam',\n",
      "  'userId': 5},\n",
      " {'completed': False,\n",
      "  'id': 84,\n",
      "  'title': 'sunt veritatis ut voluptate',\n",
      "  'userId': 5},\n",
      " {'completed': True, 'id': 85, 'title': 'et quia ad iste a', 'userId': 5},\n",
      " {'completed': True, 'id': 86, 'title': 'incidunt ut saepe autem', 'userId': 5},\n",
      " {'completed': True,\n",
      "  'id': 87,\n",
      "  'title': 'laudantium quae eligendi consequatur quia et vero autem',\n",
      "  'userId': 5},\n",
      " {'completed': False,\n",
      "  'id': 88,\n",
      "  'title': 'vitae aut excepturi laboriosam sint aliquam et et accusantium',\n",
      "  'userId': 5},\n",
      " {'completed': True, 'id': 89, 'title': 'sequi ut omnis et', 'userId': 5},\n",
      " {'completed': True,\n",
      "  'id': 90,\n",
      "  'title': 'molestiae nisi accusantium tenetur dolorem et',\n",
      "  'userId': 5},\n",
      " {'completed': True,\n",
      "  'id': 91,\n",
      "  'title': 'nulla quis consequatur saepe qui id expedita',\n",
      "  'userId': 5},\n",
      " {'completed': True, 'id': 92, 'title': 'in omnis laboriosam', 'userId': 5},\n",
      " {'completed': True,\n",
      "  'id': 93,\n",
      "  'title': 'odio iure consequatur molestiae quibusdam necessitatibus quia sint',\n",
      "  'userId': 5},\n",
      " {'completed': False,\n",
      "  'id': 94,\n",
      "  'title': 'facilis modi saepe mollitia',\n",
      "  'userId': 5},\n",
      " {'completed': True,\n",
      "  'id': 95,\n",
      "  'title': 'vel nihil et molestiae iusto assumenda nemo quo ut',\n",
      "  'userId': 5},\n",
      " {'completed': False,\n",
      "  'id': 96,\n",
      "  'title': 'nobis suscipit ducimus enim asperiores voluptas',\n",
      "  'userId': 5},\n",
      " {'completed': False,\n",
      "  'id': 97,\n",
      "  'title': 'dolorum laboriosam eos qui iure aliquam',\n",
      "  'userId': 5},\n",
      " {'completed': True,\n",
      "  'id': 98,\n",
      "  'title': 'debitis accusantium ut quo facilis nihil quis sapiente '\n",
      "           'necessitatibus',\n",
      "  'userId': 5},\n",
      " {'completed': False,\n",
      "  'id': 99,\n",
      "  'title': 'neque voluptates ratione',\n",
      "  'userId': 5},\n",
      " {'completed': False,\n",
      "  'id': 100,\n",
      "  'title': 'excepturi a et neque qui expedita vel voluptate',\n",
      "  'userId': 5},\n",
      " {'completed': False,\n",
      "  'id': 101,\n",
      "  'title': 'explicabo enim cumque porro aperiam occaecati minima',\n",
      "  'userId': 6},\n",
      " {'completed': False, 'id': 102, 'title': 'sed ab consequatur', 'userId': 6},\n",
      " {'completed': False,\n",
      "  'id': 103,\n",
      "  'title': 'non sunt delectus illo nulla tenetur enim omnis',\n",
      "  'userId': 6},\n",
      " {'completed': False,\n",
      "  'id': 104,\n",
      "  'title': 'excepturi non laudantium quo',\n",
      "  'userId': 6},\n",
      " {'completed': True,\n",
      "  'id': 105,\n",
      "  'title': 'totam quia dolorem et illum repellat voluptas optio',\n",
      "  'userId': 6},\n",
      " {'completed': True,\n",
      "  'id': 106,\n",
      "  'title': 'ad illo quis voluptatem temporibus',\n",
      "  'userId': 6},\n",
      " {'completed': False,\n",
      "  'id': 107,\n",
      "  'title': 'praesentium facilis omnis laudantium fugit ad iusto nihil nesciunt',\n",
      "  'userId': 6},\n",
      " {'completed': True,\n",
      "  'id': 108,\n",
      "  'title': 'a eos eaque nihil et exercitationem incidunt delectus',\n",
      "  'userId': 6},\n",
      " {'completed': True,\n",
      "  'id': 109,\n",
      "  'title': 'autem temporibus harum quisquam in culpa',\n",
      "  'userId': 6},\n",
      " {'completed': True, 'id': 110, 'title': 'aut aut ea corporis', 'userId': 6},\n",
      " {'completed': False,\n",
      "  'id': 111,\n",
      "  'title': 'magni accusantium labore et id quis provident',\n",
      "  'userId': 6},\n",
      " {'completed': False,\n",
      "  'id': 112,\n",
      "  'title': 'consectetur impedit quisquam qui deserunt non rerum consequuntur '\n",
      "           'eius',\n",
      "  'userId': 6},\n",
      " {'completed': False,\n",
      "  'id': 113,\n",
      "  'title': 'quia atque aliquam sunt impedit voluptatum rerum assumenda nisi',\n",
      "  'userId': 6},\n",
      " {'completed': False,\n",
      "  'id': 114,\n",
      "  'title': 'cupiditate quos possimus corporis quisquam exercitationem beatae',\n",
      "  'userId': 6},\n",
      " {'completed': False, 'id': 115, 'title': 'sed et ea eum', 'userId': 6},\n",
      " {'completed': True,\n",
      "  'id': 116,\n",
      "  'title': 'ipsa dolores vel facilis ut',\n",
      "  'userId': 6},\n",
      " {'completed': False,\n",
      "  'id': 117,\n",
      "  'title': 'sequi quae est et qui qui eveniet asperiores',\n",
      "  'userId': 6},\n",
      " {'completed': False,\n",
      "  'id': 118,\n",
      "  'title': 'quia modi consequatur vero fugiat',\n",
      "  'userId': 6},\n",
      " {'completed': False,\n",
      "  'id': 119,\n",
      "  'title': 'corporis ducimus ea perspiciatis iste',\n",
      "  'userId': 6},\n",
      " {'completed': False,\n",
      "  'id': 120,\n",
      "  'title': 'dolorem laboriosam vel voluptas et aliquam quasi',\n",
      "  'userId': 6},\n",
      " {'completed': True,\n",
      "  'id': 121,\n",
      "  'title': 'inventore aut nihil minima laudantium hic qui omnis',\n",
      "  'userId': 7},\n",
      " {'completed': True,\n",
      "  'id': 122,\n",
      "  'title': 'provident aut nobis culpa',\n",
      "  'userId': 7},\n",
      " {'completed': False,\n",
      "  'id': 123,\n",
      "  'title': 'esse et quis iste est earum aut impedit',\n",
      "  'userId': 7},\n",
      " {'completed': False, 'id': 124, 'title': 'qui consectetur id', 'userId': 7},\n",
      " {'completed': False,\n",
      "  'id': 125,\n",
      "  'title': 'aut quasi autem iste tempore illum possimus',\n",
      "  'userId': 7},\n",
      " {'completed': True,\n",
      "  'id': 126,\n",
      "  'title': 'ut asperiores perspiciatis veniam ipsum rerum saepe',\n",
      "  'userId': 7},\n",
      " {'completed': True,\n",
      "  'id': 127,\n",
      "  'title': 'voluptatem libero consectetur rerum ut',\n",
      "  'userId': 7},\n",
      " {'completed': False,\n",
      "  'id': 128,\n",
      "  'title': 'eius omnis est qui voluptatem autem',\n",
      "  'userId': 7},\n",
      " {'completed': False,\n",
      "  'id': 129,\n",
      "  'title': 'rerum culpa quis harum',\n",
      "  'userId': 7},\n",
      " {'completed': True,\n",
      "  'id': 130,\n",
      "  'title': 'nulla aliquid eveniet harum laborum libero alias ut unde',\n",
      "  'userId': 7},\n",
      " {'completed': False, 'id': 131, 'title': 'qui ea incidunt quis', 'userId': 7},\n",
      " {'completed': True,\n",
      "  'id': 132,\n",
      "  'title': 'qui molestiae voluptatibus velit iure harum quisquam',\n",
      "  'userId': 7},\n",
      " {'completed': True,\n",
      "  'id': 133,\n",
      "  'title': 'et labore eos enim rerum consequatur sunt',\n",
      "  'userId': 7},\n",
      " {'completed': False,\n",
      "  'id': 134,\n",
      "  'title': 'molestiae doloribus et laborum quod ea',\n",
      "  'userId': 7},\n",
      " {'completed': False,\n",
      "  'id': 135,\n",
      "  'title': 'facere ipsa nam eum voluptates reiciendis vero qui',\n",
      "  'userId': 7},\n",
      " {'completed': False,\n",
      "  'id': 136,\n",
      "  'title': 'asperiores illo tempora fuga sed ut quasi adipisci',\n",
      "  'userId': 7},\n",
      " {'completed': False, 'id': 137, 'title': 'qui sit non', 'userId': 7},\n",
      " {'completed': True,\n",
      "  'id': 138,\n",
      "  'title': 'placeat minima consequatur rem qui ut',\n",
      "  'userId': 7},\n",
      " {'completed': False,\n",
      "  'id': 139,\n",
      "  'title': 'consequatur doloribus id possimus voluptas a voluptatem',\n",
      "  'userId': 7},\n",
      " {'completed': True,\n",
      "  'id': 140,\n",
      "  'title': 'aut consectetur in blanditiis deserunt quia sed laboriosam',\n",
      "  'userId': 7},\n",
      " {'completed': True,\n",
      "  'id': 141,\n",
      "  'title': 'explicabo consectetur debitis voluptates quas quae culpa rerum non',\n",
      "  'userId': 8},\n",
      " {'completed': True,\n",
      "  'id': 142,\n",
      "  'title': 'maiores accusantium architecto necessitatibus reiciendis ea aut',\n",
      "  'userId': 8},\n",
      " {'completed': False,\n",
      "  'id': 143,\n",
      "  'title': 'eum non recusandae cupiditate animi',\n",
      "  'userId': 8},\n",
      " {'completed': False,\n",
      "  'id': 144,\n",
      "  'title': 'ut eum exercitationem sint',\n",
      "  'userId': 8},\n",
      " {'completed': False,\n",
      "  'id': 145,\n",
      "  'title': 'beatae qui ullam incidunt voluptatem non nisi aliquam',\n",
      "  'userId': 8},\n",
      " {'completed': True,\n",
      "  'id': 146,\n",
      "  'title': 'molestiae suscipit ratione nihil odio libero impedit vero totam',\n",
      "  'userId': 8},\n",
      " {'completed': True,\n",
      "  'id': 147,\n",
      "  'title': 'eum itaque quod reprehenderit et facilis dolor autem ut',\n",
      "  'userId': 8},\n",
      " {'completed': False,\n",
      "  'id': 148,\n",
      "  'title': 'esse quas et quo quasi exercitationem',\n",
      "  'userId': 8},\n",
      " {'completed': False,\n",
      "  'id': 149,\n",
      "  'title': 'animi voluptas quod perferendis est',\n",
      "  'userId': 8},\n",
      " {'completed': False,\n",
      "  'id': 150,\n",
      "  'title': 'eos amet tempore laudantium fugit a',\n",
      "  'userId': 8},\n",
      " {'completed': True,\n",
      "  'id': 151,\n",
      "  'title': 'accusamus adipisci dicta qui quo ea explicabo sed vero',\n",
      "  'userId': 8},\n",
      " {'completed': False,\n",
      "  'id': 152,\n",
      "  'title': 'odit eligendi recusandae doloremque cumque non',\n",
      "  'userId': 8},\n",
      " {'completed': False,\n",
      "  'id': 153,\n",
      "  'title': 'ea aperiam consequatur qui repellat eos',\n",
      "  'userId': 8},\n",
      " {'completed': True, 'id': 154, 'title': 'rerum non ex sapiente', 'userId': 8},\n",
      " {'completed': True,\n",
      "  'id': 155,\n",
      "  'title': 'voluptatem nobis consequatur et assumenda magnam',\n",
      "  'userId': 8},\n",
      " {'completed': True,\n",
      "  'id': 156,\n",
      "  'title': 'nam quia quia nulla repellat assumenda quibusdam sit nobis',\n",
      "  'userId': 8},\n",
      " {'completed': True,\n",
      "  'id': 157,\n",
      "  'title': 'dolorem veniam quisquam deserunt repellendus',\n",
      "  'userId': 8},\n",
      " {'completed': True,\n",
      "  'id': 158,\n",
      "  'title': 'debitis vitae delectus et harum accusamus aut deleniti a',\n",
      "  'userId': 8},\n",
      " {'completed': True,\n",
      "  'id': 159,\n",
      "  'title': 'debitis adipisci quibusdam aliquam sed dolore ea praesentium nobis',\n",
      "  'userId': 8},\n",
      " {'completed': False,\n",
      "  'id': 160,\n",
      "  'title': 'et praesentium aliquam est',\n",
      "  'userId': 8},\n",
      " {'completed': True,\n",
      "  'id': 161,\n",
      "  'title': 'ex hic consequuntur earum omnis alias ut occaecati culpa',\n",
      "  'userId': 9},\n",
      " {'completed': True,\n",
      "  'id': 162,\n",
      "  'title': 'omnis laboriosam molestias animi sunt dolore',\n",
      "  'userId': 9},\n",
      " {'completed': False,\n",
      "  'id': 163,\n",
      "  'title': 'natus corrupti maxime laudantium et voluptatem laboriosam odit',\n",
      "  'userId': 9},\n",
      " {'completed': False,\n",
      "  'id': 164,\n",
      "  'title': 'reprehenderit quos aut aut consequatur est sed',\n",
      "  'userId': 9},\n",
      " {'completed': False,\n",
      "  'id': 165,\n",
      "  'title': 'fugiat perferendis sed aut quidem',\n",
      "  'userId': 9},\n",
      " {'completed': False,\n",
      "  'id': 166,\n",
      "  'title': 'quos quo possimus suscipit minima ut',\n",
      "  'userId': 9},\n",
      " {'completed': False,\n",
      "  'id': 167,\n",
      "  'title': 'et quis minus quo a asperiores molestiae',\n",
      "  'userId': 9},\n",
      " {'completed': False,\n",
      "  'id': 168,\n",
      "  'title': 'recusandae quia qui sunt libero',\n",
      "  'userId': 9},\n",
      " {'completed': True,\n",
      "  'id': 169,\n",
      "  'title': 'ea odio perferendis officiis',\n",
      "  'userId': 9},\n",
      " {'completed': False,\n",
      "  'id': 170,\n",
      "  'title': 'quisquam aliquam quia doloribus aut',\n",
      "  'userId': 9},\n",
      " {'completed': True,\n",
      "  'id': 171,\n",
      "  'title': 'fugiat aut voluptatibus corrupti deleniti velit iste odio',\n",
      "  'userId': 9},\n",
      " {'completed': False,\n",
      "  'id': 172,\n",
      "  'title': 'et provident amet rerum consectetur et voluptatum',\n",
      "  'userId': 9},\n",
      " {'completed': False, 'id': 173, 'title': 'harum ad aperiam quis', 'userId': 9},\n",
      " {'completed': False, 'id': 174, 'title': 'similique aut quo', 'userId': 9},\n",
      " {'completed': True,\n",
      "  'id': 175,\n",
      "  'title': 'laudantium eius officia perferendis provident perspiciatis '\n",
      "           'asperiores',\n",
      "  'userId': 9},\n",
      " {'completed': False,\n",
      "  'id': 176,\n",
      "  'title': 'magni soluta corrupti ut maiores rem quidem',\n",
      "  'userId': 9},\n",
      " {'completed': False,\n",
      "  'id': 177,\n",
      "  'title': 'et placeat temporibus voluptas est tempora quos quibusdam',\n",
      "  'userId': 9},\n",
      " {'completed': True,\n",
      "  'id': 178,\n",
      "  'title': 'nesciunt itaque commodi tempore',\n",
      "  'userId': 9},\n",
      " {'completed': True,\n",
      "  'id': 179,\n",
      "  'title': 'omnis consequuntur cupiditate impedit itaque ipsam quo',\n",
      "  'userId': 9},\n",
      " {'completed': True,\n",
      "  'id': 180,\n",
      "  'title': 'debitis nisi et dolorem repellat et',\n",
      "  'userId': 9},\n",
      " {'completed': False,\n",
      "  'id': 181,\n",
      "  'title': 'ut cupiditate sequi aliquam fuga maiores',\n",
      "  'userId': 10},\n",
      " {'completed': True,\n",
      "  'id': 182,\n",
      "  'title': 'inventore saepe cumque et aut illum enim',\n",
      "  'userId': 10},\n",
      " {'completed': True,\n",
      "  'id': 183,\n",
      "  'title': 'omnis nulla eum aliquam distinctio',\n",
      "  'userId': 10},\n",
      " {'completed': False,\n",
      "  'id': 184,\n",
      "  'title': 'molestias modi perferendis perspiciatis',\n",
      "  'userId': 10},\n",
      " {'completed': False,\n",
      "  'id': 185,\n",
      "  'title': 'voluptates dignissimos sed doloribus animi quaerat aut',\n",
      "  'userId': 10},\n",
      " {'completed': False,\n",
      "  'id': 186,\n",
      "  'title': 'explicabo odio est et',\n",
      "  'userId': 10},\n",
      " {'completed': False,\n",
      "  'id': 187,\n",
      "  'title': 'consequuntur animi possimus',\n",
      "  'userId': 10},\n",
      " {'completed': True, 'id': 188, 'title': 'vel non beatae est', 'userId': 10},\n",
      " {'completed': True,\n",
      "  'id': 189,\n",
      "  'title': 'culpa eius et voluptatem et',\n",
      "  'userId': 10},\n",
      " {'completed': True,\n",
      "  'id': 190,\n",
      "  'title': 'accusamus sint iusto et voluptatem exercitationem',\n",
      "  'userId': 10},\n",
      " {'completed': True,\n",
      "  'id': 191,\n",
      "  'title': 'temporibus atque distinctio omnis eius impedit tempore molestias '\n",
      "           'pariatur',\n",
      "  'userId': 10},\n",
      " {'completed': False,\n",
      "  'id': 192,\n",
      "  'title': 'ut quas possimus exercitationem sint voluptates',\n",
      "  'userId': 10},\n",
      " {'completed': True,\n",
      "  'id': 193,\n",
      "  'title': 'rerum debitis voluptatem qui eveniet tempora distinctio a',\n",
      "  'userId': 10},\n",
      " {'completed': False,\n",
      "  'id': 194,\n",
      "  'title': 'sed ut vero sit molestiae',\n",
      "  'userId': 10},\n",
      " {'completed': True,\n",
      "  'id': 195,\n",
      "  'title': 'rerum ex veniam mollitia voluptatibus pariatur',\n",
      "  'userId': 10},\n",
      " {'completed': True,\n",
      "  'id': 196,\n",
      "  'title': 'consequuntur aut ut fugit similique',\n",
      "  'userId': 10},\n",
      " {'completed': True,\n",
      "  'id': 197,\n",
      "  'title': 'dignissimos quo nobis earum saepe',\n",
      "  'userId': 10},\n",
      " {'completed': True,\n",
      "  'id': 198,\n",
      "  'title': 'quis eius est sint explicabo',\n",
      "  'userId': 10},\n",
      " {'completed': True,\n",
      "  'id': 199,\n",
      "  'title': 'numquam repellendus a magnam',\n",
      "  'userId': 10},\n",
      " {'completed': False,\n",
      "  'id': 200,\n",
      "  'title': 'ipsam aperiam voluptates qui',\n",
      "  'userId': 10}]\n"
     ]
    }
   ],
   "source": [
    "python_Data = json.loads(json_data)\n",
    "pprint.pprint(python_Data)"
   ]
  },
  {
   "cell_type": "code",
   "execution_count": 64,
   "id": "e9011dc6-aad7-4dd5-b14c-92d8066c1386",
   "metadata": {},
   "outputs": [
    {
     "data": {
      "text/plain": [
       "'delectus aut autem'"
      ]
     },
     "execution_count": 64,
     "metadata": {},
     "output_type": "execute_result"
    }
   ],
   "source": [
    "python_Data[0]['title']"
   ]
  },
  {
   "cell_type": "code",
   "execution_count": 65,
   "id": "faf27194-40d8-4db6-bd06-47d36fc9c14f",
   "metadata": {},
   "outputs": [],
   "source": [
    "python_Data[0]['title'] = \"Sample-Test\" # we can modify"
   ]
  },
  {
   "cell_type": "code",
   "execution_count": 66,
   "id": "ff8ded4e-9096-45ca-b8d4-552e178a4a1d",
   "metadata": {},
   "outputs": [
    {
     "data": {
      "text/plain": [
       "[{'userId': 1, 'id': 1, 'title': 'Sample-Test', 'completed': False},\n",
       " {'userId': 1,\n",
       "  'id': 2,\n",
       "  'title': 'quis ut nam facilis et officia qui',\n",
       "  'completed': False},\n",
       " {'userId': 1, 'id': 3, 'title': 'fugiat veniam minus', 'completed': False},\n",
       " {'userId': 1, 'id': 4, 'title': 'et porro tempora', 'completed': True},\n",
       " {'userId': 1,\n",
       "  'id': 5,\n",
       "  'title': 'laboriosam mollitia et enim quasi adipisci quia provident illum',\n",
       "  'completed': False},\n",
       " {'userId': 1,\n",
       "  'id': 6,\n",
       "  'title': 'qui ullam ratione quibusdam voluptatem quia omnis',\n",
       "  'completed': False},\n",
       " {'userId': 1,\n",
       "  'id': 7,\n",
       "  'title': 'illo expedita consequatur quia in',\n",
       "  'completed': False},\n",
       " {'userId': 1,\n",
       "  'id': 8,\n",
       "  'title': 'quo adipisci enim quam ut ab',\n",
       "  'completed': True},\n",
       " {'userId': 1,\n",
       "  'id': 9,\n",
       "  'title': 'molestiae perspiciatis ipsa',\n",
       "  'completed': False},\n",
       " {'userId': 1,\n",
       "  'id': 10,\n",
       "  'title': 'illo est ratione doloremque quia maiores aut',\n",
       "  'completed': True},\n",
       " {'userId': 1,\n",
       "  'id': 11,\n",
       "  'title': 'vero rerum temporibus dolor',\n",
       "  'completed': True},\n",
       " {'userId': 1,\n",
       "  'id': 12,\n",
       "  'title': 'ipsa repellendus fugit nisi',\n",
       "  'completed': True},\n",
       " {'userId': 1, 'id': 13, 'title': 'et doloremque nulla', 'completed': False},\n",
       " {'userId': 1,\n",
       "  'id': 14,\n",
       "  'title': 'repellendus sunt dolores architecto voluptatum',\n",
       "  'completed': True},\n",
       " {'userId': 1,\n",
       "  'id': 15,\n",
       "  'title': 'ab voluptatum amet voluptas',\n",
       "  'completed': True},\n",
       " {'userId': 1,\n",
       "  'id': 16,\n",
       "  'title': 'accusamus eos facilis sint et aut voluptatem',\n",
       "  'completed': True},\n",
       " {'userId': 1,\n",
       "  'id': 17,\n",
       "  'title': 'quo laboriosam deleniti aut qui',\n",
       "  'completed': True},\n",
       " {'userId': 1,\n",
       "  'id': 18,\n",
       "  'title': 'dolorum est consequatur ea mollitia in culpa',\n",
       "  'completed': False},\n",
       " {'userId': 1,\n",
       "  'id': 19,\n",
       "  'title': 'molestiae ipsa aut voluptatibus pariatur dolor nihil',\n",
       "  'completed': True},\n",
       " {'userId': 1,\n",
       "  'id': 20,\n",
       "  'title': 'ullam nobis libero sapiente ad optio sint',\n",
       "  'completed': True},\n",
       " {'userId': 2,\n",
       "  'id': 21,\n",
       "  'title': 'suscipit repellat esse quibusdam voluptatem incidunt',\n",
       "  'completed': False},\n",
       " {'userId': 2,\n",
       "  'id': 22,\n",
       "  'title': 'distinctio vitae autem nihil ut molestias quo',\n",
       "  'completed': True},\n",
       " {'userId': 2,\n",
       "  'id': 23,\n",
       "  'title': 'et itaque necessitatibus maxime molestiae qui quas velit',\n",
       "  'completed': False},\n",
       " {'userId': 2,\n",
       "  'id': 24,\n",
       "  'title': 'adipisci non ad dicta qui amet quaerat doloribus ea',\n",
       "  'completed': False},\n",
       " {'userId': 2,\n",
       "  'id': 25,\n",
       "  'title': 'voluptas quo tenetur perspiciatis explicabo natus',\n",
       "  'completed': True},\n",
       " {'userId': 2, 'id': 26, 'title': 'aliquam aut quasi', 'completed': True},\n",
       " {'userId': 2,\n",
       "  'id': 27,\n",
       "  'title': 'veritatis pariatur delectus',\n",
       "  'completed': True},\n",
       " {'userId': 2,\n",
       "  'id': 28,\n",
       "  'title': 'nesciunt totam sit blanditiis sit',\n",
       "  'completed': False},\n",
       " {'userId': 2, 'id': 29, 'title': 'laborum aut in quam', 'completed': False},\n",
       " {'userId': 2,\n",
       "  'id': 30,\n",
       "  'title': 'nemo perspiciatis repellat ut dolor libero commodi blanditiis omnis',\n",
       "  'completed': True},\n",
       " {'userId': 2,\n",
       "  'id': 31,\n",
       "  'title': 'repudiandae totam in est sint facere fuga',\n",
       "  'completed': False},\n",
       " {'userId': 2,\n",
       "  'id': 32,\n",
       "  'title': 'earum doloribus ea doloremque quis',\n",
       "  'completed': False},\n",
       " {'userId': 2, 'id': 33, 'title': 'sint sit aut vero', 'completed': False},\n",
       " {'userId': 2,\n",
       "  'id': 34,\n",
       "  'title': 'porro aut necessitatibus eaque distinctio',\n",
       "  'completed': False},\n",
       " {'userId': 2,\n",
       "  'id': 35,\n",
       "  'title': 'repellendus veritatis molestias dicta incidunt',\n",
       "  'completed': True},\n",
       " {'userId': 2,\n",
       "  'id': 36,\n",
       "  'title': 'excepturi deleniti adipisci voluptatem et neque optio illum ad',\n",
       "  'completed': True},\n",
       " {'userId': 2, 'id': 37, 'title': 'sunt cum tempora', 'completed': False},\n",
       " {'userId': 2, 'id': 38, 'title': 'totam quia non', 'completed': False},\n",
       " {'userId': 2,\n",
       "  'id': 39,\n",
       "  'title': 'doloremque quibusdam asperiores libero corrupti illum qui omnis',\n",
       "  'completed': False},\n",
       " {'userId': 2,\n",
       "  'id': 40,\n",
       "  'title': 'totam atque quo nesciunt',\n",
       "  'completed': True},\n",
       " {'userId': 3,\n",
       "  'id': 41,\n",
       "  'title': 'aliquid amet impedit consequatur aspernatur placeat eaque fugiat suscipit',\n",
       "  'completed': False},\n",
       " {'userId': 3,\n",
       "  'id': 42,\n",
       "  'title': 'rerum perferendis error quia ut eveniet',\n",
       "  'completed': False},\n",
       " {'userId': 3,\n",
       "  'id': 43,\n",
       "  'title': 'tempore ut sint quis recusandae',\n",
       "  'completed': True},\n",
       " {'userId': 3,\n",
       "  'id': 44,\n",
       "  'title': 'cum debitis quis accusamus doloremque ipsa natus sapiente omnis',\n",
       "  'completed': True},\n",
       " {'userId': 3,\n",
       "  'id': 45,\n",
       "  'title': 'velit soluta adipisci molestias reiciendis harum',\n",
       "  'completed': False},\n",
       " {'userId': 3,\n",
       "  'id': 46,\n",
       "  'title': 'vel voluptatem repellat nihil placeat corporis',\n",
       "  'completed': False},\n",
       " {'userId': 3,\n",
       "  'id': 47,\n",
       "  'title': 'nam qui rerum fugiat accusamus',\n",
       "  'completed': False},\n",
       " {'userId': 3,\n",
       "  'id': 48,\n",
       "  'title': 'sit reprehenderit omnis quia',\n",
       "  'completed': False},\n",
       " {'userId': 3,\n",
       "  'id': 49,\n",
       "  'title': 'ut necessitatibus aut maiores debitis officia blanditiis velit et',\n",
       "  'completed': False},\n",
       " {'userId': 3,\n",
       "  'id': 50,\n",
       "  'title': 'cupiditate necessitatibus ullam aut quis dolor voluptate',\n",
       "  'completed': True},\n",
       " {'userId': 3,\n",
       "  'id': 51,\n",
       "  'title': 'distinctio exercitationem ab doloribus',\n",
       "  'completed': False},\n",
       " {'userId': 3,\n",
       "  'id': 52,\n",
       "  'title': 'nesciunt dolorum quis recusandae ad pariatur ratione',\n",
       "  'completed': False},\n",
       " {'userId': 3,\n",
       "  'id': 53,\n",
       "  'title': 'qui labore est occaecati recusandae aliquid quam',\n",
       "  'completed': False},\n",
       " {'userId': 3,\n",
       "  'id': 54,\n",
       "  'title': 'quis et est ut voluptate quam dolor',\n",
       "  'completed': True},\n",
       " {'userId': 3,\n",
       "  'id': 55,\n",
       "  'title': 'voluptatum omnis minima qui occaecati provident nulla voluptatem ratione',\n",
       "  'completed': True},\n",
       " {'userId': 3,\n",
       "  'id': 56,\n",
       "  'title': 'deleniti ea temporibus enim',\n",
       "  'completed': True},\n",
       " {'userId': 3,\n",
       "  'id': 57,\n",
       "  'title': 'pariatur et magnam ea doloribus similique voluptatem rerum quia',\n",
       "  'completed': False},\n",
       " {'userId': 3,\n",
       "  'id': 58,\n",
       "  'title': 'est dicta totam qui explicabo doloribus qui dignissimos',\n",
       "  'completed': False},\n",
       " {'userId': 3,\n",
       "  'id': 59,\n",
       "  'title': 'perspiciatis velit id laborum placeat iusto et aliquam odio',\n",
       "  'completed': False},\n",
       " {'userId': 3,\n",
       "  'id': 60,\n",
       "  'title': 'et sequi qui architecto ut adipisci',\n",
       "  'completed': True},\n",
       " {'userId': 4,\n",
       "  'id': 61,\n",
       "  'title': 'odit optio omnis qui sunt',\n",
       "  'completed': True},\n",
       " {'userId': 4,\n",
       "  'id': 62,\n",
       "  'title': 'et placeat et tempore aspernatur sint numquam',\n",
       "  'completed': False},\n",
       " {'userId': 4,\n",
       "  'id': 63,\n",
       "  'title': 'doloremque aut dolores quidem fuga qui nulla',\n",
       "  'completed': True},\n",
       " {'userId': 4,\n",
       "  'id': 64,\n",
       "  'title': 'voluptas consequatur qui ut quia magnam nemo esse',\n",
       "  'completed': False},\n",
       " {'userId': 4,\n",
       "  'id': 65,\n",
       "  'title': 'fugiat pariatur ratione ut asperiores necessitatibus magni',\n",
       "  'completed': False},\n",
       " {'userId': 4,\n",
       "  'id': 66,\n",
       "  'title': 'rerum eum molestias autem voluptatum sit optio',\n",
       "  'completed': False},\n",
       " {'userId': 4,\n",
       "  'id': 67,\n",
       "  'title': 'quia voluptatibus voluptatem quos similique maiores repellat',\n",
       "  'completed': False},\n",
       " {'userId': 4,\n",
       "  'id': 68,\n",
       "  'title': 'aut id perspiciatis voluptatem iusto',\n",
       "  'completed': False},\n",
       " {'userId': 4,\n",
       "  'id': 69,\n",
       "  'title': 'doloribus sint dolorum ab adipisci itaque dignissimos aliquam suscipit',\n",
       "  'completed': False},\n",
       " {'userId': 4,\n",
       "  'id': 70,\n",
       "  'title': 'ut sequi accusantium et mollitia delectus sunt',\n",
       "  'completed': False},\n",
       " {'userId': 4, 'id': 71, 'title': 'aut velit saepe ullam', 'completed': False},\n",
       " {'userId': 4,\n",
       "  'id': 72,\n",
       "  'title': 'praesentium facilis facere quis harum voluptatibus voluptatem eum',\n",
       "  'completed': False},\n",
       " {'userId': 4,\n",
       "  'id': 73,\n",
       "  'title': 'sint amet quia totam corporis qui exercitationem commodi',\n",
       "  'completed': True},\n",
       " {'userId': 4,\n",
       "  'id': 74,\n",
       "  'title': 'expedita tempore nobis eveniet laborum maiores',\n",
       "  'completed': False},\n",
       " {'userId': 4,\n",
       "  'id': 75,\n",
       "  'title': 'occaecati adipisci est possimus totam',\n",
       "  'completed': False},\n",
       " {'userId': 4, 'id': 76, 'title': 'sequi dolorem sed', 'completed': True},\n",
       " {'userId': 4,\n",
       "  'id': 77,\n",
       "  'title': 'maiores aut nesciunt delectus exercitationem vel assumenda eligendi at',\n",
       "  'completed': False},\n",
       " {'userId': 4,\n",
       "  'id': 78,\n",
       "  'title': 'reiciendis est magnam amet nemo iste recusandae impedit quaerat',\n",
       "  'completed': False},\n",
       " {'userId': 4, 'id': 79, 'title': 'eum ipsa maxime ut', 'completed': True},\n",
       " {'userId': 4,\n",
       "  'id': 80,\n",
       "  'title': 'tempore molestias dolores rerum sequi voluptates ipsum consequatur',\n",
       "  'completed': True},\n",
       " {'userId': 5, 'id': 81, 'title': 'suscipit qui totam', 'completed': True},\n",
       " {'userId': 5,\n",
       "  'id': 82,\n",
       "  'title': 'voluptates eum voluptas et dicta',\n",
       "  'completed': False},\n",
       " {'userId': 5,\n",
       "  'id': 83,\n",
       "  'title': 'quidem at rerum quis ex aut sit quam',\n",
       "  'completed': True},\n",
       " {'userId': 5,\n",
       "  'id': 84,\n",
       "  'title': 'sunt veritatis ut voluptate',\n",
       "  'completed': False},\n",
       " {'userId': 5, 'id': 85, 'title': 'et quia ad iste a', 'completed': True},\n",
       " {'userId': 5,\n",
       "  'id': 86,\n",
       "  'title': 'incidunt ut saepe autem',\n",
       "  'completed': True},\n",
       " {'userId': 5,\n",
       "  'id': 87,\n",
       "  'title': 'laudantium quae eligendi consequatur quia et vero autem',\n",
       "  'completed': True},\n",
       " {'userId': 5,\n",
       "  'id': 88,\n",
       "  'title': 'vitae aut excepturi laboriosam sint aliquam et et accusantium',\n",
       "  'completed': False},\n",
       " {'userId': 5, 'id': 89, 'title': 'sequi ut omnis et', 'completed': True},\n",
       " {'userId': 5,\n",
       "  'id': 90,\n",
       "  'title': 'molestiae nisi accusantium tenetur dolorem et',\n",
       "  'completed': True},\n",
       " {'userId': 5,\n",
       "  'id': 91,\n",
       "  'title': 'nulla quis consequatur saepe qui id expedita',\n",
       "  'completed': True},\n",
       " {'userId': 5, 'id': 92, 'title': 'in omnis laboriosam', 'completed': True},\n",
       " {'userId': 5,\n",
       "  'id': 93,\n",
       "  'title': 'odio iure consequatur molestiae quibusdam necessitatibus quia sint',\n",
       "  'completed': True},\n",
       " {'userId': 5,\n",
       "  'id': 94,\n",
       "  'title': 'facilis modi saepe mollitia',\n",
       "  'completed': False},\n",
       " {'userId': 5,\n",
       "  'id': 95,\n",
       "  'title': 'vel nihil et molestiae iusto assumenda nemo quo ut',\n",
       "  'completed': True},\n",
       " {'userId': 5,\n",
       "  'id': 96,\n",
       "  'title': 'nobis suscipit ducimus enim asperiores voluptas',\n",
       "  'completed': False},\n",
       " {'userId': 5,\n",
       "  'id': 97,\n",
       "  'title': 'dolorum laboriosam eos qui iure aliquam',\n",
       "  'completed': False},\n",
       " {'userId': 5,\n",
       "  'id': 98,\n",
       "  'title': 'debitis accusantium ut quo facilis nihil quis sapiente necessitatibus',\n",
       "  'completed': True},\n",
       " {'userId': 5,\n",
       "  'id': 99,\n",
       "  'title': 'neque voluptates ratione',\n",
       "  'completed': False},\n",
       " {'userId': 5,\n",
       "  'id': 100,\n",
       "  'title': 'excepturi a et neque qui expedita vel voluptate',\n",
       "  'completed': False},\n",
       " {'userId': 6,\n",
       "  'id': 101,\n",
       "  'title': 'explicabo enim cumque porro aperiam occaecati minima',\n",
       "  'completed': False},\n",
       " {'userId': 6, 'id': 102, 'title': 'sed ab consequatur', 'completed': False},\n",
       " {'userId': 6,\n",
       "  'id': 103,\n",
       "  'title': 'non sunt delectus illo nulla tenetur enim omnis',\n",
       "  'completed': False},\n",
       " {'userId': 6,\n",
       "  'id': 104,\n",
       "  'title': 'excepturi non laudantium quo',\n",
       "  'completed': False},\n",
       " {'userId': 6,\n",
       "  'id': 105,\n",
       "  'title': 'totam quia dolorem et illum repellat voluptas optio',\n",
       "  'completed': True},\n",
       " {'userId': 6,\n",
       "  'id': 106,\n",
       "  'title': 'ad illo quis voluptatem temporibus',\n",
       "  'completed': True},\n",
       " {'userId': 6,\n",
       "  'id': 107,\n",
       "  'title': 'praesentium facilis omnis laudantium fugit ad iusto nihil nesciunt',\n",
       "  'completed': False},\n",
       " {'userId': 6,\n",
       "  'id': 108,\n",
       "  'title': 'a eos eaque nihil et exercitationem incidunt delectus',\n",
       "  'completed': True},\n",
       " {'userId': 6,\n",
       "  'id': 109,\n",
       "  'title': 'autem temporibus harum quisquam in culpa',\n",
       "  'completed': True},\n",
       " {'userId': 6, 'id': 110, 'title': 'aut aut ea corporis', 'completed': True},\n",
       " {'userId': 6,\n",
       "  'id': 111,\n",
       "  'title': 'magni accusantium labore et id quis provident',\n",
       "  'completed': False},\n",
       " {'userId': 6,\n",
       "  'id': 112,\n",
       "  'title': 'consectetur impedit quisquam qui deserunt non rerum consequuntur eius',\n",
       "  'completed': False},\n",
       " {'userId': 6,\n",
       "  'id': 113,\n",
       "  'title': 'quia atque aliquam sunt impedit voluptatum rerum assumenda nisi',\n",
       "  'completed': False},\n",
       " {'userId': 6,\n",
       "  'id': 114,\n",
       "  'title': 'cupiditate quos possimus corporis quisquam exercitationem beatae',\n",
       "  'completed': False},\n",
       " {'userId': 6, 'id': 115, 'title': 'sed et ea eum', 'completed': False},\n",
       " {'userId': 6,\n",
       "  'id': 116,\n",
       "  'title': 'ipsa dolores vel facilis ut',\n",
       "  'completed': True},\n",
       " {'userId': 6,\n",
       "  'id': 117,\n",
       "  'title': 'sequi quae est et qui qui eveniet asperiores',\n",
       "  'completed': False},\n",
       " {'userId': 6,\n",
       "  'id': 118,\n",
       "  'title': 'quia modi consequatur vero fugiat',\n",
       "  'completed': False},\n",
       " {'userId': 6,\n",
       "  'id': 119,\n",
       "  'title': 'corporis ducimus ea perspiciatis iste',\n",
       "  'completed': False},\n",
       " {'userId': 6,\n",
       "  'id': 120,\n",
       "  'title': 'dolorem laboriosam vel voluptas et aliquam quasi',\n",
       "  'completed': False},\n",
       " {'userId': 7,\n",
       "  'id': 121,\n",
       "  'title': 'inventore aut nihil minima laudantium hic qui omnis',\n",
       "  'completed': True},\n",
       " {'userId': 7,\n",
       "  'id': 122,\n",
       "  'title': 'provident aut nobis culpa',\n",
       "  'completed': True},\n",
       " {'userId': 7,\n",
       "  'id': 123,\n",
       "  'title': 'esse et quis iste est earum aut impedit',\n",
       "  'completed': False},\n",
       " {'userId': 7, 'id': 124, 'title': 'qui consectetur id', 'completed': False},\n",
       " {'userId': 7,\n",
       "  'id': 125,\n",
       "  'title': 'aut quasi autem iste tempore illum possimus',\n",
       "  'completed': False},\n",
       " {'userId': 7,\n",
       "  'id': 126,\n",
       "  'title': 'ut asperiores perspiciatis veniam ipsum rerum saepe',\n",
       "  'completed': True},\n",
       " {'userId': 7,\n",
       "  'id': 127,\n",
       "  'title': 'voluptatem libero consectetur rerum ut',\n",
       "  'completed': True},\n",
       " {'userId': 7,\n",
       "  'id': 128,\n",
       "  'title': 'eius omnis est qui voluptatem autem',\n",
       "  'completed': False},\n",
       " {'userId': 7,\n",
       "  'id': 129,\n",
       "  'title': 'rerum culpa quis harum',\n",
       "  'completed': False},\n",
       " {'userId': 7,\n",
       "  'id': 130,\n",
       "  'title': 'nulla aliquid eveniet harum laborum libero alias ut unde',\n",
       "  'completed': True},\n",
       " {'userId': 7, 'id': 131, 'title': 'qui ea incidunt quis', 'completed': False},\n",
       " {'userId': 7,\n",
       "  'id': 132,\n",
       "  'title': 'qui molestiae voluptatibus velit iure harum quisquam',\n",
       "  'completed': True},\n",
       " {'userId': 7,\n",
       "  'id': 133,\n",
       "  'title': 'et labore eos enim rerum consequatur sunt',\n",
       "  'completed': True},\n",
       " {'userId': 7,\n",
       "  'id': 134,\n",
       "  'title': 'molestiae doloribus et laborum quod ea',\n",
       "  'completed': False},\n",
       " {'userId': 7,\n",
       "  'id': 135,\n",
       "  'title': 'facere ipsa nam eum voluptates reiciendis vero qui',\n",
       "  'completed': False},\n",
       " {'userId': 7,\n",
       "  'id': 136,\n",
       "  'title': 'asperiores illo tempora fuga sed ut quasi adipisci',\n",
       "  'completed': False},\n",
       " {'userId': 7, 'id': 137, 'title': 'qui sit non', 'completed': False},\n",
       " {'userId': 7,\n",
       "  'id': 138,\n",
       "  'title': 'placeat minima consequatur rem qui ut',\n",
       "  'completed': True},\n",
       " {'userId': 7,\n",
       "  'id': 139,\n",
       "  'title': 'consequatur doloribus id possimus voluptas a voluptatem',\n",
       "  'completed': False},\n",
       " {'userId': 7,\n",
       "  'id': 140,\n",
       "  'title': 'aut consectetur in blanditiis deserunt quia sed laboriosam',\n",
       "  'completed': True},\n",
       " {'userId': 8,\n",
       "  'id': 141,\n",
       "  'title': 'explicabo consectetur debitis voluptates quas quae culpa rerum non',\n",
       "  'completed': True},\n",
       " {'userId': 8,\n",
       "  'id': 142,\n",
       "  'title': 'maiores accusantium architecto necessitatibus reiciendis ea aut',\n",
       "  'completed': True},\n",
       " {'userId': 8,\n",
       "  'id': 143,\n",
       "  'title': 'eum non recusandae cupiditate animi',\n",
       "  'completed': False},\n",
       " {'userId': 8,\n",
       "  'id': 144,\n",
       "  'title': 'ut eum exercitationem sint',\n",
       "  'completed': False},\n",
       " {'userId': 8,\n",
       "  'id': 145,\n",
       "  'title': 'beatae qui ullam incidunt voluptatem non nisi aliquam',\n",
       "  'completed': False},\n",
       " {'userId': 8,\n",
       "  'id': 146,\n",
       "  'title': 'molestiae suscipit ratione nihil odio libero impedit vero totam',\n",
       "  'completed': True},\n",
       " {'userId': 8,\n",
       "  'id': 147,\n",
       "  'title': 'eum itaque quod reprehenderit et facilis dolor autem ut',\n",
       "  'completed': True},\n",
       " {'userId': 8,\n",
       "  'id': 148,\n",
       "  'title': 'esse quas et quo quasi exercitationem',\n",
       "  'completed': False},\n",
       " {'userId': 8,\n",
       "  'id': 149,\n",
       "  'title': 'animi voluptas quod perferendis est',\n",
       "  'completed': False},\n",
       " {'userId': 8,\n",
       "  'id': 150,\n",
       "  'title': 'eos amet tempore laudantium fugit a',\n",
       "  'completed': False},\n",
       " {'userId': 8,\n",
       "  'id': 151,\n",
       "  'title': 'accusamus adipisci dicta qui quo ea explicabo sed vero',\n",
       "  'completed': True},\n",
       " {'userId': 8,\n",
       "  'id': 152,\n",
       "  'title': 'odit eligendi recusandae doloremque cumque non',\n",
       "  'completed': False},\n",
       " {'userId': 8,\n",
       "  'id': 153,\n",
       "  'title': 'ea aperiam consequatur qui repellat eos',\n",
       "  'completed': False},\n",
       " {'userId': 8, 'id': 154, 'title': 'rerum non ex sapiente', 'completed': True},\n",
       " {'userId': 8,\n",
       "  'id': 155,\n",
       "  'title': 'voluptatem nobis consequatur et assumenda magnam',\n",
       "  'completed': True},\n",
       " {'userId': 8,\n",
       "  'id': 156,\n",
       "  'title': 'nam quia quia nulla repellat assumenda quibusdam sit nobis',\n",
       "  'completed': True},\n",
       " {'userId': 8,\n",
       "  'id': 157,\n",
       "  'title': 'dolorem veniam quisquam deserunt repellendus',\n",
       "  'completed': True},\n",
       " {'userId': 8,\n",
       "  'id': 158,\n",
       "  'title': 'debitis vitae delectus et harum accusamus aut deleniti a',\n",
       "  'completed': True},\n",
       " {'userId': 8,\n",
       "  'id': 159,\n",
       "  'title': 'debitis adipisci quibusdam aliquam sed dolore ea praesentium nobis',\n",
       "  'completed': True},\n",
       " {'userId': 8,\n",
       "  'id': 160,\n",
       "  'title': 'et praesentium aliquam est',\n",
       "  'completed': False},\n",
       " {'userId': 9,\n",
       "  'id': 161,\n",
       "  'title': 'ex hic consequuntur earum omnis alias ut occaecati culpa',\n",
       "  'completed': True},\n",
       " {'userId': 9,\n",
       "  'id': 162,\n",
       "  'title': 'omnis laboriosam molestias animi sunt dolore',\n",
       "  'completed': True},\n",
       " {'userId': 9,\n",
       "  'id': 163,\n",
       "  'title': 'natus corrupti maxime laudantium et voluptatem laboriosam odit',\n",
       "  'completed': False},\n",
       " {'userId': 9,\n",
       "  'id': 164,\n",
       "  'title': 'reprehenderit quos aut aut consequatur est sed',\n",
       "  'completed': False},\n",
       " {'userId': 9,\n",
       "  'id': 165,\n",
       "  'title': 'fugiat perferendis sed aut quidem',\n",
       "  'completed': False},\n",
       " {'userId': 9,\n",
       "  'id': 166,\n",
       "  'title': 'quos quo possimus suscipit minima ut',\n",
       "  'completed': False},\n",
       " {'userId': 9,\n",
       "  'id': 167,\n",
       "  'title': 'et quis minus quo a asperiores molestiae',\n",
       "  'completed': False},\n",
       " {'userId': 9,\n",
       "  'id': 168,\n",
       "  'title': 'recusandae quia qui sunt libero',\n",
       "  'completed': False},\n",
       " {'userId': 9,\n",
       "  'id': 169,\n",
       "  'title': 'ea odio perferendis officiis',\n",
       "  'completed': True},\n",
       " {'userId': 9,\n",
       "  'id': 170,\n",
       "  'title': 'quisquam aliquam quia doloribus aut',\n",
       "  'completed': False},\n",
       " {'userId': 9,\n",
       "  'id': 171,\n",
       "  'title': 'fugiat aut voluptatibus corrupti deleniti velit iste odio',\n",
       "  'completed': True},\n",
       " {'userId': 9,\n",
       "  'id': 172,\n",
       "  'title': 'et provident amet rerum consectetur et voluptatum',\n",
       "  'completed': False},\n",
       " {'userId': 9,\n",
       "  'id': 173,\n",
       "  'title': 'harum ad aperiam quis',\n",
       "  'completed': False},\n",
       " {'userId': 9, 'id': 174, 'title': 'similique aut quo', 'completed': False},\n",
       " {'userId': 9,\n",
       "  'id': 175,\n",
       "  'title': 'laudantium eius officia perferendis provident perspiciatis asperiores',\n",
       "  'completed': True},\n",
       " {'userId': 9,\n",
       "  'id': 176,\n",
       "  'title': 'magni soluta corrupti ut maiores rem quidem',\n",
       "  'completed': False},\n",
       " {'userId': 9,\n",
       "  'id': 177,\n",
       "  'title': 'et placeat temporibus voluptas est tempora quos quibusdam',\n",
       "  'completed': False},\n",
       " {'userId': 9,\n",
       "  'id': 178,\n",
       "  'title': 'nesciunt itaque commodi tempore',\n",
       "  'completed': True},\n",
       " {'userId': 9,\n",
       "  'id': 179,\n",
       "  'title': 'omnis consequuntur cupiditate impedit itaque ipsam quo',\n",
       "  'completed': True},\n",
       " {'userId': 9,\n",
       "  'id': 180,\n",
       "  'title': 'debitis nisi et dolorem repellat et',\n",
       "  'completed': True},\n",
       " {'userId': 10,\n",
       "  'id': 181,\n",
       "  'title': 'ut cupiditate sequi aliquam fuga maiores',\n",
       "  'completed': False},\n",
       " {'userId': 10,\n",
       "  'id': 182,\n",
       "  'title': 'inventore saepe cumque et aut illum enim',\n",
       "  'completed': True},\n",
       " {'userId': 10,\n",
       "  'id': 183,\n",
       "  'title': 'omnis nulla eum aliquam distinctio',\n",
       "  'completed': True},\n",
       " {'userId': 10,\n",
       "  'id': 184,\n",
       "  'title': 'molestias modi perferendis perspiciatis',\n",
       "  'completed': False},\n",
       " {'userId': 10,\n",
       "  'id': 185,\n",
       "  'title': 'voluptates dignissimos sed doloribus animi quaerat aut',\n",
       "  'completed': False},\n",
       " {'userId': 10,\n",
       "  'id': 186,\n",
       "  'title': 'explicabo odio est et',\n",
       "  'completed': False},\n",
       " {'userId': 10,\n",
       "  'id': 187,\n",
       "  'title': 'consequuntur animi possimus',\n",
       "  'completed': False},\n",
       " {'userId': 10, 'id': 188, 'title': 'vel non beatae est', 'completed': True},\n",
       " {'userId': 10,\n",
       "  'id': 189,\n",
       "  'title': 'culpa eius et voluptatem et',\n",
       "  'completed': True},\n",
       " {'userId': 10,\n",
       "  'id': 190,\n",
       "  'title': 'accusamus sint iusto et voluptatem exercitationem',\n",
       "  'completed': True},\n",
       " {'userId': 10,\n",
       "  'id': 191,\n",
       "  'title': 'temporibus atque distinctio omnis eius impedit tempore molestias pariatur',\n",
       "  'completed': True},\n",
       " {'userId': 10,\n",
       "  'id': 192,\n",
       "  'title': 'ut quas possimus exercitationem sint voluptates',\n",
       "  'completed': False},\n",
       " {'userId': 10,\n",
       "  'id': 193,\n",
       "  'title': 'rerum debitis voluptatem qui eveniet tempora distinctio a',\n",
       "  'completed': True},\n",
       " {'userId': 10,\n",
       "  'id': 194,\n",
       "  'title': 'sed ut vero sit molestiae',\n",
       "  'completed': False},\n",
       " {'userId': 10,\n",
       "  'id': 195,\n",
       "  'title': 'rerum ex veniam mollitia voluptatibus pariatur',\n",
       "  'completed': True},\n",
       " {'userId': 10,\n",
       "  'id': 196,\n",
       "  'title': 'consequuntur aut ut fugit similique',\n",
       "  'completed': True},\n",
       " {'userId': 10,\n",
       "  'id': 197,\n",
       "  'title': 'dignissimos quo nobis earum saepe',\n",
       "  'completed': True},\n",
       " {'userId': 10,\n",
       "  'id': 198,\n",
       "  'title': 'quis eius est sint explicabo',\n",
       "  'completed': True},\n",
       " {'userId': 10,\n",
       "  'id': 199,\n",
       "  'title': 'numquam repellendus a magnam',\n",
       "  'completed': True},\n",
       " {'userId': 10,\n",
       "  'id': 200,\n",
       "  'title': 'ipsam aperiam voluptates qui',\n",
       "  'completed': False}]"
      ]
     },
     "execution_count": 66,
     "metadata": {},
     "output_type": "execute_result"
    }
   ],
   "source": [
    "python_Data"
   ]
  },
  {
   "cell_type": "code",
   "execution_count": null,
   "id": "bb2e40b6-0822-4e9e-b5f8-df07593f1c64",
   "metadata": {},
   "outputs": [],
   "source": [
    "Collection - more than one items\n",
    " str,bytes,list,tuple,dict,set \n",
    "\n",
    "set - Collection unorderd unique items\n",
    "    - Set is not index based \n",
    "    - Set is not key:value based \n",
    "    - So we won't fetch any nth data \n",
    "    - We can add newdata to set ; We can delete nth from set , but we can't modify nth data\n",
    "      In set there is no Index,Key:value "
   ]
  },
  {
   "cell_type": "code",
   "execution_count": 68,
   "id": "5941dde9-4c66-429f-9118-591039c47388",
   "metadata": {},
   "outputs": [
    {
     "name": "stdout",
     "output_type": "stream",
     "text": [
      "<class 'set'>\n",
      "5\n",
      "{'K1', 20, 'K2', 10, 30}\n"
     ]
    }
   ],
   "source": [
    "s={10,20,'K1','K2',10,20,10,10,20,30,'K1','K1','K2'}\n",
    "print(type(s))\n",
    "print(len(s))\n",
    "print(s)"
   ]
  },
  {
   "cell_type": "code",
   "execution_count": 69,
   "id": "04b666f6-ba13-4889-ab4e-81247359e34c",
   "metadata": {},
   "outputs": [
    {
     "data": {
      "text/plain": [
       "{'D1', 'D2'}"
      ]
     },
     "execution_count": 69,
     "metadata": {},
     "output_type": "execute_result"
    }
   ],
   "source": [
    "s={'D1','D2'}\n",
    "s"
   ]
  },
  {
   "cell_type": "code",
   "execution_count": 71,
   "id": "a03dff5c-87f5-4c95-b719-a5d0f699bfde",
   "metadata": {},
   "outputs": [
    {
     "name": "stdout",
     "output_type": "stream",
     "text": [
      "{'D2', 'D3', 'D1', 'D4', 'D5'}\n",
      "5\n"
     ]
    }
   ],
   "source": [
    "s.add('D3')\n",
    "s.update(['D1','D3','D5','D4'])\n",
    "print(s)\n",
    "print(len(s))"
   ]
  },
  {
   "cell_type": "code",
   "execution_count": 72,
   "id": "0f83ce3d-0b79-4bbb-ade7-500d8c8ff7a3",
   "metadata": {},
   "outputs": [],
   "source": [
    "s.remove('D3')"
   ]
  },
  {
   "cell_type": "code",
   "execution_count": 73,
   "id": "c464eefd-0f6c-4323-b5da-a9d362903f28",
   "metadata": {},
   "outputs": [
    {
     "ename": "KeyError",
     "evalue": "'D3'",
     "output_type": "error",
     "traceback": [
      "\u001b[1;31m---------------------------------------------------------------------------\u001b[0m",
      "\u001b[1;31mKeyError\u001b[0m                                  Traceback (most recent call last)",
      "Cell \u001b[1;32mIn[73], line 1\u001b[0m\n\u001b[1;32m----> 1\u001b[0m s\u001b[38;5;241m.\u001b[39mremove(\u001b[38;5;124m'\u001b[39m\u001b[38;5;124mD3\u001b[39m\u001b[38;5;124m'\u001b[39m)\n",
      "\u001b[1;31mKeyError\u001b[0m: 'D3'"
     ]
    }
   ],
   "source": [
    "s.remove('D3')"
   ]
  },
  {
   "cell_type": "code",
   "execution_count": 74,
   "id": "25ec92a7-afdb-4630-a796-34c0150b5666",
   "metadata": {},
   "outputs": [
    {
     "data": {
      "text/plain": [
       "{'D1', 'D2', 'D4', 'D5'}"
      ]
     },
     "execution_count": 74,
     "metadata": {},
     "output_type": "execute_result"
    }
   ],
   "source": [
    "s"
   ]
  },
  {
   "cell_type": "code",
   "execution_count": 75,
   "id": "eb3f28f1-4176-41a3-b5a8-d9c3736bc105",
   "metadata": {},
   "outputs": [],
   "source": [
    "s.discard('D2') # like remove()"
   ]
  },
  {
   "cell_type": "code",
   "execution_count": 76,
   "id": "b80428d9-2aba-48d6-aef9-356260910d57",
   "metadata": {},
   "outputs": [
    {
     "data": {
      "text/plain": [
       "{'D1', 'D4', 'D5'}"
      ]
     },
     "execution_count": 76,
     "metadata": {},
     "output_type": "execute_result"
    }
   ],
   "source": [
    "s"
   ]
  },
  {
   "cell_type": "code",
   "execution_count": 77,
   "id": "87384db5-6060-4eb9-9b57-d534fdc71035",
   "metadata": {},
   "outputs": [],
   "source": [
    "s.discard('D2') "
   ]
  },
  {
   "cell_type": "code",
   "execution_count": null,
   "id": "9278e388-fc02-4bd3-8545-d81043ede2e1",
   "metadata": {},
   "outputs": [],
   "source": [
    "# set operations\n",
    "# -------------------\n",
    "#  union,intersection,difference,symmetric_difference \n",
    "# \n",
    "#  1. set operators  <or>   2.set methods\n",
    "#-----------------------------------------\n",
    "#  | & - ^                    union(),intersect(),difference(),symmetric_difference()"
   ]
  },
  {
   "cell_type": "code",
   "execution_count": 78,
   "id": "a2eff9e3-2298-4933-8b90-3e040bbfde57",
   "metadata": {},
   "outputs": [
    {
     "data": {
      "text/plain": [
       "{'data1', 'data2', 'data3', 'data4'}"
      ]
     },
     "execution_count": 78,
     "metadata": {},
     "output_type": "execute_result"
    }
   ],
   "source": [
    "file1 = ['data1','data2','data3','data4','data1','data2','data3']\n",
    "set(file1) # typecast to set "
   ]
  },
  {
   "cell_type": "code",
   "execution_count": 79,
   "id": "eb77a065-53ee-47e9-8619-741b0015f7d4",
   "metadata": {},
   "outputs": [
    {
     "data": {
      "text/plain": [
       "['data4', 'data2', 'data1', 'data3']"
      ]
     },
     "execution_count": 79,
     "metadata": {},
     "output_type": "execute_result"
    }
   ],
   "source": [
    "list(set(file1)) # typecast to list"
   ]
  },
  {
   "cell_type": "code",
   "execution_count": 81,
   "id": "9ef717c7-9161-4f58-8df9-748c743892a8",
   "metadata": {},
   "outputs": [
    {
     "data": {
      "text/plain": [
       "{'data1', 'data2', 'data3', 'data4', 'data5', 'data6', 'data7'}"
      ]
     },
     "execution_count": 81,
     "metadata": {},
     "output_type": "execute_result"
    }
   ],
   "source": [
    "file1 = ['data1','data2','data3','data4','data5']\n",
    "file2 = ['data3','data4','data6','data7']\n",
    "\n",
    "set(file1)|set(file2) # set(file1).union(set(file2))"
   ]
  },
  {
   "cell_type": "code",
   "execution_count": 82,
   "id": "49e66a4a-d2c3-4f28-9bb2-6a8664c253b7",
   "metadata": {},
   "outputs": [
    {
     "data": {
      "text/plain": [
       "{'data3', 'data4'}"
      ]
     },
     "execution_count": 82,
     "metadata": {},
     "output_type": "execute_result"
    }
   ],
   "source": [
    "# filter common data\n",
    "set(file1) & set(file2) # set(file1).intersection(set(file2))"
   ]
  },
  {
   "cell_type": "code",
   "execution_count": 83,
   "id": "02f355dc-ea3d-4114-9d91-d31390e0f0af",
   "metadata": {},
   "outputs": [
    {
     "data": {
      "text/plain": [
       "{'data1', 'data2', 'data5'}"
      ]
     },
     "execution_count": 83,
     "metadata": {},
     "output_type": "execute_result"
    }
   ],
   "source": [
    "# difference -> A-B \n",
    "set(file1) - set(file2) # set(file1).difference(set(file2)) "
   ]
  },
  {
   "cell_type": "code",
   "execution_count": 84,
   "id": "91722a14-7c56-41d5-b4de-ee6c4e66630b",
   "metadata": {},
   "outputs": [
    {
     "data": {
      "text/plain": [
       "{'data6', 'data7'}"
      ]
     },
     "execution_count": 84,
     "metadata": {},
     "output_type": "execute_result"
    }
   ],
   "source": [
    "# difference -> B-A \n",
    "set(file2) - set(file1) # set(file2).difference(set(file1)) "
   ]
  },
  {
   "cell_type": "code",
   "execution_count": 85,
   "id": "4fcf142f-91c5-4f44-8216-1fc6a68cf7c9",
   "metadata": {},
   "outputs": [
    {
     "data": {
      "text/plain": [
       "{'data1', 'data2', 'data5', 'data6', 'data7'}"
      ]
     },
     "execution_count": 85,
     "metadata": {},
     "output_type": "execute_result"
    }
   ],
   "source": [
    "# Symmetric_difference\n",
    "set(file1) ^ set(file2) # set(file1).symmetric_difference(set(file2))"
   ]
  },
  {
   "cell_type": "code",
   "execution_count": null,
   "id": "964c2e3b-8146-4c00-9dd9-dc5e8b3fb07d",
   "metadata": {},
   "outputs": [],
   "source": [
    "# File Handling\n",
    "# ------------------\n",
    "                    input()               print()\n",
    "Keyboard(<STDIN>) ----<------ Python --------->------- Monitor(STDOUT)\n",
    "                              ======\n",
    "                                |\n",
    "                              Storage(FILE)\n",
    "1. read data from <FILE> --- python --- display to monitor (not reading input from Keyboard)\n",
    "2. Python -- create a newFile and write data to FILE (not display results to monitor)\n",
    "3. read data from <FILE> --- python --- create a newFile and write data to FILE (not IO)\n",
    "\n",
    " +----------------------------------+\n",
    " | Userspace : Python  -<---------------(5)\n",
    " +------------(1)--|--------------------|-+\n",
    " | OS:        (2)  ..   [d1,d2,d3..dn] 0x1234 (4)\n",
    " +---------------|---|-----------------+\n",
    " | Hardware : Storage(HDD) (3)\n",
    " +-----------------------------------+\n",
    "\n",
    "1. read data from <FILE> --- python --- display to monitor (not reading input from Keyboard)\n",
    "open a an existing File  ==> Fobj = open('Filename',mode)  # mode - r ; w ; a (append)\n",
    "read a content               Fobj.read() -->'d1\\n,d2\\n,d3\\n..dn\\n' <-- str\n",
    "                                (or)\n",
    "                             Fobj.readlines() -->['d1\\n','d2\\n','d3\\n',..'dn\\n']\n",
    "close a File                 Fobj.close()"
   ]
  },
  {
   "cell_type": "code",
   "execution_count": 86,
   "id": "36e5161e-72ec-460b-8845-0701e6372d75",
   "metadata": {},
   "outputs": [
    {
     "data": {
      "text/plain": [
       "<_io.TextIOWrapper name='emp.csv' mode='r' encoding='cp1252'>"
      ]
     },
     "execution_count": 86,
     "metadata": {},
     "output_type": "execute_result"
    }
   ],
   "source": [
    "open('emp.csv','r')"
   ]
  },
  {
   "cell_type": "code",
   "execution_count": 88,
   "id": "d18f5edf-ea49-433f-89ba-fae5cce36742",
   "metadata": {},
   "outputs": [],
   "source": [
    "# open('r1.txt','r') \n",
    "# FileNotFoundError: [Errno 2] No such file or directory: 'r1.txt'"
   ]
  },
  {
   "cell_type": "code",
   "execution_count": 89,
   "id": "bc7ec3be-47fd-4492-a07f-1035b1e86211",
   "metadata": {},
   "outputs": [
    {
     "data": {
      "text/plain": [
       "'eid,ename,edept,ecity,ecost\\n101,raj,sales,pune,1000\\n102,leo,prod,bglore,2301\\n230,raj,prod,pune,2300\\n450,shan,sales,bglore,3401\\n542,anu,HR,mumbai,4590\\n321,bibu,sales,hyd,5419\\n651,ram,hr,bglore,3130\\n541,leo,admin,chennai,4913\\n652,karthik,sales,bglore,3405\\n'"
      ]
     },
     "execution_count": 89,
     "metadata": {},
     "output_type": "execute_result"
    }
   ],
   "source": [
    "Fobj = open('emp.csv','r')\n",
    "Fobj.read()"
   ]
  },
  {
   "cell_type": "code",
   "execution_count": 90,
   "id": "856bd7a9-8ad1-4863-9102-aa5de28d2cb7",
   "metadata": {},
   "outputs": [
    {
     "data": {
      "text/plain": [
       "''"
      ]
     },
     "execution_count": 90,
     "metadata": {},
     "output_type": "execute_result"
    }
   ],
   "source": [
    "Fobj.read()"
   ]
  },
  {
   "cell_type": "code",
   "execution_count": 91,
   "id": "d555592d-18b9-4760-9fa3-fe6cd0a5cd4b",
   "metadata": {},
   "outputs": [
    {
     "name": "stdout",
     "output_type": "stream",
     "text": [
      "<class 'str'> 254\n"
     ]
    }
   ],
   "source": [
    "Fobj = open('emp.csv','r')\n",
    "s = Fobj.read()\n",
    "Fobj.close()\n",
    "print(type(s),len(s))"
   ]
  },
  {
   "cell_type": "code",
   "execution_count": 92,
   "id": "d4535555-0993-4aa0-a9d9-f8ff7c781d31",
   "metadata": {},
   "outputs": [
    {
     "name": "stdout",
     "output_type": "stream",
     "text": [
      "<class 'list'> 10\n"
     ]
    }
   ],
   "source": [
    "Fobj = open('emp.csv','r')\n",
    "L = Fobj.readlines()\n",
    "Fobj.close()\n",
    "print(type(L),len(L))"
   ]
  },
  {
   "cell_type": "code",
   "execution_count": 93,
   "id": "6d6dde4b-18e7-4997-9472-529ddf2de825",
   "metadata": {},
   "outputs": [
    {
     "data": {
      "text/plain": [
       "['eid,ename,edept,ecity,ecost\\n',\n",
       " '101,raj,sales,pune,1000\\n',\n",
       " '102,leo,prod,bglore,2301\\n',\n",
       " '230,raj,prod,pune,2300\\n',\n",
       " '450,shan,sales,bglore,3401\\n',\n",
       " '542,anu,HR,mumbai,4590\\n',\n",
       " '321,bibu,sales,hyd,5419\\n',\n",
       " '651,ram,hr,bglore,3130\\n',\n",
       " '541,leo,admin,chennai,4913\\n',\n",
       " '652,karthik,sales,bglore,3405\\n']"
      ]
     },
     "execution_count": 93,
     "metadata": {},
     "output_type": "execute_result"
    }
   ],
   "source": [
    "L"
   ]
  },
  {
   "cell_type": "code",
   "execution_count": 94,
   "id": "b35a2b39-8b53-458f-b407-df791ee96daa",
   "metadata": {},
   "outputs": [
    {
     "data": {
      "text/plain": [
       "['651,ram,hr,bglore,3130\\n',\n",
       " '541,leo,admin,chennai,4913\\n',\n",
       " '652,karthik,sales,bglore,3405\\n']"
      ]
     },
     "execution_count": 94,
     "metadata": {},
     "output_type": "execute_result"
    }
   ],
   "source": [
    "L[-3:] # last 3 lines"
   ]
  },
  {
   "cell_type": "code",
   "execution_count": 97,
   "id": "0b28dfa3-43c9-4b14-94a6-b39b8310e347",
   "metadata": {},
   "outputs": [],
   "source": [
    "Fobj = open('C:\\\\Users\\\\karth\\\\emp.csv','r')\n",
    "s = Fobj.read()\n",
    "Fobj.close()"
   ]
  },
  {
   "cell_type": "code",
   "execution_count": null,
   "id": "23a9a9c5-ec3e-4762-b751-8aae4a702a17",
   "metadata": {},
   "outputs": [],
   "source": [
    "2. Python -- create a newFile and write data to FILE (not display results to monitor)\n",
    "C:\\Users\\karth>cd Demo2\n",
    "\n",
    "C:\\Users\\karth\\Demo2>dir\n",
    " Volume in drive C is OS\n",
    " Volume Serial Number is 3E30-0B4D\n",
    "\n",
    " Directory of C:\\Users\\karth\\Demo2\n",
    "\n",
    "10-09-2025  11:18    <DIR>          .\n",
    "10-09-2025  11:18    <DIR>          ..\n",
    "               0 File(s)              0 bytes\n",
    "               2 Dir(s)  789,572,767,744 bytes free\n",
    "\n",
    "C:\\Users\\karth\\Demo2>python\n",
    "Python 3.10.0 (tags/v3.10.0:b494f59, Oct  4 2021, 19:00:18) [MSC v.1929 64 bit (AMD64)] on win32\n",
    "Type \"help\", \"copyright\", \"credits\" or \"license\" for more information.\n",
    ">>> open('r1.log','w')\n",
    "<_io.TextIOWrapper name='r1.log' mode='w' encoding='cp1252'>\n",
    ">>>\n",
    ">>> exit()\n",
    "\n",
    "C:\\Users\\karth\\Demo2>dir\n",
    " Volume in drive C is OS\n",
    " Volume Serial Number is 3E30-0B4D\n",
    "\n",
    " Directory of C:\\Users\\karth\\Demo2\n",
    "\n",
    "10-09-2025  11:19    <DIR>          .\n",
    "10-09-2025  11:18    <DIR>          ..\n",
    "10-09-2025  11:19                 0 r1.log\n",
    "               1 File(s)              0 bytes\n",
    "               2 Dir(s)  789,573,017,600 bytes free\n",
    "\n",
    "C:\\Users\\karth\\Demo2>notepad r1.log\n",
    "\n",
    "C:\\Users\\karth\\Demo2>dir\n",
    " Volume in drive C is OS\n",
    " Volume Serial Number is 3E30-0B4D\n",
    "\n",
    " Directory of C:\\Users\\karth\\Demo2\n",
    "\n",
    "10-09-2025  11:19    <DIR>          .\n",
    "10-09-2025  11:19    <DIR>          ..\n",
    "10-09-2025  11:20                38 r1.log\n",
    "               1 File(s)             38 bytes\n",
    "               2 Dir(s)  789,572,833,280 bytes free\n",
    "\n",
    "C:\\Users\\karth\\Demo2>python\n",
    "Python 3.10.0 (tags/v3.10.0:b494f59, Oct  4 2021, 19:00:18) [MSC v.1929 64 bit (AMD64)] on win32\n",
    "Type \"help\", \"copyright\", \"credits\" or \"license\" for more information.\n",
    ">>>\n",
    ">>> open('r1.log','w') # overwrite an existing data\n",
    "<_io.TextIOWrapper name='r1.log' mode='w' encoding='cp1252'>\n",
    ">>> exit()\n",
    "\n",
    "C:\\Users\\karth\\Demo2>dir\n",
    " Volume in drive C is OS\n",
    " Volume Serial Number is 3E30-0B4D\n",
    "\n",
    " Directory of C:\\Users\\karth\\Demo2\n",
    "\n",
    "10-09-2025  11:19    <DIR>          .\n",
    "10-09-2025  11:19    <DIR>          ..\n",
    "10-09-2025  11:21                 0 r1.log\n",
    "               1 File(s)              0 bytes\n",
    "               2 Dir(s)  789,573,902,336 bytes free\n",
    "\n",
    "C:\\Users\\karth\\Demo2>python\n",
    "Python 3.10.0 (tags/v3.10.0:b494f59, Oct  4 2021, 19:00:18) [MSC v.1929 64 bit (AMD64)] on win32\n",
    "Type \"help\", \"copyright\", \"credits\" or \"license\" for more information.\n",
    ">>>\n",
    ">>> wobj = open('r1.log','w')\n",
    ">>>\n",
    ">>> # wobj.write('Single String\\n') <== str(1234) \"Str1\"+\"Str2\"\n",
    ">>> # -----------------------------\n",
    ">>> #\n",
    ">>> # wobj.close()\n",
    ">>>\n",
    ">>> wobj.write(\"Data1\\n\")\n",
    "6\n",
    ">>> wobj.write(\"101,raj,sales,bglore,2000\\n\")\n",
    "26\n",
    ">>> cost=45903.32\n",
    ">>> wobj.write(\"Cost is:\"+str(cost)+\"\\n\")\n",
    "17\n",
    ">>> wobj.write(f'Emp cost is:{cost}\\n')\n",
    "21\n",
    ">>> wobj.close()\n",
    ">>>"
   ]
  },
  {
   "cell_type": "code",
   "execution_count": 98,
   "id": "62e5340f-e6ff-4347-83e5-24e85a4f20b8",
   "metadata": {},
   "outputs": [],
   "source": [
    "wobj = open('r1.log','w')\n",
    "wobj.write('test-server LB:0.13\\n')\n",
    "wobj.write('demo-server LB:0.23\\n')\n",
    "wobj.write('-'*20+'\\n')\n",
    "wobj.close()"
   ]
  },
  {
   "cell_type": "code",
   "execution_count": 99,
   "id": "082767e4-637e-4785-b5d8-2c34c060cef6",
   "metadata": {},
   "outputs": [
    {
     "name": "stdout",
     "output_type": "stream",
     "text": [
      "test-server LB:0.13\n",
      "demo-server LB:0.23\n",
      "--------------------\n",
      "\n"
     ]
    }
   ],
   "source": [
    "fobj = open('r1.log','r')\n",
    "s = fobj.read()\n",
    "fobj.close()\n",
    "print(s)"
   ]
  },
  {
   "cell_type": "code",
   "execution_count": 100,
   "id": "3ae88f76-737f-444e-9142-8cdf40d56b6d",
   "metadata": {},
   "outputs": [],
   "source": [
    "wobj = open('r1.log','a') # append \n",
    "wobj.write('CPU Load Avg 98.32\\n')\n",
    "wobj.write('App Utilization report:343\\n')\n",
    "wobj.write('-'*20+'\\n')\n",
    "wobj.close()"
   ]
  },
  {
   "cell_type": "code",
   "execution_count": 101,
   "id": "c276826b-43b4-4f94-96ed-4f5ef696692e",
   "metadata": {},
   "outputs": [
    {
     "name": "stdout",
     "output_type": "stream",
     "text": [
      "test-server LB:0.13\n",
      "demo-server LB:0.23\n",
      "--------------------\n",
      "CPU Load Avg 98.32\n",
      "App Utilization report:343\n",
      "--------------------\n",
      "\n"
     ]
    }
   ],
   "source": [
    "fobj = open('r1.log','r')\n",
    "s = fobj.read()\n",
    "fobj.close()\n",
    "print(s)"
   ]
  },
  {
   "cell_type": "code",
   "execution_count": null,
   "id": "6ed97d8e-3439-4875-a28b-f3e0fca9a161",
   "metadata": {},
   "outputs": [],
   "source": [
    "3. read data from <FILE> --- python --- create a newFile and write data to FILE (not IO)\n",
    "Fobj = open('InputFile','r')\n",
    "Wobj = open('ResultFile','w')\n",
    "s = Fobj.read()  # Vs L = Fobj.readlines()\n",
    "Wobj.write(s)    #    L[-5:] -->for loop - iterate ->wobj.write() \n",
    "Fobj.close()\n",
    "Wobj.close()"
   ]
  },
  {
   "cell_type": "code",
   "execution_count": null,
   "id": "6cdaf433-fd97-472d-adf8-46d94ba79ab4",
   "metadata": {},
   "outputs": [],
   "source": [
    "# Function\n",
    "#--------------\n",
    "print()\n",
    "type()\n",
    "len()\n",
    "...\n",
    "------//pre-defined functions\n",
    "|\n",
    "user defined function\n",
    "    - Code reusability\n",
    "    - function definition - operation block \n",
    "       def functionName():\n",
    "             ........\n",
    "             ........\n",
    "    - function call - to invoke a definition\n",
    "          functionName()\n",
    "    +-----------------------------------+\n",
    "    |  print('list of servers')\n",
    "    |  for var in ['S1','S2','S3']:\n",
    "    |        print(var)\n",
    "    |  print('device details:-')\n",
    "    |  for var in ['D1','D2']:\n",
    "    |        print(var)\n",
    "    |  fobj = open('r1.log','r')\n",
    "    |  s = fobj.read()\n",
    "    |  print(s)\n",
    "    |  fobj.close()\n",
    "    |  print('list of servers')\n",
    "    |  for var in ['S1','S2','S3']:\n",
    "    |        print(var)\n",
    "    |  print('device details:-')\n",
    "    |  for var in ['D1','D2']:\n",
    "    |        print(var)\n",
    "    |  print('list of servers')\n",
    "    |  for var in ['S1','S2','S3']:\n",
    "    |        print(var)\n",
    "    |  print('device details:-')\n",
    "    |  for var in ['D1','D2']:\n",
    "    |        print(var)\n",
    "    +-------------------------------------+\n",
    "\n",
    "          Vs\n",
    "    +------------------------------------+\n",
    "    | def f1():\n",
    "          print('list of servers')\n",
    "          for var in ['S1','S2','S3']:\n",
    "              print(var)\n",
    "    |\n",
    "    |def f2():\n",
    "         print('device details:-')\n",
    "         for var in ['D1','D2']:\n",
    "              print(var)\n",
    "    |\n",
    "    |def f3():\n",
    "         fobj = open('r1.log','r')\n",
    "         s = fobj.read()\n",
    "         print(s)\n",
    "         fobj.close()\n",
    "    |\n",
    "    | f1() # functionCall\n",
    "    | f2()\n",
    "    | f1()\n",
    "    | f2()\n",
    "    | f1()\n",
    "    | f3()\n",
    "    | f1()"
   ]
  },
  {
   "cell_type": "code",
   "execution_count": 103,
   "id": "329f3bed-380d-46e7-8ec2-924adfad96c0",
   "metadata": {},
   "outputs": [
    {
     "name": "stdout",
     "output_type": "stream",
     "text": [
      "this is display block\n"
     ]
    }
   ],
   "source": [
    "def display():\n",
    "    print('this is display block')\n",
    "\n",
    "display()"
   ]
  },
  {
   "cell_type": "code",
   "execution_count": 104,
   "id": "1f099114-3960-4031-bf35-e420928f28ad",
   "metadata": {},
   "outputs": [
    {
     "name": "stdout",
     "output_type": "stream",
     "text": [
      "this is display block\n"
     ]
    }
   ],
   "source": [
    "if(True):\n",
    "    display() # we can invoke functionCall"
   ]
  },
  {
   "cell_type": "code",
   "execution_count": 105,
   "id": "447b29a8-78e2-4e3e-9338-abfe8d1e1b6a",
   "metadata": {},
   "outputs": [
    {
     "name": "stdout",
     "output_type": "stream",
     "text": [
      "this is display block\n",
      "this is display block\n",
      "this is display block\n"
     ]
    }
   ],
   "source": [
    "for var in [1,2,3]:\n",
    "    display()"
   ]
  },
  {
   "cell_type": "code",
   "execution_count": 107,
   "id": "231e80f4-997b-4541-ae25-ce01d5736bd8",
   "metadata": {},
   "outputs": [
    {
     "name": "stdout",
     "output_type": "stream",
     "text": [
      "eid,ename,edept,ecity,eco\n",
      "Exit from f1 block\n"
     ]
    }
   ],
   "source": [
    "def f1():\n",
    "    fobj = open('emp.csv','r')\n",
    "    s = fobj.read()\n",
    "    fobj.close()\n",
    "    print(s[:25]) # 25chars \n",
    "    print('Exit from f1 block')\n",
    "\n",
    "f1()"
   ]
  },
  {
   "cell_type": "code",
   "execution_count": 109,
   "id": "bb775dcd-89da-473c-ae61-68c4073a3e9b",
   "metadata": {},
   "outputs": [
    {
     "name": "stdout",
     "output_type": "stream",
     "text": [
      "eid,ename,edept,ecity,eco\n",
      "Exit from f1 block\n",
      "test-server LB:0.13\n",
      "demo-\n",
      "Exit from f2 block\n"
     ]
    }
   ],
   "source": [
    "def f1():\n",
    "    fobj = open('emp.csv','r')\n",
    "    s = fobj.read()\n",
    "    fobj.close()\n",
    "    print(s[:25]) # 25chars \n",
    "    print('Exit from f1 block')\n",
    "\n",
    "def f2():\n",
    "    fobj = open('r1.log','r')\n",
    "    s = fobj.read()\n",
    "    fobj.close()\n",
    "    print(s[:25])\n",
    "    print('Exit from f2 block')\n",
    "\n",
    "f1()\n",
    "f2()"
   ]
  },
  {
   "cell_type": "code",
   "execution_count": 110,
   "id": "4243f5b2-553e-4636-b4aa-11bd85615e92",
   "metadata": {},
   "outputs": [
    {
     "name": "stdout",
     "output_type": "stream",
     "text": [
      "eid,ename,edept,ecity,eco\n",
      "Exit from f1 block\n",
      "test-server LB:0.13\n",
      "demo-\n",
      "Exit from f1 block\n"
     ]
    }
   ],
   "source": [
    "def f1(a1):\n",
    "    fobj = open(a1,'r')\n",
    "    s = fobj.read()\n",
    "    print(s[:25])\n",
    "    fobj.close()\n",
    "    print('Exit from f1 block')\n",
    "\n",
    "f1('emp.csv') # function call with argument\n",
    "f1('r1.log')  # function call with argument"
   ]
  },
  {
   "cell_type": "code",
   "execution_count": 116,
   "id": "c444d120-42e5-4b6c-8e51-e8803afb8f35",
   "metadata": {},
   "outputs": [
    {
     "name": "stdout",
     "output_type": "stream",
     "text": [
      "display block: 10 20\n",
      "display block: data True\n",
      "display block: [] []\n",
      "display block: {} ()\n"
     ]
    }
   ],
   "source": [
    "def display(a1,a2): # Required Arguments \n",
    "    print('display block:',a1,a2)\n",
    "\n",
    "# display() - TypeError: display() missing 2 required positional arguments: 'a1' and 'a2'\n",
    "# display(10) - TypeError: display() missing 1 required positional argument: 'a2'\n",
    "# display(10,20,30) - TypeError: display() takes 2 positional arguments but 3 were given\n",
    "display(10,20)\n",
    "display('data',True)\n",
    "display([],[])\n",
    "display({},())"
   ]
  },
  {
   "cell_type": "code",
   "execution_count": 120,
   "id": "b363cf26-d4a9-477f-bc08-d159bc4a9cc0",
   "metadata": {},
   "outputs": [],
   "source": [
    "L=[]\n",
    "L.append('D1')\n",
    "L.append(10)\n",
    "# L.append() TypeError: list.append() takes exactly one argument (0 given)\n",
    "# L.append('Dx','Dy') TypeError: list.append() takes exactly one argument (2 given)\n",
    "\n",
    "# def append(arg):\n",
    "#    ...\n",
    "#    ..."
   ]
  },
  {
   "cell_type": "code",
   "execution_count": 121,
   "id": "cfb0368e-837a-4084-bc52-506d7725220b",
   "metadata": {},
   "outputs": [
    {
     "data": {
      "text/plain": [
       "80"
      ]
     },
     "execution_count": 121,
     "metadata": {},
     "output_type": "execute_result"
    }
   ],
   "source": [
    "L=[10,20,30,40,50,60,70,80]\n",
    "L.pop()"
   ]
  },
  {
   "cell_type": "code",
   "execution_count": 122,
   "id": "ebd0a67a-b0a2-49e9-a2b9-f03504fc7590",
   "metadata": {},
   "outputs": [
    {
     "data": {
      "text/plain": [
       "40"
      ]
     },
     "execution_count": 122,
     "metadata": {},
     "output_type": "execute_result"
    }
   ],
   "source": [
    "L.pop(3)"
   ]
  },
  {
   "cell_type": "code",
   "execution_count": 123,
   "id": "ee0ebd3f-0ab2-4327-8bbf-316c449a672a",
   "metadata": {},
   "outputs": [
    {
     "ename": "TypeError",
     "evalue": "pop expected at most 1 argument, got 2",
     "output_type": "error",
     "traceback": [
      "\u001b[1;31m---------------------------------------------------------------------------\u001b[0m",
      "\u001b[1;31mTypeError\u001b[0m                                 Traceback (most recent call last)",
      "Cell \u001b[1;32mIn[123], line 1\u001b[0m\n\u001b[1;32m----> 1\u001b[0m L\u001b[38;5;241m.\u001b[39mpop(\u001b[38;5;241m1\u001b[39m,\u001b[38;5;241m2\u001b[39m)\n",
      "\u001b[1;31mTypeError\u001b[0m: pop expected at most 1 argument, got 2"
     ]
    }
   ],
   "source": [
    "L.pop(1,2)"
   ]
  },
  {
   "cell_type": "code",
   "execution_count": null,
   "id": "83e8db7f-ce54-4525-b837-0132b0ffbafe",
   "metadata": {},
   "outputs": [],
   "source": [
    "def pop(index=-1):\n",
    "    ..\n",
    "pop()\n",
    "pop(3)\n",
    "pop(1,2) # error "
   ]
  },
  {
   "cell_type": "code",
   "execution_count": 124,
   "id": "57a721a8-c9bd-40f2-8acb-c3ce6047a692",
   "metadata": {},
   "outputs": [
    {
     "name": "stdout",
     "output_type": "stream",
     "text": [
      "eid,ename,edept,ecity,ecost\n",
      "101,raj,sales,pune,1000\n",
      "102,leo,prod,bglore,2301\n",
      "230,raj,prod,pune,2300\n",
      "450,shan,sales,bglore,3401\n",
      "542,anu,HR,mumbai,4590\n",
      "321,bibu,sales,hyd,5419\n",
      "651,ram,hr,bglore,3130\n",
      "541,leo,admin,chennai,4913\n",
      "652,karthik,sales,bglore,3405\n",
      "\n",
      "Exit from f1 block\n",
      "test-server LB:0.13\n",
      "demo-server LB:0.23\n",
      "--------------------\n",
      "CPU Load Avg 98.32\n",
      "App Utilization report:343\n",
      "--------------------\n",
      "\n",
      "Exit from f1 block\n"
     ]
    }
   ],
   "source": [
    "def f1(fname='emp.csv'): # default args\n",
    "    fobj = open(fname,'r')\n",
    "    s = fobj.read()\n",
    "    fobj.close()\n",
    "    print(s)\n",
    "    print('Exit from f1 block')\n",
    "\n",
    "f1() \n",
    "f1('r1.log')\n",
    "# f1('r1.log','r2.log') # Error"
   ]
  },
  {
   "cell_type": "code",
   "execution_count": 125,
   "id": "58c3cc23-94eb-4be9-bbc9-9a72bc2bbc2f",
   "metadata": {},
   "outputs": [
    {
     "ename": "SyntaxError",
     "evalue": "parameter without a default follows parameter with a default (1653137228.py, line 3)",
     "output_type": "error",
     "traceback": [
      "\u001b[1;36m  Cell \u001b[1;32mIn[125], line 3\u001b[1;36m\u001b[0m\n\u001b[1;33m    def f1(a1,a2,a3,a4,a5=True,a6):\u001b[0m\n\u001b[1;37m                               ^\u001b[0m\n\u001b[1;31mSyntaxError\u001b[0m\u001b[1;31m:\u001b[0m parameter without a default follows parameter with a default\n"
     ]
    }
   ],
   "source": [
    "# def f1(a1,a2,a3,a4,a5=True,a6='data'): # OK\n",
    "\n",
    "def f1(a1,a2,a3,a4,a5=True,a6):\n",
    "    print(\"Hello\")"
   ]
  },
  {
   "cell_type": "code",
   "execution_count": 127,
   "id": "5aea4ac2-e031-422c-83f9-028b57b63b81",
   "metadata": {},
   "outputs": [
    {
     "name": "stdout",
     "output_type": "stream",
     "text": [
      "<class 'tuple'>\n",
      "() \n",
      "\n",
      "<class 'tuple'>\n",
      "('D1', 'D2') \n",
      "\n",
      "<class 'tuple'>\n",
      "(['D1', 'D2', 'd3'], ('T1', 'T2', 'T3'), {'K1': 'V1', 'K2': 'V2'}) \n",
      "\n"
     ]
    }
   ],
   "source": [
    "def f1(*a1):\n",
    "    print(type(a1))\n",
    "    print(a1,\"\\n\")\n",
    "\n",
    "f1()\n",
    "f1('D1','D2')\n",
    "f1(['D1','D2','d3'],('T1','T2','T3'),{'K1':'V1','K2':'V2'})"
   ]
  },
  {
   "cell_type": "code",
   "execution_count": 128,
   "id": "bfafcf35-298b-4b0b-99f7-315588aff0dd",
   "metadata": {},
   "outputs": [
    {
     "data": {
      "text/plain": [
       "['db2', 'influxdb', 'oracle', 'promql', 'sql']"
      ]
     },
     "execution_count": 128,
     "metadata": {},
     "output_type": "execute_result"
    }
   ],
   "source": [
    "L=['oracle','sql','influxdb','promql','db2']\n",
    "L.sort()\n",
    "L"
   ]
  },
  {
   "cell_type": "code",
   "execution_count": 129,
   "id": "aacf6069-d0ff-43b5-b0ce-908c12a689f0",
   "metadata": {},
   "outputs": [
    {
     "data": {
      "text/plain": [
       "['sql', 'promql', 'oracle', 'influxdb', 'db2']"
      ]
     },
     "execution_count": 129,
     "metadata": {},
     "output_type": "execute_result"
    }
   ],
   "source": [
    "L=['oracle','sql','influxdb','promql','db2']\n",
    "L.sort(reverse=True)\n",
    "L"
   ]
  },
  {
   "cell_type": "code",
   "execution_count": 130,
   "id": "cec63eae-e969-4767-88b9-6083617d026b",
   "metadata": {},
   "outputs": [
    {
     "ename": "TypeError",
     "evalue": "fx() got an unexpected keyword argument 'Va'",
     "output_type": "error",
     "traceback": [
      "\u001b[1;31m---------------------------------------------------------------------------\u001b[0m",
      "\u001b[1;31mTypeError\u001b[0m                                 Traceback (most recent call last)",
      "Cell \u001b[1;32mIn[130], line 4\u001b[0m\n\u001b[0;32m      1\u001b[0m \u001b[38;5;28;01mdef\u001b[39;00m\u001b[38;5;250m \u001b[39m\u001b[38;5;21mfx\u001b[39m(\u001b[38;5;241m*\u001b[39ma):\n\u001b[0;32m      2\u001b[0m     \u001b[38;5;28mprint\u001b[39m(a)\n\u001b[1;32m----> 4\u001b[0m fx(Va\u001b[38;5;241m=\u001b[39m\u001b[38;5;241m10\u001b[39m,Vb\u001b[38;5;241m=\u001b[39m\u001b[38;5;241m20\u001b[39m)\n",
      "\u001b[1;31mTypeError\u001b[0m: fx() got an unexpected keyword argument 'Va'"
     ]
    }
   ],
   "source": [
    "def fx(*a):\n",
    "    print(a)\n",
    "\n",
    "fx(Va=10,Vb=20)"
   ]
  },
  {
   "cell_type": "code",
   "execution_count": 132,
   "id": "eccaa918-e9b9-4c5f-b202-3e0ca82b3241",
   "metadata": {},
   "outputs": [
    {
     "name": "stdout",
     "output_type": "stream",
     "text": [
      "{'Va': 10, 'Vb': 20}\n",
      "{}\n"
     ]
    }
   ],
   "source": [
    "def fx(**a):\n",
    "    print(a)\n",
    "\n",
    "fx(Va=10,Vb=20)\n",
    "fx()"
   ]
  },
  {
   "cell_type": "code",
   "execution_count": 134,
   "id": "b351cbb4-aee5-4eb1-a6d0-4f95f34c12b3",
   "metadata": {},
   "outputs": [
    {
     "name": "stdout",
     "output_type": "stream",
     "text": [
      "Help on function search in module re:\n",
      "\n",
      "search(pattern, string, flags=0)\n",
      "    Scan through string looking for a match to the pattern, returning\n",
      "    a Match object, or None if no match was found.\n",
      "\n",
      "Help on function sub in module re:\n",
      "\n",
      "sub(pattern, repl, string, count=0, flags=0)\n",
      "    Return the string obtained by replacing the leftmost\n",
      "    non-overlapping occurrences of the pattern in string by the\n",
      "    replacement repl.  repl can be either a string or a callable;\n",
      "    if a string, backslash escapes in it are processed.  If it is\n",
      "    a callable, it's passed the Match object and must return\n",
      "    a replacement string to be used.\n",
      "\n"
     ]
    }
   ],
   "source": [
    "import re\n",
    "help(re.search)\n",
    "help(re.sub)"
   ]
  },
  {
   "cell_type": "code",
   "execution_count": 137,
   "id": "d79d725e-0ece-46b2-b0c3-4ba6b724ec05",
   "metadata": {},
   "outputs": [
    {
     "name": "stdout",
     "output_type": "stream",
     "text": [
      "Flask 5000\n",
      "App Flask port number:5000\n"
     ]
    }
   ],
   "source": [
    "def fx():\n",
    "    global app,port\n",
    "    app = 'Flask'\n",
    "    port = 5000\n",
    "    config = 'flask.conf' \n",
    "fx()\n",
    "print(app,port)\n",
    "# print(config) # NameError: name 'config' is not defined\n",
    "\n",
    "def fy():\n",
    "    print(f'App {app} port number:{port}') # global members\n",
    "\n",
    "fy()"
   ]
  },
  {
   "cell_type": "code",
   "execution_count": 139,
   "id": "fd070009-19dd-4188-b22f-396154302048",
   "metadata": {},
   "outputs": [
    {
     "data": {
      "text/plain": [
       "'rails'"
      ]
     },
     "execution_count": 139,
     "metadata": {},
     "output_type": "execute_result"
    }
   ],
   "source": [
    "def fx():\n",
    "    app = 'rails'\n",
    "    port = 5500\n",
    "    return app\n",
    "\n",
    "fx()"
   ]
  },
  {
   "cell_type": "code",
   "execution_count": 140,
   "id": "cf2e4308-b25a-4b3e-9b1c-973ef472b2ae",
   "metadata": {},
   "outputs": [
    {
     "data": {
      "text/plain": [
       "('rails', 5500)"
      ]
     },
     "execution_count": 140,
     "metadata": {},
     "output_type": "execute_result"
    }
   ],
   "source": [
    "def fx():\n",
    "    app = 'rails'\n",
    "    port = 5500\n",
    "    return app,port # tuple\n",
    "\n",
    "fx()"
   ]
  },
  {
   "cell_type": "code",
   "execution_count": null,
   "id": "c3b74d47-7878-48b7-9a6d-396d3dbcdca8",
   "metadata": {},
   "outputs": [],
   "source": [
    " file: pa.py                                      file: p1.py     file: p2.py\n",
    "+----------------------------------------+        ------------    ============\n",
    "| def display():                                   import pa        import pa\n",
    "|     print('display list of servers')             pa.display()     print(pa.app)\n",
    "|                                                 --------------    if(pa.port >4000):\n",
    "| def report():                                                           print('ok')\n",
    "|     print('Generate report')                                     =====================\n",
    "|\n",
    "| app = 'testApp'\n",
    "| port = 4940\n",
    "+----------------------------------------+\n",
    " python pa.py ->Empty - there is no result\n",
    "\n",
    "E:\\> dir\n",
    "pa.py p1.py p2.py Demo\\\n",
    "                    |---> p3.py\n",
    "                          import pa  ---->ModuleNotFoundError\n",
    "                          pa.display()"
   ]
  },
  {
   "cell_type": "code",
   "execution_count": null,
   "id": "d8a56195-b733-416e-b0c1-2b6272c7b424",
   "metadata": {},
   "outputs": [],
   "source": [
    "import <filename>\n",
    "            |->python Module\n",
    "\n",
    " 1. python - refer sys.path ->list - search imported module directory path\n",
    " 2. pvm -->pyc file ==>  __pycache__/ pa.pyc <== pvm\n",
    "\n",
    "PYTHONPATH - env \n",
    "PYTHONPATH\n",
    "\n",
    "Linux\n",
    "|-> ~/.bashrc \n",
    "          |\n",
    "      export PYTHONPATH=/home/karthik/project/\n",
    "\n",
    "\n",
    "C:\\Users\\karth\\Demo2>dir\n",
    " Volume in drive C is OS\n",
    " Volume Serial Number is 3E30-0B4D\n",
    "\n",
    " Directory of C:\\Users\\karth\\Demo2\n",
    "\n",
    "10-09-2025  11:19    <DIR>          .\n",
    "10-09-2025  12:47    <DIR>          ..\n",
    "10-09-2025  11:26                74 r1.log\n",
    "               1 File(s)             74 bytes\n",
    "               2 Dir(s)  790,830,415,872 bytes free\n",
    "\n",
    "C:\\Users\\karth\\Demo2>notepad pa.py\n",
    "\n",
    "C:\\Users\\karth\\Demo2>dir\n",
    " Volume in drive C is OS\n",
    " Volume Serial Number is 3E30-0B4D\n",
    "\n",
    " Directory of C:\\Users\\karth\\Demo2\n",
    "\n",
    "10-09-2025  12:49    <DIR>          .\n",
    "10-09-2025  12:49    <DIR>          ..\n",
    "10-09-2025  12:49                47 pa.py\n",
    "10-09-2025  11:26                74 r1.log\n",
    "               2 File(s)            121 bytes\n",
    "               2 Dir(s)  790,830,354,432 bytes free\n",
    "\n",
    "C:\\Users\\karth\\Demo2>python\n",
    "Python 3.10.0 (tags/v3.10.0:b494f59, Oct  4 2021, 19:00:18) [MSC v.1929 64 bit (AMD64)] on win32\n",
    "Type \"help\", \"copyright\", \"credits\" or \"license\" for more information.\n",
    ">>>\n",
    ">>> import pa\n",
    ">>> help(pa)\n",
    "Help on module pa:\n",
    "\n",
    "NAME\n",
    "    pa\n",
    "\n",
    "FUNCTIONS\n",
    "    display()\n",
    "\n",
    "FILE\n",
    "    c:\\users\\karth\\demo2\\pa.py\n",
    "\n",
    "\n",
    ">>> import sys\n",
    ">>> sys.path\n",
    "['', 'C:\\\\Users\\\\karth\\\\AppData\\\\Local\\\\Programs\\\\Python\\\\Python310', 'C:\\\\Users\\\\karth\\\\AppData\\\\Local\\\\Programs\\\\Python\\\\Python310\\\\python310.zip', 'C:\\\\Users\\\\karth\\\\AppData\\\\Local\\\\Programs\\\\Python\\\\Python310\\\\DLLs', 'C:\\\\Users\\\\karth\\\\AppData\\\\Local\\\\Programs\\\\Python\\\\Python310\\\\lib', 'C:\\\\Users\\\\karth\\\\AppData\\\\Roaming\\\\Python\\\\Python310\\\\site-packages', 'C:\\\\Users\\\\karth\\\\AppData\\\\Roaming\\\\Python\\\\Python310\\\\site-packages\\\\win32', 'C:\\\\Users\\\\karth\\\\AppData\\\\Roaming\\\\Python\\\\Python310\\\\site-packages\\\\win32\\\\lib', 'C:\\\\Users\\\\karth\\\\AppData\\\\Roaming\\\\Python\\\\Python310\\\\site-packages\\\\Pythonwin', 'C:\\\\Users\\\\karth\\\\AppData\\\\Local\\\\Programs\\\\Python\\\\Python310\\\\lib\\\\site-packages']\n",
    ">>> exit()\n",
    "\n",
    "C:\\Users\\karth\\Demo2>mkdir D1\n",
    "\n",
    "C:\\Users\\karth\\Demo2>cd D1\n",
    "\n",
    "C:\\Users\\karth\\Demo2\\D1>\n",
    "C:\\Users\\karth\\Demo2\\D1>python\n",
    "Python 3.10.0 (tags/v3.10.0:b494f59, Oct  4 2021, 19:00:18) [MSC v.1929 64 bit (AMD64)] on win32\n",
    "Type \"help\", \"copyright\", \"credits\" or \"license\" for more information.\n",
    ">>>\n",
    ">>> import pa\n",
    "Traceback (most recent call last):\n",
    "  File \"<stdin>\", line 1, in <module>\n",
    "ModuleNotFoundError: No module named 'pa'\n",
    ">>>\n",
    ">>> import sys\n",
    ">>> sys.path\n",
    "['', 'C:\\\\Users\\\\karth\\\\AppData\\\\Local\\\\Programs\\\\Python\\\\Python310', 'C:\\\\Users\\\\karth\\\\AppData\\\\Local\\\\Programs\\\\Python\\\\Python310\\\\python310.zip', 'C:\\\\Users\\\\karth\\\\AppData\\\\Local\\\\Programs\\\\Python\\\\Python310\\\\DLLs', 'C:\\\\Users\\\\karth\\\\AppData\\\\Local\\\\Programs\\\\Python\\\\Python310\\\\lib', 'C:\\\\Users\\\\karth\\\\AppData\\\\Roaming\\\\Python\\\\Python310\\\\site-packages', 'C:\\\\Users\\\\karth\\\\AppData\\\\Roaming\\\\Python\\\\Python310\\\\site-packages\\\\win32', 'C:\\\\Users\\\\karth\\\\AppData\\\\Roaming\\\\Python\\\\Python310\\\\site-packages\\\\win32\\\\lib', 'C:\\\\Users\\\\karth\\\\AppData\\\\Roaming\\\\Python\\\\Python310\\\\site-packages\\\\Pythonwin', 'C:\\\\Users\\\\karth\\\\AppData\\\\Local\\\\Programs\\\\Python\\\\Python310\\\\lib\\\\site-packages']\n",
    ">>>\n",
    ">>> \"C:\\\\Users\\\\karth\\\\Demo2\" in sys.path\n",
    "False\n",
    ">>>\n",
    ">>> type(sys.path)\n",
    "<class 'list'>\n",
    ">>>\n",
    ">>> sys.path.append(\"C:\\\\Users\\\\karth\\\\Demo2\")\n",
    ">>>\n",
    ">>> \"C:\\\\Users\\\\karth\\\\Demo2\" in sys.path\n",
    "True\n",
    ">>> sys.path\n",
    "['', 'C:\\\\Users\\\\karth\\\\AppData\\\\Local\\\\Programs\\\\Python\\\\Python310', 'C:\\\\Users\\\\karth\\\\AppData\\\\Local\\\\Programs\\\\Python\\\\Python310\\\\python310.zip', 'C:\\\\Users\\\\karth\\\\AppData\\\\Local\\\\Programs\\\\Python\\\\Python310\\\\DLLs', 'C:\\\\Users\\\\karth\\\\AppData\\\\Local\\\\Programs\\\\Python\\\\Python310\\\\lib', 'C:\\\\Users\\\\karth\\\\AppData\\\\Roaming\\\\Python\\\\Python310\\\\site-packages', 'C:\\\\Users\\\\karth\\\\AppData\\\\Roaming\\\\Python\\\\Python310\\\\site-packages\\\\win32', 'C:\\\\Users\\\\karth\\\\AppData\\\\Roaming\\\\Python\\\\Python310\\\\site-packages\\\\win32\\\\lib', 'C:\\\\Users\\\\karth\\\\AppData\\\\Roaming\\\\Python\\\\Python310\\\\site-packages\\\\Pythonwin', 'C:\\\\Users\\\\karth\\\\AppData\\\\Local\\\\Programs\\\\Python\\\\Python310\\\\lib\\\\site-packages', 'C:\\\\Users\\\\karth\\\\Demo2']\n",
    ">>>\n",
    ">>> import pa\n",
    ">>> pa.display()\n",
    "This is display block\n",
    ">>> exit()\n",
    "\n",
    "C:\\Users\\karth\\Demo2\\D1>dir\n",
    " Volume in drive C is OS\n",
    " Volume Serial Number is 3E30-0B4D\n",
    "\n",
    " Directory of C:\\Users\\karth\\Demo2\\D1\n",
    "\n",
    "10-09-2025  12:50    <DIR>          .\n",
    "10-09-2025  12:50    <DIR>          ..\n",
    "               0 File(s)              0 bytes\n",
    "               2 Dir(s)  790,829,555,712 bytes free\n",
    "\n",
    "C:\\Users\\karth\\Demo2\\D1>"
   ]
  },
  {
   "cell_type": "code",
   "execution_count": null,
   "id": "eaacc481-0b26-4c7c-b933-08c57e728c18",
   "metadata": {},
   "outputs": [],
   "source": [
    "Winx\n",
    "-----\n",
    "pip install <Module>\n",
    "(or)\n",
    "python -m pip install <Module>\n",
    "\n",
    "Linux\n",
    "-----\n",
    "pip install <module> # python2.x\n",
    "pip3 install <module> # python3.x "
   ]
  },
  {
   "cell_type": "code",
   "execution_count": null,
   "id": "bde055b8-a437-4533-b137-28c2bb05c677",
   "metadata": {},
   "outputs": [],
   "source": [
    "import sys - python info\n",
    "import os - os command info\n",
    "import json - json "
   ]
  },
  {
   "cell_type": "code",
   "execution_count": 144,
   "id": "a192a223-92c6-414a-8d71-58235b59c47c",
   "metadata": {},
   "outputs": [],
   "source": [
    "import sys\n",
    "#help(sys)"
   ]
  },
  {
   "cell_type": "code",
   "execution_count": null,
   "id": "19238075-0e6d-410e-8640-86e344e79bcb",
   "metadata": {},
   "outputs": [],
   "source": [
    "Write python program:\n",
    " -> modify pin example\n",
    " |\n",
    " create a newFile - pinHistory.log - append(a) mode\n",
    " |\n",
    " |-> update user input pin details( Success and Failed ) \n",
    "     update date/time <== import time\n",
    "                          time.ctime()\n",
    "\n",
    " |-> Choice from user -> Yes =>open pinHistory.log file - read the contents \n",
    " |\n",
    " |-> def pinTest():\n",
    "          ...."
   ]
  },
  {
   "cell_type": "code",
   "execution_count": 145,
   "id": "06796e99-f9e7-4bfc-8382-a417add31a7c",
   "metadata": {},
   "outputs": [
    {
     "data": {
      "text/plain": [
       "'Wed Sep 10 14:08:11 2025'"
      ]
     },
     "execution_count": 145,
     "metadata": {},
     "output_type": "execute_result"
    }
   ],
   "source": [
    "import time\n",
    "time.ctime()"
   ]
  },
  {
   "cell_type": "code",
   "execution_count": 151,
   "id": "e0f825a6-556b-4778-b198-c7f514f87b9a",
   "metadata": {},
   "outputs": [
    {
     "name": "stdin",
     "output_type": "stream",
     "text": [
      "Enter a pinNumber: 43434\n",
      "Enter a pinNumber: 43433\n",
      "Enter a pinNumber: 43233\n"
     ]
    },
    {
     "name": "stdout",
     "output_type": "stream",
     "text": [
      "Pin is Blocked\n"
     ]
    }
   ],
   "source": [
    "Wobj = open('pinHistory.log','a')\n",
    "pin = 1234\n",
    "count = 0\n",
    "while(count < 3):\n",
    "    p = input('Enter a pinNumber:')\n",
    "    count = count + 1\n",
    "    if(int(p) == pin):\n",
    "        Wobj.write(f'Success - matched - {count} - Input date/time:{time.ctime()}\\n')\n",
    "        print(f'Success - matched - {count} - Input date/time:{time.ctime()}')\n",
    "        break\n",
    "    else:\n",
    "        Wobj.write(f'Failed - User input pinNumber:{p} - Input date/time:{time.ctime()}\\n')\n",
    "\n",
    "if(int(p) != pin):\n",
    "    Wobj.write(f'Pin is Blocked - Entry time is:{time.ctime()}\\n')\n",
    "    print(f'Pin is Blocked')\n",
    "\n",
    "Wobj.close()     "
   ]
  },
  {
   "cell_type": "code",
   "execution_count": 152,
   "id": "3fa8a7e4-27ce-4525-bdb9-e6e037407428",
   "metadata": {},
   "outputs": [],
   "source": [
    "def pinTest():\n",
    "    Wobj = open('pinHistory.log','a')\n",
    "    pin = 1234\n",
    "    count = 0\n",
    "    while(count < 3):\n",
    "        p = input('Enter a pinNumber:')\n",
    "        count = count + 1\n",
    "        if(int(p) == pin):\n",
    "            Wobj.write(f'Success - matched - {count} - Input date/time:{time.ctime()}\\n')\n",
    "            print(f'Success - matched - {count} - Input date/time:{time.ctime()}')\n",
    "            break\n",
    "        else:\n",
    "            Wobj.write(f'Failed - User input pinNumber:{p} - Input date/time:{time.ctime()}\\n')\n",
    "    if(int(p) != pin):\n",
    "        Wobj.write(f'Pin is Blocked - Entry time is:{time.ctime()}\\n')\n",
    "        print(f'Pin is Blocked')\n",
    "    Wobj.close()"
   ]
  },
  {
   "cell_type": "code",
   "execution_count": null,
   "id": "33759b40-4f4d-42d6-a299-827dbbbf2d8a",
   "metadata": {},
   "outputs": [],
   "source": [
    "# File: pinExample.py\n",
    "# ------------------\n",
    "import time\n",
    "'''This is pin Number validation code'''\n",
    "def pinTest():\n",
    "    '''pinTest - simple function call'''\n",
    "    Wobj = open('pinHistory.log','a')\n",
    "    pin = 1234\n",
    "    count = 0\n",
    "    while(count < 3):\n",
    "        p = input('Enter a pinNumber:')\n",
    "        count = count + 1\n",
    "        if(int(p) == pin):\n",
    "            Wobj.write(f'Success - matched - {count} - Input date/time:{time.ctime()}\\n')\n",
    "            print(f'Success - matched - {count} - Input date/time:{time.ctime()}')\n",
    "            break\n",
    "        else:\n",
    "            Wobj.write(f'Failed - User input pinNumber:{p} - Input date/time:{time.ctime()}\\n')\n",
    "    if(int(p) != pin):\n",
    "        Wobj.write(f'Pin is Blocked - Entry time is:{time.ctime()}\\n')\n",
    "        print(f'Pin is Blocked')\n",
    "    Wobj.close()\n"
   ]
  },
  {
   "cell_type": "code",
   "execution_count": null,
   "id": "28e2c29b-fc1d-464b-b916-79a13fca01f3",
   "metadata": {},
   "outputs": [],
   "source": [
    ">>>\n",
    ">>> import sys\n",
    ">>> sys.path.append(\"C:\\\\Users\\\\karth\\\\Karthik\\\\Python-Class\\\\Cisco-Training\")\n",
    ">>>\n",
    ">>> import pinExample\n",
    ">>>\n",
    ">>> pinExample.pinTest()\n",
    "Enter a pinNumber:12344\n",
    "Enter a pinNumber:1234\n",
    "Success - matched - 2 - Input date/time:Wed Sep 10 14:24:51 2025\n",
    ">>>\n",
    ">>> import pinExample as pin\n",
    ">>> pin.pinTest()\n",
    "Enter a pinNumber:3343\n",
    "Enter a pinNumber:3343\n",
    "Enter a pinNumber:1234\n",
    "Success - matched - 3 - Input date/time:Wed Sep 10 14:25:23 2025\n",
    ">>>\n",
    "\n",
    "if __name__ == '__main__':\n",
    "    fx()"
   ]
  },
  {
   "cell_type": "code",
   "execution_count": null,
   "id": "b80dafb6-7f01-475d-b504-6cb8b475adda",
   "metadata": {},
   "outputs": [],
   "source": [
    " file: pa.py                                      file: p1.py     file: p2.py\n",
    "+----------------------------------------+        ------------    ============\n",
    "| def display():                                   import pa        import pa\n",
    "|     print('display list of servers')             # both function      |->both function block\n",
    "|                                                 # will execute        will execute\n",
    "| def report():                                                           \n",
    "|     print('Generate report')                                     \n",
    "|\n",
    "| app = 'testApp'\n",
    "| port = 4940\n",
    "| display()\n",
    "| report()\n",
    "+----------------------------------------+"
   ]
  },
  {
   "cell_type": "code",
   "execution_count": null,
   "id": "081f1b4e-114a-4e05-9fbf-d608eedceda5",
   "metadata": {},
   "outputs": [],
   "source": [
    "File: pa.py\n",
    "================\n",
    "def f1():\n",
    "\tprint('This is f1 block:',__name__)\n",
    "\n",
    "\n",
    "if __name__ == '__main__':\n",
    "\tf1()\n",
    "===========================================================\n",
    "C:\\Users\\karth>python\n",
    "Python 3.10.0 (tags/v3.10.0:b494f59, Oct  4 2021, 19:00:18) [MSC v.1929 64 bit (AMD64)] on win32\n",
    "Type \"help\", \"copyright\", \"credits\" or \"license\" for more information.\n",
    ">>>\n",
    ">>> __name__\n",
    "'__main__'\n",
    ">>> exit()\n",
    "\n",
    "C:\\Users\\karth>notepad pa.py\n",
    "\n",
    "C:\\Users\\karth>python pa.py\n",
    "This is f1 block: __main__\n",
    "\n",
    "C:\\Users\\karth>python\n",
    "Python 3.10.0 (tags/v3.10.0:b494f59, Oct  4 2021, 19:00:18) [MSC v.1929 64 bit (AMD64)] on win32\n",
    "Type \"help\", \"copyright\", \"credits\" or \"license\" for more information.\n",
    ">>> import pa\n",
    ">>> pa.f1()\n",
    "This is f1 block: pa\n",
    ">>> __name__\n",
    "'__main__'\n",
    ">>> exit()\n",
    "\n",
    "C:\\Users\\karth>\n",
    "C:\\Users\\karth>python pa.py\n",
    "\n",
    "C:\\Users\\karth>\n",
    "C:\\Users\\karth>python\n",
    "Python 3.10.0 (tags/v3.10.0:b494f59, Oct  4 2021, 19:00:18) [MSC v.1929 64 bit (AMD64)] on win32\n",
    "Type \"help\", \"copyright\", \"credits\" or \"license\" for more information.\n",
    ">>>\n",
    ">>> import pa\n",
    ">>> pa.f1()\n",
    "This is f1 block: pa\n",
    ">>> exit()\n",
    "\n",
    "C:\\Users\\karth>python pa.py\n",
    "This is f1 block: __main__\n",
    "\n",
    "C:\\Users\\karth>python\n",
    "Python 3.10.0 (tags/v3.10.0:b494f59, Oct  4 2021, 19:00:18) [MSC v.1929 64 bit (AMD64)] on win32\n",
    "Type \"help\", \"copyright\", \"credits\" or \"license\" for more information.\n",
    ">>>\n",
    ">>> import pa\n",
    ">>> pa.f1()\n",
    "This is f1 block: pa\n",
    ">>>\n",
    ">>> import pa\n",
    ">>> pa.f1()\n",
    "This is f1 block: pa\n",
    ">>> exit()\n",
    "\n",
    "C:\\Users\\karth>"
   ]
  },
  {
   "cell_type": "code",
   "execution_count": 153,
   "id": "00a75759-0f22-4ef4-a79f-093585eab5bd",
   "metadata": {},
   "outputs": [
    {
     "name": "stdin",
     "output_type": "stream",
     "text": [
      "Enter a pinNumber: 345\n",
      "Enter a pinNumber: 1234\n"
     ]
    },
    {
     "name": "stdout",
     "output_type": "stream",
     "text": [
      "Success - matched - 2 - Input date/time:Wed Sep 10 14:38:17 2025\n"
     ]
    }
   ],
   "source": [
    "# File: pinExample.py\n",
    "# ------------------\n",
    "import time\n",
    "'''This is pin Number validation code'''\n",
    "def pinTest():\n",
    "    '''pinTest - simple function call'''\n",
    "    Wobj = open('pinHistory.log','a')\n",
    "    pin = 1234\n",
    "    count = 0\n",
    "    while(count < 3):\n",
    "        p = input('Enter a pinNumber:')\n",
    "        count = count + 1\n",
    "        if(int(p) == pin):\n",
    "            Wobj.write(f'Success - matched - {count} - Input date/time:{time.ctime()}\\n')\n",
    "            print(f'Success - matched - {count} - Input date/time:{time.ctime()}')\n",
    "            break\n",
    "        else:\n",
    "            Wobj.write(f'Failed - User input pinNumber:{p} - Input date/time:{time.ctime()}\\n')\n",
    "    if(int(p) != pin):\n",
    "        Wobj.write(f'Pin is Blocked - Entry time is:{time.ctime()}\\n')\n",
    "        print(f'Pin is Blocked')\n",
    "    Wobj.close()\n",
    "\n",
    "if __name__ == '__main__':\n",
    "    pinTest()"
   ]
  },
  {
   "cell_type": "code",
   "execution_count": null,
   "id": "ea5c6a3d-da49-4143-8930-487b796f60f3",
   "metadata": {},
   "outputs": [],
   "source": [
    "In Python - class <--> object \n",
    "\n",
    "10 <== object/value - int class/type\n",
    "\n",
    "OOPs \n",
    "- class  \n",
    "- object \n",
    "- method \n",
    "\n",
    "class - Template - type\n",
    "|\n",
    "class <className>:\n",
    "    .....\n",
    "    .....\n",
    "    ..... attribute"
   ]
  },
  {
   "cell_type": "code",
   "execution_count": 157,
   "id": "53bfc726-ee56-45f2-ab82-48ecfa5194c6",
   "metadata": {},
   "outputs": [
    {
     "name": "stdout",
     "output_type": "stream",
     "text": [
      "1033\n",
      "D1\n",
      "True\n"
     ]
    },
    {
     "ename": "AttributeError",
     "evalue": "type object 'deviceInfo' has no attribute 'DEVICEId'",
     "output_type": "error",
     "traceback": [
      "\u001b[1;31m---------------------------------------------------------------------------\u001b[0m",
      "\u001b[1;31mAttributeError\u001b[0m                            Traceback (most recent call last)",
      "Cell \u001b[1;32mIn[157], line 10\u001b[0m\n\u001b[0;32m      8\u001b[0m \u001b[38;5;28mprint\u001b[39m(deviceInfo\u001b[38;5;241m.\u001b[39mdeviceName)\n\u001b[0;32m      9\u001b[0m \u001b[38;5;28mprint\u001b[39m(deviceInfo\u001b[38;5;241m.\u001b[39mdevicestatus)\n\u001b[1;32m---> 10\u001b[0m \u001b[38;5;28mprint\u001b[39m(deviceInfo\u001b[38;5;241m.\u001b[39mDEVICEId)\n",
      "\u001b[1;31mAttributeError\u001b[0m: type object 'deviceInfo' has no attribute 'DEVICEId'"
     ]
    }
   ],
   "source": [
    "class deviceInfo:\n",
    "    deviceID = 1033\n",
    "    deviceName = 'D1'\n",
    "    devicestatus = True\n",
    "\n",
    "\n",
    "print(deviceInfo.deviceID)\n",
    "print(deviceInfo.deviceName)\n",
    "print(deviceInfo.devicestatus)\n",
    "print(deviceInfo.DEVICEId)"
   ]
  },
  {
   "cell_type": "code",
   "execution_count": 158,
   "id": "ae95b09c-a038-4323-b615-1214ef12ccb0",
   "metadata": {},
   "outputs": [
    {
     "name": "stdout",
     "output_type": "stream",
     "text": [
      "1033\n",
      "D1\n",
      "True\n"
     ]
    }
   ],
   "source": [
    "class deviceInfo:\n",
    "    deviceID = 1033\n",
    "    deviceName = 'D1'\n",
    "    devicestatus = True\n",
    "\n",
    "\n",
    "print(deviceInfo.deviceID)\n",
    "print(deviceInfo.deviceName)\n",
    "print(deviceInfo.devicestatus)\n",
    "deviceInfo.deviceName = \"LMR1devices\" # we can modify an class attribute"
   ]
  },
  {
   "cell_type": "code",
   "execution_count": 159,
   "id": "34188298-03e0-43fd-94d7-d3bf73be4d1a",
   "metadata": {},
   "outputs": [
    {
     "data": {
      "text/plain": [
       "'LMR1devices'"
      ]
     },
     "execution_count": 159,
     "metadata": {},
     "output_type": "execute_result"
    }
   ],
   "source": [
    "deviceInfo.deviceName"
   ]
  },
  {
   "cell_type": "code",
   "execution_count": 161,
   "id": "7a6dc1ef-ffd6-4be2-80b4-6453c433fcff",
   "metadata": {},
   "outputs": [
    {
     "name": "stdout",
     "output_type": "stream",
     "text": [
      "101\n",
      "505 Box-1\n",
      "\n"
     ]
    },
    {
     "ename": "AttributeError",
     "evalue": "type object 'box' has no attribute 'bid'",
     "output_type": "error",
     "traceback": [
      "\u001b[1;31m---------------------------------------------------------------------------\u001b[0m",
      "\u001b[1;31mAttributeError\u001b[0m                            Traceback (most recent call last)",
      "Cell \u001b[1;32mIn[161], line 12\u001b[0m\n\u001b[0;32m     10\u001b[0m \u001b[38;5;28;01mdel\u001b[39;00m(box\u001b[38;5;241m.\u001b[39mbid) \u001b[38;5;66;03m# we can delete an existing attribute\u001b[39;00m\n\u001b[0;32m     11\u001b[0m \u001b[38;5;28mprint\u001b[39m(\u001b[38;5;124m'\u001b[39m\u001b[38;5;124m'\u001b[39m)\n\u001b[1;32m---> 12\u001b[0m \u001b[38;5;28mprint\u001b[39m(box\u001b[38;5;241m.\u001b[39mbid)\n",
      "\u001b[1;31mAttributeError\u001b[0m: type object 'box' has no attribute 'bid'"
     ]
    }
   ],
   "source": [
    "# python user defined class - mutable structure \n",
    "# ------------------------------------------------\n",
    "class box:\n",
    "    bid = 101\n",
    "\n",
    "print(box.bid) # we can fetch an existing class attribute\n",
    "box.bid = 505 # we can modify an existing attribute\n",
    "box.bname = \"Box-1\" # we can add new attribute to an existing class\n",
    "print(box.bid,box.bname)\n",
    "del(box.bid) # we can delete an existing attribute\n",
    "print('')\n",
    "print(box.bid) # AttributeError"
   ]
  },
  {
   "cell_type": "code",
   "execution_count": 162,
   "id": "e6d67b07-b421-4519-b361-41136b51b5cf",
   "metadata": {},
   "outputs": [
    {
     "name": "stdout",
     "output_type": "stream",
     "text": [
      "<class 'type'> <class 'type'> <class 'type'> <class 'type'> <class 'type'> <class 'type'> <class 'type'> <class 'type'>\n"
     ]
    }
   ],
   "source": [
    "print(type(int),type(float),type(list),type(bool),type(str),type(dict),type(set),type(tuple))"
   ]
  },
  {
   "cell_type": "code",
   "execution_count": 163,
   "id": "e9633716-6280-4904-8404-da0735aeb7b7",
   "metadata": {},
   "outputs": [
    {
     "name": "stdout",
     "output_type": "stream",
     "text": [
      "<class 'type'>\n"
     ]
    }
   ],
   "source": [
    "print(type(box))"
   ]
  },
  {
   "cell_type": "code",
   "execution_count": null,
   "id": "19e064bf-6e8a-4388-882f-3e9c432cbd98",
   "metadata": {},
   "outputs": [],
   "source": [
    "  +-----------------------+\n",
    "  | [] []           []    | <== blueprint sheet --- class  \n",
    "  | (white)               |\n",
    "  +----------|     |------+\n",
    "\n",
    "   |             | \n",
    "   |             |\n",
    "+========+    +===========+\n",
    "| [][] []|     | [][]  []|\n",
    "+----| |-+     +-----| |--+\n",
    "Building-1      Building-2  <== Real entity - object   className() //Constructor\n",
    " |               |\n",
    "1st main         2nd main <== Address - memory <== each object having own address\n",
    "\n",
    "\n",
    ">>> class box:\n",
    "...     bid = 101\n",
    "...\n",
    ">>> box\n",
    "<class '__main__.box'>\n",
    ">>>\n",
    ">>> box()\n",
    "<__main__.box object at 0x000001CFAAA010C0>\n",
    ">>> box()\n",
    "<__main__.box object at 0x000001CFAAA32350>\n",
    ">>>\n",
    ">>>\n",
    ">>> obj1 = box()\n",
    ">>> obj2 = box()\n",
    ">>>\n",
    ">>> obj1.bid\n",
    "101\n",
    ">>> obj2.bid\n",
    "101\n",
    ">>> box.bid = 505 # using classname we can overwrite an attribute\n",
    ">>> obj1.bid\n",
    "505\n",
    ">>> obj2.bid\n",
    "505\n",
    ">>> box.bid\n",
    "505\n",
    ">>> obj1.bid = 'B1-101' # object based initialization\n",
    ">>> obj1.bid\n",
    "'B1-101'\n",
    ">>> box.bid = 504\n",
    ">>>\n",
    ">>> obj1.bid\n",
    "'B1-101'\n",
    ">>> obj2.bind\n",
    "Traceback (most recent call last):\n",
    "  File \"<stdin>\", line 1, in <module>\n",
    "AttributeError: 'box' object has no attribute 'bind'. Did you mean: 'bid'?\n",
    ">>>\n",
    ">>> obj2.bid\n",
    "504\n",
    ">>>\n",
    "      "
   ]
  },
  {
   "cell_type": "code",
   "execution_count": 166,
   "id": "a1263c84-1b92-49a1-9e18-db79735ab592",
   "metadata": {},
   "outputs": [
    {
     "name": "stdout",
     "output_type": "stream",
     "text": [
      "Emp name is:Arun  DOB:1st Jan\n",
      "Emp name is:Vijay  DOB:2nd Feb\n"
     ]
    }
   ],
   "source": [
    "class Enrollment:\n",
    "    Name = ''\n",
    "    DOB = ''\n",
    "\n",
    "eobj1 = Enrollment()\n",
    "eobj1.Name = 'Arun'\n",
    "eobj1.DOB = '1st Jan'\n",
    "\n",
    "eobj2 = Enrollment()\n",
    "eobj2.Name = 'Vijay'\n",
    "eobj2.DOB = '2nd Feb'\n",
    "\n",
    "print(f'Emp name is:{eobj1.Name}  DOB:{eobj1.DOB}')\n",
    "print(f'Emp name is:{eobj2.Name}  DOB:{eobj2.DOB}')\n",
    "\n",
    "# eobj1.place AttributeError: 'Enrollment' object has no attribute 'place'"
   ]
  },
  {
   "cell_type": "code",
   "execution_count": 168,
   "id": "32c0fef0-ae91-4967-a0ea-7fa8e6ddb647",
   "metadata": {},
   "outputs": [
    {
     "name": "stdout",
     "output_type": "stream",
     "text": [
      "Emp name is:Arun  DOB:1st Jan\n",
      "Emp name is:Vijay  DOB:2nd Feb\n",
      "Arun working City:City-1\n",
      "Vijay Working City:City-2\n"
     ]
    }
   ],
   "source": [
    "class Enrollment:\n",
    "    Name = ''\n",
    "    DOB = ''\n",
    "\n",
    "eobj1 = Enrollment()\n",
    "eobj1.Name = 'Arun'\n",
    "eobj1.DOB = '1st Jan'\n",
    "\n",
    "eobj2 = Enrollment()\n",
    "eobj2.Name = 'Vijay'\n",
    "eobj2.DOB = '2nd Feb'\n",
    "\n",
    "print(f'Emp name is:{eobj1.Name}  DOB:{eobj1.DOB}')\n",
    "print(f'Emp name is:{eobj2.Name}  DOB:{eobj2.DOB}')\n",
    "\n",
    "Enrollment.Place = '' # adding new attribute to an existing class\n",
    "eobj1.Place = 'City-1' # object based initialization\n",
    "eobj2.Place = 'City-2' # object based initialization\n",
    "\n",
    "print(f'''{eobj1.Name} working City:{eobj1.Place}\n",
    "{eobj2.Name} Working City:{eobj2.Place}''')"
   ]
  },
  {
   "cell_type": "code",
   "execution_count": 170,
   "id": "683e758c-81b5-4d26-b651-8e939730d013",
   "metadata": {},
   "outputs": [
    {
     "name": "stdout",
     "output_type": "stream",
     "text": [
      "<class 'function'>\n",
      "<class 'method'>\n"
     ]
    }
   ],
   "source": [
    "def f1():\n",
    "    print(\"Hello\")\n",
    "\n",
    "class Box:\n",
    "    def f2():\n",
    "        print(\"Hello\")\n",
    "\n",
    "obj = Box()\n",
    "print(type(f1)) # f1()\n",
    "print(type(obj.f2)) # obj.f2() "
   ]
  },
  {
   "cell_type": "code",
   "execution_count": 173,
   "id": "9f78dadd-7ac9-4f96-b9f5-e13e7d55933f",
   "metadata": {},
   "outputs": [
    {
     "name": "stdout",
     "output_type": "stream",
     "text": [
      "Hello\n"
     ]
    }
   ],
   "source": [
    "def f1():\n",
    "    print(\"Hello\")\n",
    "\n",
    "f1()\n",
    "# f1(10) TypeError: f1() takes 0 positional arguments but 1 was given"
   ]
  },
  {
   "cell_type": "code",
   "execution_count": 177,
   "id": "438005aa-f774-4380-9dec-722a57659372",
   "metadata": {},
   "outputs": [
    {
     "name": "stdout",
     "output_type": "stream",
     "text": [
      "Hello <__main__.Box object at 0x0000028FAC367E00>\n",
      "obj1= <__main__.Box object at 0x0000028FAC367E00> \n",
      "\n",
      "Hello <__main__.Box object at 0x0000028FAD590B90>\n",
      "obj2= <__main__.Box object at 0x0000028FAD590B90>\n"
     ]
    }
   ],
   "source": [
    "class Box:\n",
    "    def f2():\n",
    "        print(\"Hello\")\n",
    "\n",
    "obj = Box()\n",
    "# obj.f2() TypeError: Box.f2() takes 0 positional arguments but 1 was given\n",
    "#\n",
    "# obj.f2() --> f2(obj) \n",
    "# obj.f2(10,20,30) --------->f2(obj,10,20,30) \n",
    "#\n",
    "class Box:\n",
    "    def f2(self):\n",
    "        print(\"Hello\",self) \n",
    "\n",
    "obj1 = Box()\n",
    "obj1.f2() ### f2(obj1)\n",
    "print(\"obj1=\",obj1,\"\\n\")\n",
    "\n",
    "obj2 = Box()\n",
    "obj2.f2() ### f2(obj2)\n",
    "print(\"obj2=\",obj2)"
   ]
  },
  {
   "cell_type": "code",
   "execution_count": 179,
   "id": "5d3b4800-ef4f-4167-83aa-0816763960f9",
   "metadata": {},
   "outputs": [],
   "source": [
    "class Enrollment:\n",
    "    Name = ''\n",
    "    DOB = ''\n",
    "    Place = ''\n",
    "    def f1(self,ename,edob,eplace):\n",
    "        '''emp initialization '''\n",
    "        self.Name = ename\n",
    "        self.DOB = edob\n",
    "        self.Place = eplace\n",
    "        print(f'{self.Name} Enrollment is done')\n",
    "    def f2(self):\n",
    "        ''' display emp details '''\n",
    "        print(f'Emp Name:{self.Name} DOB:{self.DOB} Place:{self.Place}')\n",
    "    def f3(self,eplace):\n",
    "        ''' update emp working City '''\n",
    "        self.Place = eplace \n",
    "        print(f'Emp {self.Name} updated details:-')\n",
    "        self.f2() # nested methodCall\n",
    "        "
   ]
  },
  {
   "cell_type": "code",
   "execution_count": 180,
   "id": "720de413-84ce-45e9-9bfe-adfd0f5c6919",
   "metadata": {},
   "outputs": [
    {
     "name": "stdout",
     "output_type": "stream",
     "text": [
      "Arun Enrollment is done\n"
     ]
    }
   ],
   "source": [
    "eobj1 = Enrollment()\n",
    "eobj1.f1('Arun','1st Jan','City-1') # f1(eobj1,'Arun','1st Jan','City-1')"
   ]
  },
  {
   "cell_type": "code",
   "execution_count": 181,
   "id": "4904b7f3-fbf3-4aca-947e-ef553f11fe15",
   "metadata": {},
   "outputs": [
    {
     "name": "stdout",
     "output_type": "stream",
     "text": [
      "Vijay Enrollment is done\n",
      "Anu Enrollment is done\n"
     ]
    }
   ],
   "source": [
    "eobj2 = Enrollment()\n",
    "eobj2.f1('Vijay','2nd Feb','City-2')\n",
    "eobj3 = Enrollment()\n",
    "eobj3.f1('Anu','3rd March','City-3')"
   ]
  },
  {
   "cell_type": "code",
   "execution_count": 184,
   "id": "3132f5ff-8c55-4649-b5fa-06a53dd92363",
   "metadata": {},
   "outputs": [
    {
     "name": "stdout",
     "output_type": "stream",
     "text": [
      "Emp Name:Arun DOB:1st Jan Place:City-1\n",
      "Emp Name:Vijay DOB:2nd Feb Place:City-2\n",
      "Emp Name:Anu DOB:3rd March Place:City-3\n"
     ]
    }
   ],
   "source": [
    "eobj1.f2()\n",
    "eobj2.f2()\n",
    "eobj3.f2()"
   ]
  },
  {
   "cell_type": "code",
   "execution_count": 186,
   "id": "6092dcc0-5d3a-49f4-86f8-7c660e1fd4d9",
   "metadata": {},
   "outputs": [
    {
     "name": "stdout",
     "output_type": "stream",
     "text": [
      "Emp Name:Arun DOB:1st Jan Place:City-1\n",
      "Emp Name:Vijay DOB:2nd Feb Place:City-2\n",
      "Emp Name:Anu DOB:3rd March Place:City-3\n"
     ]
    }
   ],
   "source": [
    "for var in [eobj1,eobj2,eobj3]:\n",
    "    var.f2()\n",
    "    time.sleep(2) # 1sec delay"
   ]
  },
  {
   "cell_type": "code",
   "execution_count": 187,
   "id": "06e952cf-4428-49ea-ac7f-b4f68d7595b2",
   "metadata": {},
   "outputs": [
    {
     "name": "stdout",
     "output_type": "stream",
     "text": [
      "Emp Vijay updated details:-\n",
      "Emp Name:Vijay DOB:2nd Feb Place:Pune\n"
     ]
    }
   ],
   "source": [
    "eobj2.f3('Pune')"
   ]
  },
  {
   "cell_type": "code",
   "execution_count": null,
   "id": "29f08492-999a-4700-8804-fbd568947071",
   "metadata": {},
   "outputs": [],
   "source": [
    ">>> import EmpEnrollment\n",
    ">>>\n",
    ">>> import EmpEnrollment as Emp\n",
    ">>>\n",
    ">>> Emp\n",
    "<module 'EmpEnrollment' from 'C:\\\\Users\\\\karth\\\\EmpEnrollment.py'>\n",
    ">>> help(Emp)\n",
    "Help on module EmpEnrollment:\n",
    "\n",
    "NAME\n",
    "    EmpEnrollment - About Emp enrollment details\n",
    "\n",
    "CLASSES\n",
    "    builtins.object\n",
    "        Enrollment\n",
    "\n",
    "    class Enrollment(builtins.object)\n",
    "     |  Enrollment App\n",
    "     |\n",
    "     |  Methods defined here:\n",
    "     |\n",
    "     |  f1(self, ename, edob, eplace)\n",
    "     |      emp initialization\n",
    "     |\n",
    "     |  f2(self)\n",
    "     |      display emp details\n",
    "     |\n",
    "     |  f3(self, eplace)\n",
    "     |      update emp working City\n",
    "     |\n",
    "     |  ----------------------------------------------------------------------\n",
    "     |  Data descriptors defined here:\n",
    "     |\n",
    "     |  __dict__\n",
    "     |      dictionary for instance variables (if defined)\n",
    "     |\n",
    "     |  __weakref__\n",
    "     |      list of weak references to the object (if defined)\n",
    "     |\n",
    "     |  ----------------------------------------------------------------------\n",
    "     |  Data and other attributes defined here:\n",
    "     |\n",
    "     |  DOB = ''\n",
    "     |\n",
    "     |  Name = ''\n",
    "     |\n",
    "     |  Place = ''\n",
    "\n",
    "FILE\n",
    "    c:\\users\\karth\\empenrollment.py\n",
    "\n",
    "\n",
    ">>> help(Emp.Enrollment)\n",
    "Help on class Enrollment in module EmpEnrollment:\n",
    "\n",
    "class Enrollment(builtins.object)\n",
    " |  Enrollment App\n",
    " |\n",
    " |  Methods defined here:\n",
    " |\n",
    " |  f1(self, ename, edob, eplace)\n",
    " |      emp initialization\n",
    " |\n",
    " |  f2(self)\n",
    " |      display emp details\n",
    " |\n",
    " |  f3(self, eplace)\n",
    " |      update emp working City\n",
    " |\n",
    " |  ----------------------------------------------------------------------\n",
    " |  Data descriptors defined here:\n",
    " |\n",
    " |  __dict__\n",
    " |      dictionary for instance variables (if defined)\n",
    " |\n",
    " |  __weakref__\n",
    " |      list of weak references to the object (if defined)\n",
    " |\n",
    " |  ----------------------------------------------------------------------\n",
    " |  Data and other attributes defined here:\n",
    " |\n",
    " |  DOB = ''\n",
    " |\n",
    " |  Name = ''\n",
    " |\n",
    " |  Place = ''\n",
    "\n",
    ">>>"
   ]
  },
  {
   "cell_type": "code",
   "execution_count": null,
   "id": "87d84a07-4031-4b6b-be0e-8ab22cfc1c9a",
   "metadata": {},
   "outputs": [],
   "source": [
    "class\n",
    "object\n",
    "method"
   ]
  },
  {
   "cell_type": "code",
   "execution_count": 188,
   "id": "194defe4-32fe-48bc-8100-a0a6fdd17613",
   "metadata": {},
   "outputs": [
    {
     "data": {
      "text/plain": [
       "'ABC'"
      ]
     },
     "execution_count": 188,
     "metadata": {},
     "output_type": "execute_result"
    }
   ],
   "source": [
    "s='abc'\n",
    "s.upper()"
   ]
  },
  {
   "cell_type": "code",
   "execution_count": 189,
   "id": "f8c91cdd-0b7d-4848-8b34-758577577c6f",
   "metadata": {},
   "outputs": [
    {
     "name": "stdout",
     "output_type": "stream",
     "text": [
      "Help on method_descriptor:\n",
      "\n",
      "upper(self, /) unbound builtins.str method\n",
      "    Return a copy of the string converted to uppercase.\n",
      "\n"
     ]
    }
   ],
   "source": [
    "help(str.upper)"
   ]
  },
  {
   "cell_type": "code",
   "execution_count": 192,
   "id": "ea49f804-5436-4ff5-96ea-c5c8e6449331",
   "metadata": {},
   "outputs": [],
   "source": [
    "#help(list)"
   ]
  },
  {
   "cell_type": "code",
   "execution_count": null,
   "id": "3380a8e1-9dfc-48d8-955f-113ae5a73772",
   "metadata": {},
   "outputs": [],
   "source": []
  }
 ],
 "metadata": {
  "kernelspec": {
   "display_name": "Python [conda env:base] *",
   "language": "python",
   "name": "conda-base-py"
  },
  "language_info": {
   "codemirror_mode": {
    "name": "ipython",
    "version": 3
   },
   "file_extension": ".py",
   "mimetype": "text/x-python",
   "name": "python",
   "nbconvert_exporter": "python",
   "pygments_lexer": "ipython3",
   "version": "3.13.5"
  }
 },
 "nbformat": 4,
 "nbformat_minor": 5
}
