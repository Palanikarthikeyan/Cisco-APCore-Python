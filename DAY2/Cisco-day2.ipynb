{
 "cells": [
  {
   "cell_type": "code",
   "execution_count": 1,
   "id": "0852021d-fbeb-4918-9f99-14f3f0c1bdae",
   "metadata": {},
   "outputs": [
    {
     "name": "stdout",
     "output_type": "stream",
     "text": [
      "<class 'list'>\n"
     ]
    }
   ],
   "source": [
    "emp1 = {'eid':101,'ename':'Raj','edept':'sales'}\n",
    "\n",
    "emp2 = {'eid':[101,102,103],\n",
    "        'ename':['Raj','Leo','Paul'],\n",
    "        'edept':['sales','devops','DE']\n",
    "        } # dict of list\n",
    "\n",
    "print(type(emp2['eid']))\n",
    "# we can add new data to an exist\n",
    "emp2['eid'].append(104) \n",
    "emp2['ename'].append('Shiv')\n",
    "emp2['edept'].append('QA')"
   ]
  },
  {
   "cell_type": "code",
   "execution_count": 2,
   "id": "1086be64-d7de-44f1-924c-c91ec43062fc",
   "metadata": {},
   "outputs": [
    {
     "data": {
      "text/plain": [
       "{'eid': [101, 102, 103, 104],\n",
       " 'ename': ['Raj', 'Leo', 'Paul', 'Shiv'],\n",
       " 'edept': ['sales', 'devops', 'DE', 'QA']}"
      ]
     },
     "execution_count": 2,
     "metadata": {},
     "output_type": "execute_result"
    }
   ],
   "source": [
    "emp2"
   ]
  },
  {
   "cell_type": "code",
   "execution_count": 5,
   "id": "4553c2a9-d01f-4ebc-942b-fa02a94bb88a",
   "metadata": {},
   "outputs": [
    {
     "name": "stdout",
     "output_type": "stream",
     "text": [
      "101 Raj sales\n"
     ]
    }
   ],
   "source": [
    "print(emp2['eid'][0],emp2['ename'][0],emp2['edept'][0])"
   ]
  },
  {
   "cell_type": "code",
   "execution_count": 6,
   "id": "5c2c6e84-02a0-4da1-a56a-edb41c85ee86",
   "metadata": {},
   "outputs": [],
   "source": [
    "emp2['edept'][0] = 'Admin' # we can modify an existing value - mutable "
   ]
  },
  {
   "cell_type": "code",
   "execution_count": 7,
   "id": "cb3dbb95-d0fd-4654-9edb-dd51fb91956a",
   "metadata": {},
   "outputs": [
    {
     "data": {
      "text/plain": [
       "['Admin', 'devops', 'DE', 'QA']"
      ]
     },
     "execution_count": 7,
     "metadata": {},
     "output_type": "execute_result"
    }
   ],
   "source": [
    "emp2['edept']"
   ]
  },
  {
   "cell_type": "code",
   "execution_count": 8,
   "id": "6b280e74-d3b1-4880-8c84-3e4143cc6f36",
   "metadata": {},
   "outputs": [
    {
     "name": "stdout",
     "output_type": "stream",
     "text": [
      "101 Raj Admin\n"
     ]
    }
   ],
   "source": [
    "print(emp2['eid'][0],emp2['ename'][0],emp2['edept'][0])"
   ]
  },
  {
   "cell_type": "code",
   "execution_count": 12,
   "id": "4d49b721-3ac5-4b02-b140-44acb1e17421",
   "metadata": {},
   "outputs": [
    {
     "name": "stdout",
     "output_type": "stream",
     "text": [
      "<class 'dict'>\n",
      "<class 'tuple'>\n",
      "101\n"
     ]
    }
   ],
   "source": [
    "# Task\n",
    "#---------\n",
    "# create an emp records - dict of tuple\n",
    "# display dict details\n",
    "# fetch single data \n",
    "#------------------------------------\n",
    "emp2 = {'eid':(101,102,103),\n",
    "        'ename':('Raj','Leo','Paul'),\n",
    "        'edept':('sales','devops','DE')\n",
    "        } # dict of tuple\n",
    "\n",
    "print(type(emp2))\n",
    "print(type(emp2['eid']))\n",
    "print(emp2['eid'][0])\n",
    "\n",
    "emp2['eplace']=('City-1','City-2','City-3','City-4') # We can add new data to an existing dict"
   ]
  },
  {
   "cell_type": "code",
   "execution_count": 13,
   "id": "44d157df-6ab7-481a-bd99-ecb0883fb074",
   "metadata": {},
   "outputs": [
    {
     "data": {
      "text/plain": [
       "{'eid': (101, 102, 103),\n",
       " 'ename': ('Raj', 'Leo', 'Paul'),\n",
       " 'edept': ('sales', 'devops', 'DE'),\n",
       " 'eplace': ('City-1', 'City-2', 'City-3', 'City-4')}"
      ]
     },
     "execution_count": 13,
     "metadata": {},
     "output_type": "execute_result"
    }
   ],
   "source": [
    "emp2"
   ]
  },
  {
   "cell_type": "code",
   "execution_count": null,
   "id": "58b64ef0-279a-4e2c-ab3a-77eecb88a641",
   "metadata": {},
   "outputs": [],
   "source": [
    "# dict of dict\n",
    "# ----------------\n",
    "emp2={'eid':{'K1':101,'K2':102,'K3':103},'ename':{'K1':'Raj','K2':'Leo','K3':'Anu'}}\n",
    "     # ---------------------------------| ----------------------------------------"
   ]
  },
  {
   "cell_type": "code",
   "execution_count": 14,
   "id": "608e43db-24b5-4039-8b06-a5a3b3a80d39",
   "metadata": {},
   "outputs": [
    {
     "data": {
      "text/plain": [
       "{'K1': 101}"
      ]
     },
     "execution_count": 14,
     "metadata": {},
     "output_type": "execute_result"
    }
   ],
   "source": [
    "d={'K1':'V1','K1':10,'K1':101} # duplicate key\n",
    "d"
   ]
  },
  {
   "cell_type": "code",
   "execution_count": 15,
   "id": "bf7165ef-5dd2-42a1-b392-7a5f4506f809",
   "metadata": {},
   "outputs": [
    {
     "name": "stdout",
     "output_type": "stream",
     "text": [
      "{'K1': {'K1': 'V1'}, 'K2': {'K1': 10}, 'K3': {'K1': 101}}\n"
     ]
    }
   ],
   "source": [
    "d={'K1':{'K1':'V1'},'K2':{'K1':10},'K3':{'K1':101}} \n",
    "print(d)"
   ]
  },
  {
   "cell_type": "code",
   "execution_count": 16,
   "id": "158c2ba7-206b-4477-8821-78242886bf1e",
   "metadata": {},
   "outputs": [
    {
     "name": "stdout",
     "output_type": "stream",
     "text": [
      "101 Raj\n"
     ]
    }
   ],
   "source": [
    "emp2={'eid':{'K1':101,'K2':102,'K3':103},'ename':{'K1':'Raj','K2':'Leo','K3':'Anu'}}\n",
    "\n",
    "print(emp2['eid']['K1'],emp2['ename']['K1'])\n"
   ]
  },
  {
   "cell_type": "code",
   "execution_count": 17,
   "id": "510322cc-0322-490d-b3ba-2f13b53c17ee",
   "metadata": {},
   "outputs": [
    {
     "name": "stdout",
     "output_type": "stream",
     "text": [
      "<class 'list'>\n",
      "<class 'dict'>\n"
     ]
    }
   ],
   "source": [
    "L = [ [\"D1\",\"D2\",\"D3\"],(\"D4\",\"D5\"),{\"K1\":\"V1\",\"K2\":\"V2\"}]\n",
    "#     ----0-----------|-----1-----|---------2----------\n",
    "print(type(L))\n",
    "print(type(L[2]))"
   ]
  },
  {
   "cell_type": "code",
   "execution_count": 18,
   "id": "0aed0f86-dc53-493e-a6c9-190e11659524",
   "metadata": {},
   "outputs": [
    {
     "name": "stdout",
     "output_type": "stream",
     "text": [
      "V1\n"
     ]
    }
   ],
   "source": [
    "print(L[2]['K1'])"
   ]
  },
  {
   "cell_type": "code",
   "execution_count": null,
   "id": "2a53482b-015e-409e-b08a-6a591a798c65",
   "metadata": {},
   "outputs": [],
   "source": [
    "d = {'K1':[10,20,30]}  # d['K1'][0] ->10\n",
    "L = [{'K1':10}]        # L[0]['K1'] ->10"
   ]
  },
  {
   "cell_type": "code",
   "execution_count": null,
   "id": "0a8d2870-9a24-4998-8dee-fc20563487c0",
   "metadata": {},
   "outputs": [],
   "source": [
    "d={'K1':[{},{},{},{}]}\n",
    "  | --- |___________||\n",
    "  |__________________|"
   ]
  },
  {
   "cell_type": "code",
   "execution_count": 25,
   "id": "e825277d-d912-441e-abf1-5c87a9e6aac5",
   "metadata": {},
   "outputs": [
    {
     "name": "stdout",
     "output_type": "stream",
     "text": [
      "{'K1': [{'K1': 'V1'}], 'K2': [{'K1': 10}, {'K2': 20}, {'K3': 30}, {'K4': [40, 50, 60, {'Kx': 'Vx', 'Ky': 'Vy'}]}]}\n"
     ]
    }
   ],
   "source": [
    "d={}\n",
    "d['K1']=[{'K1':'V1'}]\n",
    "d['K2']=[{'K1':10},{'K2':20},{'K3':30},{'K4':[40,50,60,{'Kx':'Vx','Ky':'Vy'}]}]\n",
    "print(d)"
   ]
  },
  {
   "cell_type": "code",
   "execution_count": 26,
   "id": "65feb58b-c909-4edf-b454-be0dafc3a102",
   "metadata": {},
   "outputs": [
    {
     "name": "stdout",
     "output_type": "stream",
     "text": [
      "{'K1': [{'K1': 'V1'}],\n",
      " 'K2': [{'K1': 10},\n",
      "        {'K2': 20},\n",
      "        {'K3': 30},\n",
      "        {'K4': [40, 50, 60, {'Kx': 'Vx', 'Ky': 'Vy'}]}]}\n"
     ]
    }
   ],
   "source": [
    "import pprint\n",
    "pprint.pprint(d)"
   ]
  },
  {
   "cell_type": "code",
   "execution_count": null,
   "id": "ea43868a-0f4c-4aae-927e-e275d5a50dad",
   "metadata": {},
   "outputs": [],
   "source": [
    "JSON \n",
    " Store and exchange data - between webApplications\n",
    "\n",
    "Json                     Python\n",
    "int,float               int,float\n",
    "str                      str\n",
    "Array                   list\n",
    "Object                  dict\n",
    "true,false              True,False\n",
    "nil                     None\n",
    "\n",
    "from json data -->python data => json.loads(json_data) ->python_data\n",
    "\n",
    "from python data -->json data => json.dumps(python_data) ->json_data\n",
    "\n",
    "Client ------->Webserver-------->ServerCode\n",
    "                                    |\n",
    "        ------<---------------------|\n",
    "           1. Webpage response = <html>+{{data}} ... \n",
    "           2. Data response    = json data ****"
   ]
  },
  {
   "cell_type": "code",
   "execution_count": 35,
   "id": "9e018d55-866f-48ae-a1b0-ba44f4f1f75e",
   "metadata": {},
   "outputs": [
    {
     "name": "stdout",
     "output_type": "stream",
     "text": [
      "{'Types': ['Ethernt', 'Ring'], 'onboot': ('True', 'False'), 'IP': {'K1': '10.0.30.40', 'K2': '10.23.44.25'}}\n",
      "\n",
      "{'IP': {'K1': '10.0.30.40', 'K2': '10.23.44.25'},\n",
      " 'Types': ['Ethernt', 'Ring'],\n",
      " 'onboot': ('True', 'False')}\n"
     ]
    }
   ],
   "source": [
    "netinfo = {}\n",
    "netinfo['Types']=['Ethernt','Ring']\n",
    "netinfo['onboot']=('True','False')\n",
    "netinfo['IP']={'K1':'10.0.30.40','K2':'10.23.44.25'}\n",
    "print(netinfo)\n",
    "print('') # empty line\n",
    "pprint.pprint(netinfo)"
   ]
  },
  {
   "cell_type": "code",
   "execution_count": 36,
   "id": "c89a0030-fd47-4f32-94b3-1356b558dd11",
   "metadata": {},
   "outputs": [
    {
     "data": {
      "text/plain": [
       "'{\"Types\": [\"Ethernt\", \"Ring\"], \"onboot\": [\"True\", \"False\"], \"IP\": {\"K1\": \"10.0.30.40\", \"K2\": \"10.23.44.25\"}}'"
      ]
     },
     "execution_count": 36,
     "metadata": {},
     "output_type": "execute_result"
    }
   ],
   "source": [
    "import json\n",
    "json_data = json.dumps(netinfo) # converting from python to json\n",
    "json_data"
   ]
  },
  {
   "cell_type": "code",
   "execution_count": 37,
   "id": "1f69edf9-ba7b-481e-8e23-855ed5a3f868",
   "metadata": {},
   "outputs": [
    {
     "data": {
      "text/plain": [
       "'{\\n  \"Types\": [\\n    \"Ethernt\",\\n    \"Ring\"\\n  ],\\n  \"onboot\": [\\n    \"True\",\\n    \"False\"\\n  ],\\n  \"IP\": {\\n    \"K1\": \"10.0.30.40\",\\n    \"K2\": \"10.23.44.25\"\\n  }\\n}'"
      ]
     },
     "execution_count": 37,
     "metadata": {},
     "output_type": "execute_result"
    }
   ],
   "source": [
    "json_data = json.dumps(netinfo,indent=2) # converting from python to json\n",
    "json_data"
   ]
  },
  {
   "cell_type": "code",
   "execution_count": 38,
   "id": "35510fa1-e2fc-4579-aa86-9baba0ebaae1",
   "metadata": {},
   "outputs": [
    {
     "name": "stdout",
     "output_type": "stream",
     "text": [
      "{\n",
      "  \"Types\": [\n",
      "    \"Ethernt\",\n",
      "    \"Ring\"\n",
      "  ],\n",
      "  \"onboot\": [\n",
      "    \"True\",\n",
      "    \"False\"\n",
      "  ],\n",
      "  \"IP\": {\n",
      "    \"K1\": \"10.0.30.40\",\n",
      "    \"K2\": \"10.23.44.25\"\n",
      "  }\n",
      "}\n"
     ]
    }
   ],
   "source": [
    "print(json_data)"
   ]
  },
  {
   "cell_type": "code",
   "execution_count": 39,
   "id": "1689c221-59a4-4f57-a8f4-532a55cd9c49",
   "metadata": {},
   "outputs": [
    {
     "data": {
      "text/plain": [
       "{'Types': ['Ethernt', 'Ring'],\n",
       " 'onboot': ['True', 'False'],\n",
       " 'IP': {'K1': '10.0.30.40', 'K2': '10.23.44.25'}}"
      ]
     },
     "execution_count": 39,
     "metadata": {},
     "output_type": "execute_result"
    }
   ],
   "source": [
    "json.loads(json_data)"
   ]
  },
  {
   "cell_type": "code",
   "execution_count": 40,
   "id": "c8a29389-8bf7-4ac0-a8de-e38ab5c1378e",
   "metadata": {},
   "outputs": [
    {
     "data": {
      "text/plain": [
       "'true'"
      ]
     },
     "execution_count": 40,
     "metadata": {},
     "output_type": "execute_result"
    }
   ],
   "source": [
    "json.dumps(True) # convert"
   ]
  },
  {
   "cell_type": "code",
   "execution_count": null,
   "id": "afb42d9d-c83e-4952-9b3f-16acb7a1d9ce",
   "metadata": {},
   "outputs": [],
   "source": []
  }
 ],
 "metadata": {
  "kernelspec": {
   "display_name": "Python [conda env:base] *",
   "language": "python",
   "name": "conda-base-py"
  },
  "language_info": {
   "codemirror_mode": {
    "name": "ipython",
    "version": 3
   },
   "file_extension": ".py",
   "mimetype": "text/x-python",
   "name": "python",
   "nbconvert_exporter": "python",
   "pygments_lexer": "ipython3",
   "version": "3.13.5"
  }
 },
 "nbformat": 4,
 "nbformat_minor": 5
}
