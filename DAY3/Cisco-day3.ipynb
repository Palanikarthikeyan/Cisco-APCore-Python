{
 "cells": [
  {
   "cell_type": "code",
   "execution_count": 1,
   "id": "ff274680-8c5b-4a42-a89b-0a2bdb11e612",
   "metadata": {},
   "outputs": [],
   "source": [
    "class Enrollment:\n",
    "    Name = ''\n",
    "    DOB = ''\n",
    "    Place = ''\n",
    "    def f1(self,ename,edob,eplace):\n",
    "        self.Name = ename\n",
    "        self.DOB = edob\n",
    "        self.Place=  eplace\n",
    "        print(f'Emp {self.Name} Enrollment is done')\n",
    "    def f2(self):\n",
    "        print(f'Emp name:{self.Name} DOB:{self.DOB} Place:{self.Place}')\n",
    "    def f3(self,eplace):\n",
    "        self.Place = eplace\n",
    "        print('Updated Info:')\n",
    "        self.f2()"
   ]
  },
  {
   "cell_type": "code",
   "execution_count": 3,
   "id": "a7f45950-1a79-4f5b-883e-f6813689e521",
   "metadata": {},
   "outputs": [
    {
     "name": "stdout",
     "output_type": "stream",
     "text": [
      "Emp Arun Enrollment is done\n",
      "Emp name:Arun DOB:1st Jan Place:City-1\n",
      "Updated Info:\n",
      "Emp name:Arun DOB:1st Jan Place:Bglore\n"
     ]
    }
   ],
   "source": [
    "eobj = Enrollment()\n",
    "eobj.f1('Arun','1st Jan','City-1') # 1st \n",
    "eobj.f2() \n",
    "eobj.f3('Bglore')"
   ]
  },
  {
   "cell_type": "code",
   "execution_count": 5,
   "id": "7a2fa32c-d83a-45db-b2f8-67743ad4becf",
   "metadata": {},
   "outputs": [
    {
     "name": "stdout",
     "output_type": "stream",
     "text": [
      "Emp name: DOB: Place:\n"
     ]
    }
   ],
   "source": [
    "eobj1 = Enrollment()\n",
    "eobj1.f2()"
   ]
  },
  {
   "cell_type": "code",
   "execution_count": null,
   "id": "8a0b4ea1-2f3b-4ef0-a7a9-30938da5990e",
   "metadata": {},
   "outputs": [],
   "source": [
    "class DBI:\n",
    "    def connect(self.....):\n",
    "        '''estable db connection'''\n",
    "    def method1(self):\n",
    "        '''Query1'''\n",
    "    def method2(self):\n",
    "        '''Query2'''\n",
    "Obj = DBI()\n",
    "Obj.connect() \n",
    "Obj.method1()\n",
    "Vs\n",
    "\n",
    "Obj = DBI()\n",
    "Obj.method1() # OOPs View ->ValidCall But Operation(DB view) - FailedOperation"
   ]
  },
  {
   "cell_type": "code",
   "execution_count": null,
   "id": "5c8d74a1-7e8f-43e8-bfea-37b32cf28dd8",
   "metadata": {},
   "outputs": [],
   "source": [
    "In python Special attributes (or) magic methods (or) dunder methods\n",
    "--------------------------------------------------------------------\n",
    " |-> pre-defined attributes ==>  __<attributeName>__  \n",
    "                                start and end with double underscores\n",
    " |-> these special attributes are called automatically invoked by python"
   ]
  },
  {
   "cell_type": "code",
   "execution_count": null,
   "id": "315c8f9f-59d0-4b37-981f-f2003718f2ae",
   "metadata": {},
   "outputs": [],
   "source": []
  },
  {
   "cell_type": "code",
   "execution_count": 6,
   "id": "b7687ae7-d3a8-49e0-a17c-311468b89155",
   "metadata": {},
   "outputs": [
    {
     "name": "stdout",
     "output_type": "stream",
     "text": [
      "Emp Arun Enrollment is done\n",
      "Emp name:Arun DOB:1st Jan Place:City-1\n",
      "Updated Info:\n",
      "Emp name:Arun DOB:1st Jan Place:Bglore\n"
     ]
    }
   ],
   "source": [
    "class Enrollment:\n",
    "    def __init__(self,ename,edob,eplace):\n",
    "        self.Name = ename\n",
    "        self.DOB = edob\n",
    "        self.Place=  eplace\n",
    "        print(f'Emp {self.Name} Enrollment is done')\n",
    "    def f2(self):\n",
    "        print(f'Emp name:{self.Name} DOB:{self.DOB} Place:{self.Place}')\n",
    "    def f3(self,eplace):\n",
    "        self.Place = eplace\n",
    "        print('Updated Info:')\n",
    "        self.f2()\n",
    "\n",
    "eobj1 = Enrollment('Arun','1st Jan','City-1')\n",
    "eobj1.f2()\n",
    "eobj1.f3('Bglore')"
   ]
  },
  {
   "cell_type": "code",
   "execution_count": 7,
   "id": "5de3535b-5227-4103-8f76-44c6ab8dfb12",
   "metadata": {},
   "outputs": [
    {
     "name": "stdout",
     "output_type": "stream",
     "text": [
      "Emp Tom Enrollment is done\n"
     ]
    }
   ],
   "source": [
    "eobj2 = Enrollment('Tom','2nd Feb','City-A')"
   ]
  },
  {
   "cell_type": "code",
   "execution_count": 8,
   "id": "55308e2d-8556-47fa-8803-2e84ddc24a0b",
   "metadata": {},
   "outputs": [
    {
     "name": "stdout",
     "output_type": "stream",
     "text": [
      "Emp name:Tom DOB:2nd Feb Place:City-A\n"
     ]
    }
   ],
   "source": [
    "eobj2.f2()"
   ]
  },
  {
   "cell_type": "code",
   "execution_count": 9,
   "id": "3c828796-6833-49cc-b945-9d88b40c87dc",
   "metadata": {},
   "outputs": [
    {
     "name": "stdout",
     "output_type": "stream",
     "text": [
      "Updated Info:\n",
      "Emp name:Tom DOB:2nd Feb Place:Pune\n"
     ]
    }
   ],
   "source": [
    "eobj2.f3('Pune')"
   ]
  },
  {
   "cell_type": "code",
   "execution_count": null,
   "id": "c591a841-7319-47b3-90cf-221eec391caa",
   "metadata": {},
   "outputs": [],
   "source": [
    ">>> class Box:\n",
    "...     def f1(self):\n",
    "...             print(\"This is non-constructor block\")\n",
    "...\n",
    ">>> Box()\n",
    "<__main__.Box object at 0x0000026DF77E2350>\n",
    ">>> obj= Box()\n",
    ">>>\n",
    ">>> obj.f1()\n",
    "This is non-constructor block\n",
    ">>>\n",
    ">>> class Box:\n",
    "...     def __init__(self):\n",
    "...             print(\"This is construtor block\")\n",
    "...\n",
    ">>> Box()\n",
    "This is construtor block\n",
    "<__main__.Box object at 0x0000026DF77E1E70>\n",
    ">>>\n",
    ">>> obj = Box()\n",
    "This is construtor block\n",
    ">>>\n",
    ">>>\n",
    ">>> class Box:\n",
    "...     def __init__(self,a1,a2=0,*a3,**a4):\n",
    "...             print(a1,a2,a3,a4)\n",
    "...             print('initialization is done')\n",
    "...\n",
    ">>> objX = Box()\n",
    "Traceback (most recent call last):\n",
    "  File \"<stdin>\", line 1, in <module>\n",
    "TypeError: Box.__init__() missing 1 required positional argument: 'a1'\n",
    ">>>\n",
    ">>> objX\n",
    "Traceback (most recent call last):\n",
    "  File \"<stdin>\", line 1, in <module>\n",
    "NameError: name 'objX' is not defined. Did you mean: 'obj'?\n",
    ">>>\n",
    ">>> objX = Box(10)\n",
    "10 0 () {}\n",
    "initialization is done\n",
    ">>>\n",
    ">>> objX = Box(10,20)\n",
    "10 20 () {}\n",
    "initialization is done\n",
    ">>> objX = Box(10,20,30,40)\n",
    "10 20 (30, 40) {}\n",
    "initialization is done\n",
    ">>> objX = Box(10,20,30,40,db='mysql',port=3303)\n",
    "10 20 (30, 40) {'db': 'mysql', 'port': 3303}\n",
    "initialization is done\n",
    ">>>\n",
    ">>>\n",
    ">>>\n",
    ">>>\n",
    ">>>\n",
    ">>> i=10\n",
    ">>> type(i)\n",
    "<class 'int'>\n",
    ">>>\n",
    ">>> int()\n",
    "0\n",
    ">>> # class int:\n",
    ">>> #    def __init__(self,a=0):\n",
    ">>> #          self.a=a\n",
    ">>> #\n",
    ">>>\n",
    ">>> int(10)\n",
    "10\n",
    ">>> i=10 # int(10)\n",
    ">>> j=1.34  # float(1.34)\n",
    ">>>\n",
    ">>> s1=str('Hello')\n",
    ">>> s1.upper()\n",
    "'HELLO'\n",
    ">>> s1.isupper()\n",
    "False\n",
    ">>> # class str:\n",
    ">>> #    def __init__(self,a=''):\n",
    ">>> #        self.a=a\n",
    ">>> #        ..\n",
    ">>> #    def upper(self):\n",
    ">>> #        return self.a\n",
    ">>> #\n",
    ">>> #    def isupper(self):\n",
    ">>> #          ...\n",
    ">>> #          retrun True/False\n",
    ">>>\n",
    ">>> L=[] # empty list\n",
    ">>>\n",
    ">>> L1 = list() # empty list\n",
    ">>> L1\n",
    "[]\n",
    ">>> i=5\n",
    ">>> print(i)\n",
    "5\n",
    ">>> del(i)\n",
    ">>>\n",
    ">>> i=5\n",
    ">>> print(i)\n",
    "5\n",
    ">>> class myclass:\n",
    "...     def __init__(self):\n",
    "...             print('Welcome')\n",
    "...     def __del__(self):\n",
    "...             print('Thank you')\n",
    "...\n",
    ">>> obj = myclass()\n",
    "Welcome\n",
    ">>>\n",
    ">>> del(obj)\n",
    "Thank you\n",
    ">>>\n",
    ">>> obj = myclass()\n",
    "Welcome\n",
    ">>> exit()\n",
    "Thank you\n"
   ]
  },
  {
   "cell_type": "code",
   "execution_count": 11,
   "id": "8d278116-f5b8-4e3f-916c-753a7a4ddcb2",
   "metadata": {},
   "outputs": [
    {
     "name": "stdout",
     "output_type": "stream",
     "text": [
      "Initialization is done\n"
     ]
    },
    {
     "data": {
      "text/plain": [
       "'Arun'"
      ]
     },
     "execution_count": 11,
     "metadata": {},
     "output_type": "execute_result"
    }
   ],
   "source": [
    "class Emp:\n",
    "    def __init__(self,ename,edob):\n",
    "        self.ename = ename\n",
    "        self.edob = edob\n",
    "        print('Initialization is done')\n",
    "    def __str__(self):\n",
    "        return str(self.ename)\n",
    "\n",
    "obj = Emp('Arun','1st Jan')\n",
    "str(obj) "
   ]
  },
  {
   "cell_type": "code",
   "execution_count": null,
   "id": "80d756e9-45aa-4c49-9816-a396dc54d892",
   "metadata": {},
   "outputs": [],
   "source": [
    "object callable  ==> obj() <== Not obj.MethodCAll()"
   ]
  },
  {
   "cell_type": "code",
   "execution_count": 15,
   "id": "3a5e31ef-4bd1-470b-bea9-372654ca483f",
   "metadata": {},
   "outputs": [],
   "source": [
    "class box:\n",
    "    def __init__(self):\n",
    "        self.a = 10\n",
    "    def __str__(self):\n",
    "        return str(self.a)\n",
    "    def __del__(self):\n",
    "        del(self)\n",
    "\n",
    "objX = box()\n",
    "# objX() TypeError: 'box' object is not callable"
   ]
  },
  {
   "cell_type": "code",
   "execution_count": 16,
   "id": "06b1ae9e-1799-46ea-ba4f-5827e648bb9e",
   "metadata": {},
   "outputs": [
    {
     "data": {
      "text/plain": [
       "False"
      ]
     },
     "execution_count": 16,
     "metadata": {},
     "output_type": "execute_result"
    }
   ],
   "source": [
    "callable(objX)"
   ]
  },
  {
   "cell_type": "code",
   "execution_count": 18,
   "id": "810f8461-bb38-43e7-a814-48bf4965c906",
   "metadata": {},
   "outputs": [
    {
     "name": "stdout",
     "output_type": "stream",
     "text": [
      "<class 'function'>\n"
     ]
    },
    {
     "data": {
      "text/plain": [
       "True"
      ]
     },
     "execution_count": 18,
     "metadata": {},
     "output_type": "execute_result"
    }
   ],
   "source": [
    "def fx():\n",
    "    print(\"OK\")\n",
    "\n",
    "print(type(fx))\n",
    "callable(fx)"
   ]
  },
  {
   "cell_type": "code",
   "execution_count": null,
   "id": "60a3e5e8-28c5-40e9-9d99-ceb3e74bea17",
   "metadata": {},
   "outputs": [],
   "source": [
    "fx - class\n",
    "fx() - object_Callable "
   ]
  },
  {
   "cell_type": "code",
   "execution_count": 19,
   "id": "6453e2c6-6358-4cdc-a6c4-64a25f756bd9",
   "metadata": {},
   "outputs": [
    {
     "name": "stdout",
     "output_type": "stream",
     "text": [
      "OK\n"
     ]
    }
   ],
   "source": [
    "fx.__call__() # same as fx()"
   ]
  },
  {
   "cell_type": "code",
   "execution_count": 20,
   "id": "2c4996c4-92b2-43bd-b852-fe2c1810bc80",
   "metadata": {},
   "outputs": [
    {
     "data": {
      "text/plain": [
       "True"
      ]
     },
     "execution_count": 20,
     "metadata": {},
     "output_type": "execute_result"
    }
   ],
   "source": [
    "class box:\n",
    "    def __init__(self):\n",
    "        self.a = 10\n",
    "    def __str__(self):\n",
    "        return str(self.a)\n",
    "    def __del__(self):\n",
    "        del(self)\n",
    "    def __call__(self):\n",
    "        pass\n",
    "\n",
    "objX = box()\n",
    "callable(objX)"
   ]
  },
  {
   "cell_type": "code",
   "execution_count": 21,
   "id": "56477988-741c-4152-947d-6c0683b9a2a8",
   "metadata": {},
   "outputs": [
    {
     "data": {
      "text/plain": [
       "'BIBU'"
      ]
     },
     "execution_count": 21,
     "metadata": {},
     "output_type": "execute_result"
    }
   ],
   "source": [
    "class Emp:\n",
    "    def __init__(self,ename):\n",
    "        self.ename = ename\n",
    "    def __str__(self):\n",
    "        return self.ename\n",
    "    def __call__(self):\n",
    "        return self.ename.upper()\n",
    "\n",
    "obj = Emp('bibu')\n",
    "obj() # callable "
   ]
  },
  {
   "cell_type": "code",
   "execution_count": 22,
   "id": "14d57fd8-1af2-4149-8e86-c59518e1cd60",
   "metadata": {},
   "outputs": [
    {
     "data": {
      "text/plain": [
       "'bibu'"
      ]
     },
     "execution_count": 22,
     "metadata": {},
     "output_type": "execute_result"
    }
   ],
   "source": [
    "str(obj)"
   ]
  },
  {
   "cell_type": "code",
   "execution_count": null,
   "id": "163779ea-470d-421f-b7a9-f07bdb4e1f43",
   "metadata": {},
   "outputs": [],
   "source": [
    "__add__ +\n",
    "__sub__ -\n",
    "__mul__ *\n",
    "__truediv__  /\n",
    "__floordiv__ //\n",
    "__mod__  %\n",
    "__pow__ **"
   ]
  },
  {
   "cell_type": "code",
   "execution_count": 23,
   "id": "56aab474-4fe3-4e4a-8796-7645b833f6c6",
   "metadata": {},
   "outputs": [
    {
     "data": {
      "text/plain": [
       "30"
      ]
     },
     "execution_count": 23,
     "metadata": {},
     "output_type": "execute_result"
    }
   ],
   "source": [
    "va = 10\n",
    "vb = 20\n",
    "va.__add__(vb) # va+vb"
   ]
  },
  {
   "cell_type": "code",
   "execution_count": 24,
   "id": "6b7c7b4f-5e5e-4189-a76a-aa2d346ccf85",
   "metadata": {},
   "outputs": [
    {
     "data": {
      "text/plain": [
       "'pythonprogramming'"
      ]
     },
     "execution_count": 24,
     "metadata": {},
     "output_type": "execute_result"
    }
   ],
   "source": [
    "s1 = 'python'\n",
    "s2 = 'programming'\n",
    "s1.__add__(s2) # s1+s2"
   ]
  },
  {
   "cell_type": "code",
   "execution_count": 26,
   "id": "7a5a051e-25a7-4eae-94a9-721706638b65",
   "metadata": {},
   "outputs": [
    {
     "data": {
      "text/plain": [
       "True"
      ]
     },
     "execution_count": 26,
     "metadata": {},
     "output_type": "execute_result"
    }
   ],
   "source": [
    "va = 150\n",
    "va.__gt__(100) # va > 100"
   ]
  },
  {
   "cell_type": "code",
   "execution_count": 27,
   "id": "339ef888-9799-4662-99a8-76be801a4f8c",
   "metadata": {},
   "outputs": [
    {
     "data": {
      "text/plain": [
       "False"
      ]
     },
     "execution_count": 27,
     "metadata": {},
     "output_type": "execute_result"
    }
   ],
   "source": [
    "va.__lt__(100) # va < 100"
   ]
  },
  {
   "cell_type": "code",
   "execution_count": 28,
   "id": "9626c988-3c64-472e-9556-cdeb5257961d",
   "metadata": {},
   "outputs": [
    {
     "data": {
      "text/plain": [
       "'root'"
      ]
     },
     "execution_count": 28,
     "metadata": {},
     "output_type": "execute_result"
    }
   ],
   "source": [
    "class box:\n",
    "    user_name = 'root'\n",
    "    __password = 'abc@123'  # Inside the class any attribute starts with doubleunderscore\n",
    "                            # attributes are user defined private attribute\n",
    "\n",
    "obj = box()\n",
    "obj.user_name"
   ]
  },
  {
   "cell_type": "code",
   "execution_count": 29,
   "id": "4dccc529-8cc4-4a28-8dec-cd40a460fa35",
   "metadata": {},
   "outputs": [
    {
     "ename": "AttributeError",
     "evalue": "'box' object has no attribute '__password'",
     "output_type": "error",
     "traceback": [
      "\u001b[1;31m---------------------------------------------------------------------------\u001b[0m",
      "\u001b[1;31mAttributeError\u001b[0m                            Traceback (most recent call last)",
      "Cell \u001b[1;32mIn[29], line 1\u001b[0m\n\u001b[1;32m----> 1\u001b[0m obj\u001b[38;5;241m.\u001b[39m__password\n",
      "\u001b[1;31mAttributeError\u001b[0m: 'box' object has no attribute '__password'"
     ]
    }
   ],
   "source": [
    "obj.__password"
   ]
  },
  {
   "cell_type": "code",
   "execution_count": 30,
   "id": "354fcee1-c36d-4c92-8eee-b8d0c691212c",
   "metadata": {},
   "outputs": [
    {
     "name": "stdout",
     "output_type": "stream",
     "text": [
      "root abc@123\n"
     ]
    }
   ],
   "source": [
    "class box:\n",
    "    def __init__(self):\n",
    "        self.user_name = 'root'\n",
    "        self.__password = 'abc@123'\n",
    "    def method1(self):\n",
    "        print(self.user_name,self.__password)\n",
    "\n",
    "obj = box()\n",
    "obj.method1()"
   ]
  },
  {
   "cell_type": "code",
   "execution_count": 31,
   "id": "2e046704-9034-456a-9282-d4a314d6d4ba",
   "metadata": {},
   "outputs": [
    {
     "data": {
      "text/plain": [
       "'root'"
      ]
     },
     "execution_count": 31,
     "metadata": {},
     "output_type": "execute_result"
    }
   ],
   "source": [
    "obj.user_name"
   ]
  },
  {
   "cell_type": "code",
   "execution_count": 32,
   "id": "014be146-5e6d-4797-ba8b-d93e6a44da08",
   "metadata": {},
   "outputs": [
    {
     "ename": "AttributeError",
     "evalue": "'box' object has no attribute '__password'",
     "output_type": "error",
     "traceback": [
      "\u001b[1;31m---------------------------------------------------------------------------\u001b[0m",
      "\u001b[1;31mAttributeError\u001b[0m                            Traceback (most recent call last)",
      "Cell \u001b[1;32mIn[32], line 1\u001b[0m\n\u001b[1;32m----> 1\u001b[0m obj\u001b[38;5;241m.\u001b[39m__password\n",
      "\u001b[1;31mAttributeError\u001b[0m: 'box' object has no attribute '__password'"
     ]
    }
   ],
   "source": [
    "obj.__password"
   ]
  },
  {
   "cell_type": "code",
   "execution_count": 33,
   "id": "4536fef5-a322-4fa7-97c2-c196127d16ca",
   "metadata": {},
   "outputs": [
    {
     "data": {
      "text/plain": [
       "mappingproxy({'__module__': '__main__',\n",
       "              '__firstlineno__': 1,\n",
       "              'var': 120,\n",
       "              'fx': <function __main__.box.fx(self)>,\n",
       "              '__static_attributes__': (),\n",
       "              '__dict__': <attribute '__dict__' of 'box' objects>,\n",
       "              '__weakref__': <attribute '__weakref__' of 'box' objects>,\n",
       "              '__doc__': None})"
      ]
     },
     "execution_count": 33,
     "metadata": {},
     "output_type": "execute_result"
    }
   ],
   "source": [
    "class box:\n",
    "    var = 120\n",
    "    def fx(self):\n",
    "        pass\n",
    "box.__dict__"
   ]
  },
  {
   "cell_type": "code",
   "execution_count": 35,
   "id": "243962cb-64b4-4921-9d86-258924ab5966",
   "metadata": {},
   "outputs": [
    {
     "data": {
      "text/plain": [
       "mappingproxy({'__module__': '__main__',\n",
       "              '__firstlineno__': 1,\n",
       "              '__doc__': 'simple class docs',\n",
       "              'var': 120,\n",
       "              '_box__port': 4567,\n",
       "              'fx': <function __main__.box.fx(self)>,\n",
       "              '__static_attributes__': (),\n",
       "              '__dict__': <attribute '__dict__' of 'box' objects>,\n",
       "              '__weakref__': <attribute '__weakref__' of 'box' objects>})"
      ]
     },
     "execution_count": 35,
     "metadata": {},
     "output_type": "execute_result"
    }
   ],
   "source": [
    "class box:\n",
    "    '''simple class docs'''\n",
    "    var = 120\n",
    "    __port=4567\n",
    "    def fx(self):\n",
    "        pass\n",
    "        \n",
    "box.__dict__"
   ]
  },
  {
   "cell_type": "code",
   "execution_count": 37,
   "id": "102f52eb-70e1-4249-989f-fcb686f61ef7",
   "metadata": {},
   "outputs": [
    {
     "data": {
      "text/plain": [
       "mappingproxy({'__module__': '__main__',\n",
       "              '__firstlineno__': 1,\n",
       "              'user_name': 'root',\n",
       "              '_box__password': 'abc@123',\n",
       "              '__static_attributes__': (),\n",
       "              '__dict__': <attribute '__dict__' of 'box' objects>,\n",
       "              '__weakref__': <attribute '__weakref__' of 'box' objects>,\n",
       "              '__doc__': None})"
      ]
     },
     "execution_count": 37,
     "metadata": {},
     "output_type": "execute_result"
    }
   ],
   "source": [
    "class box:\n",
    "        user_name = 'root'\n",
    "        __password = 'abc@123'\n",
    "\n",
    "box.__dict__"
   ]
  },
  {
   "cell_type": "code",
   "execution_count": 38,
   "id": "b4cf9d00-c620-4155-a044-2da69a8cd218",
   "metadata": {},
   "outputs": [
    {
     "data": {
      "text/plain": [
       "'abc@123'"
      ]
     },
     "execution_count": 38,
     "metadata": {},
     "output_type": "execute_result"
    }
   ],
   "source": [
    "obj = box()\n",
    "obj._box__password"
   ]
  },
  {
   "cell_type": "code",
   "execution_count": null,
   "id": "8728c47c-93e3-45cd-831c-81f53f5fba74",
   "metadata": {},
   "outputs": [],
   "source": [
    "# Inheritance \n",
    "# parent <--> child relationship\n",
    "\n",
    "class product:\n",
    "    prod_id = 101\n",
    "    prod_name = 'pA'\n",
    "    \n",
    "class customer:\n",
    "    cname = 'cusA'\n",
    "\n",
    "obj = customer()\n",
    "obj.cname # OK\n",
    "obj.prod_id # AttributeError \n",
    "\n",
    "# ISA relationship\n",
    "# \n",
    "# parent \n",
    "#  |\n",
    "# child - we can invoke/access parent attributes\n",
    "\n",
    "class parent:\n",
    "    ...\n",
    "class child(<parentclassName>): <== Single Inheritance \n",
    "    ...\n",
    "obj = child()\n",
    "obj.<parentclass-attribute> "
   ]
  },
  {
   "cell_type": "code",
   "execution_count": 39,
   "id": "61a069aa-1660-4964-a999-490ad5fd0274",
   "metadata": {},
   "outputs": [
    {
     "name": "stdout",
     "output_type": "stream",
     "text": [
      "101 pA cusA\n"
     ]
    }
   ],
   "source": [
    "class product:\n",
    "    prod_id = 101\n",
    "    prod_name = 'pA'\n",
    "    \n",
    "class customer(product): # Inheritance  Vs  def functionName(argument):\n",
    "    cname = 'cusA'\n",
    "\n",
    "obj = customer()\n",
    "print(obj.prod_id,obj.prod_name,obj.cname)"
   ]
  },
  {
   "cell_type": "code",
   "execution_count": null,
   "id": "178c1be6-d1a4-4333-a8ae-d06d62a62f6c",
   "metadata": {},
   "outputs": [],
   "source": [
    "File: fA.py               File: fB.py                      file: p1.py\n",
    "==============            =============                    =============\n",
    "class product:             import fA                         import fB\n",
    "    prod_id = 101          class customer(fA.product):       obj = fB.customer()\n",
    "    def fx(self):                def f1(self):               obj.fx()\n",
    "        ...                         ...                      obj.fy()\n",
    "    def fy(self):                def f2(self):               obj.f1()\n",
    "        ...                          ...                     obj.f2()\n",
    "===================      ===============                  ===================="
   ]
  },
  {
   "cell_type": "code",
   "execution_count": 44,
   "id": "b45e1e07-a12b-493a-9035-aeb06a086b68",
   "metadata": {},
   "outputs": [
    {
     "name": "stdout",
     "output_type": "stream",
     "text": [
      "initialization from productClass\n",
      "product ID:101 customer Name:cusA\n"
     ]
    }
   ],
   "source": [
    "class product:\n",
    "    def __init__(self):\n",
    "        print('initialization from productClass')\n",
    "    def method1(self):\n",
    "        self.pid = 101\n",
    "        return self.pid\n",
    "\n",
    "class customer(product):\n",
    "    def method2(self):\n",
    "        self.cusName = 'cusA'\n",
    "        return self.cusName\n",
    "\n",
    "obj = customer()\n",
    "pID = obj.method1()\n",
    "cus_name = obj.method2()\n",
    "print(f'product ID:{pID} customer Name:{cus_name}')"
   ]
  },
  {
   "cell_type": "code",
   "execution_count": 45,
   "id": "633a7353-e046-4819-a668-6f38a72aa980",
   "metadata": {},
   "outputs": [
    {
     "name": "stdout",
     "output_type": "stream",
     "text": [
      "display customer records\n",
      "display customer records\n"
     ]
    }
   ],
   "source": [
    "class product:\n",
    "    def display(self):\n",
    "        print('display product details')\n",
    "\n",
    "class customer(product):\n",
    "    def display(self):\n",
    "        print('display customer records')\n",
    "\n",
    "obj = customer()\n",
    "obj.display()\n",
    "obj.display()"
   ]
  },
  {
   "cell_type": "code",
   "execution_count": 46,
   "id": "f0de15cc-179d-42dc-aba5-0f056b6f69f1",
   "metadata": {},
   "outputs": [
    {
     "name": "stdout",
     "output_type": "stream",
     "text": [
      "display customer records\n",
      "display product details\n"
     ]
    }
   ],
   "source": [
    "class product:\n",
    "    def display(self):\n",
    "        print('display product details')\n",
    "\n",
    "class customer(product):\n",
    "    def display(self):\n",
    "        print('display customer records')\n",
    "        super().display() # invoke parent class display()\n",
    "\n",
    "obj = customer()\n",
    "obj.display()"
   ]
  },
  {
   "cell_type": "code",
   "execution_count": 47,
   "id": "03686d98-c40a-444c-9e02-0b090e91bfbe",
   "metadata": {},
   "outputs": [
    {
     "name": "stdout",
     "output_type": "stream",
     "text": [
      "display customer records\n",
      "display product details\n"
     ]
    }
   ],
   "source": [
    "class product:\n",
    "    def display(self):\n",
    "        print('display product details')\n",
    "\n",
    "class customer(product):\n",
    "    def display(self):\n",
    "        print('display customer records')\n",
    "        product.display(self) # invoke parent class display() anotherway\n",
    "\n",
    "obj = customer()\n",
    "obj.display()"
   ]
  },
  {
   "cell_type": "code",
   "execution_count": null,
   "id": "620de1ca-7710-4398-8289-1b896b89db6f",
   "metadata": {},
   "outputs": [],
   "source": [
    "class A:\n",
    "    pass\n",
    "class B:\n",
    "    pass\n",
    "class C(A,B): # multiple inheritance\n",
    "    pass\n",
    "cObj = C()\n",
    "#---------------------------\n",
    "class A:\n",
    "    pass\n",
    "class B(A):\n",
    "    pass\n",
    "class C(B):   # multi-level inheritance \n",
    "    pass\n",
    "..\n"
   ]
  },
  {
   "cell_type": "code",
   "execution_count": 49,
   "id": "0733518a-5a25-4b33-89a7-9826ea4cbc20",
   "metadata": {},
   "outputs": [
    {
     "data": {
      "text/plain": [
       "(__main__.Box, object)"
      ]
     },
     "execution_count": 49,
     "metadata": {},
     "output_type": "execute_result"
    }
   ],
   "source": [
    "# python <= 2.6 \n",
    "# object parent of native class\n",
    "# ------\n",
    "class Box(object):\n",
    "    bid = 101\n",
    "    \n",
    "Box.bid\n",
    "obj = Box()\n",
    "obj.bid\n",
    "\n",
    "Box.__mro__"
   ]
  },
  {
   "cell_type": "code",
   "execution_count": 50,
   "id": "d31acf26-3437-487e-b80f-ecb276287773",
   "metadata": {},
   "outputs": [
    {
     "data": {
      "text/plain": [
       "(__main__.mybox, object)"
      ]
     },
     "execution_count": 50,
     "metadata": {},
     "output_type": "execute_result"
    }
   ],
   "source": [
    "class mybox:\n",
    "    pass\n",
    "mybox.__mro__"
   ]
  },
  {
   "cell_type": "code",
   "execution_count": 51,
   "id": "ade801a5-adcf-4ed2-97e6-3b23f1c9727b",
   "metadata": {},
   "outputs": [
    {
     "data": {
      "text/plain": [
       "(__main__.customer, __main__.product, object)"
      ]
     },
     "execution_count": 51,
     "metadata": {},
     "output_type": "execute_result"
    }
   ],
   "source": [
    "class product:\n",
    "    pass\n",
    "\n",
    "class customer(product):\n",
    "    pass\n",
    "\n",
    "customer.__mro__"
   ]
  },
  {
   "cell_type": "code",
   "execution_count": 53,
   "id": "ea88c700-e8e5-4652-99a9-e5b19767023c",
   "metadata": {},
   "outputs": [
    {
     "name": "stdout",
     "output_type": "stream",
     "text": [
      "<class 'bs4.BeautifulSoup'>\n"
     ]
    }
   ],
   "source": [
    "import bs4\n",
    "print(bs4.BeautifulSoup)"
   ]
  },
  {
   "cell_type": "code",
   "execution_count": 54,
   "id": "1de829fd-1d12-4897-afca-ccc5bd2e05ed",
   "metadata": {},
   "outputs": [
    {
     "name": "stdout",
     "output_type": "stream",
     "text": [
      "A data structure representing a parsed HTML or XML document.\n",
      "\n",
      "Most of the methods you'll call on a BeautifulSoup object are inherited from\n",
      "PageElement or Tag.\n",
      "\n",
      "Internally, this class defines the basic interface called by the\n",
      "tree builders when converting an HTML/XML document into a data\n",
      "structure. The interface abstracts away the differences between\n",
      "parsers. To write a new tree builder, you'll need to understand\n",
      "these methods as a whole.\n",
      "\n",
      "These methods will be called by the BeautifulSoup constructor:\n",
      "  * reset()\n",
      "  * feed(markup)\n",
      "\n",
      "The tree builder may call these methods from its feed() implementation:\n",
      "  * handle_starttag(name, attrs) # See note about return value\n",
      "  * handle_endtag(name)\n",
      "  * handle_data(data) # Appends to the current data node\n",
      "  * endData(containerClass) # Ends the current data node\n",
      "\n",
      "No matter how complicated the underlying parser is, you should be\n",
      "able to build a tree using 'start tag' events, 'end tag' events,\n",
      "'data' events, and \"done with data\" events.\n",
      "\n",
      "If you encounter an empty-element tag (aka a self-closing tag,\n",
      "like HTML's <br> tag), call handle_starttag and then\n",
      "handle_endtag.\n",
      "\n"
     ]
    }
   ],
   "source": [
    "print(bs4.BeautifulSoup.__doc__)"
   ]
  },
  {
   "cell_type": "code",
   "execution_count": 55,
   "id": "26190ae3-a0ab-46f0-a61b-8d4d1f47ab02",
   "metadata": {},
   "outputs": [
    {
     "data": {
      "text/plain": [
       "(bs4.BeautifulSoup, bs4.element.Tag, bs4.element.PageElement, object)"
      ]
     },
     "execution_count": 55,
     "metadata": {},
     "output_type": "execute_result"
    }
   ],
   "source": [
    "bs4.BeautifulSoup.__mro__"
   ]
  },
  {
   "cell_type": "code",
   "execution_count": 57,
   "id": "6da17fe1-8064-4274-80f6-4a8a1d211460",
   "metadata": {},
   "outputs": [
    {
     "name": "stdout",
     "output_type": "stream",
     "text": [
      "Represents an HTML or XML tag that is part of a parse tree, along\n",
      "with its attributes and contents.\n",
      "\n",
      "When Beautiful Soup parses the markup <b>penguin</b>, it will\n",
      "create a Tag object representing the <b> tag.\n",
      "\n"
     ]
    }
   ],
   "source": [
    "print(bs4.element.Tag.__doc__)"
   ]
  },
  {
   "cell_type": "code",
   "execution_count": 59,
   "id": "72afd50a-50b2-496d-9478-bc24d54f0b30",
   "metadata": {},
   "outputs": [
    {
     "data": {
      "text/plain": [
       "<re.Match object; span=(8, 13), match='sales'>"
      ]
     },
     "execution_count": 59,
     "metadata": {},
     "output_type": "execute_result"
    }
   ],
   "source": [
    "import re\n",
    "\n",
    "# re.search('pattern_string','input_string') -> ack_obj / None\n",
    "re.search('sales','101,raj,sales,pune')"
   ]
  },
  {
   "cell_type": "code",
   "execution_count": 60,
   "id": "c4cc19fd-ebb2-4290-85e1-b9540ec19a59",
   "metadata": {},
   "outputs": [],
   "source": [
    "re.search('sales','101,raj,QA,pune')"
   ]
  },
  {
   "cell_type": "code",
   "execution_count": 62,
   "id": "c6e198f8-a8e9-4215-b88b-4156e19978a9",
   "metadata": {},
   "outputs": [
    {
     "data": {
      "text/plain": [
       "<sqlite3.Connection at 0x29bb1361f30>"
      ]
     },
     "execution_count": 62,
     "metadata": {},
     "output_type": "execute_result"
    }
   ],
   "source": [
    "import sqlite3\n",
    "#print(sqlite3.connect)\n",
    "sqlite3.connect('t1.db')"
   ]
  },
  {
   "cell_type": "code",
   "execution_count": 63,
   "id": "87a7f4fc-e928-4a9d-bff2-4705b52b36bd",
   "metadata": {},
   "outputs": [],
   "source": [
    "def f1(a1):\n",
    "    class myclass:\n",
    "        def __init__(self,a1):\n",
    "            self.a1 = a1\n",
    "        def method1(self):\n",
    "            return self.a1+100\n",
    "        def method2(self):\n",
    "            print('method2 block')\n",
    "    obj = myclass(a1)\n",
    "    return obj"
   ]
  },
  {
   "cell_type": "code",
   "execution_count": 64,
   "id": "770a2502-dc52-49e8-aed4-b6f52c3c89b1",
   "metadata": {},
   "outputs": [
    {
     "data": {
      "text/plain": [
       "<__main__.f1.<locals>.myclass at 0x29bafca6f90>"
      ]
     },
     "execution_count": 64,
     "metadata": {},
     "output_type": "execute_result"
    }
   ],
   "source": [
    "f1(10)"
   ]
  },
  {
   "cell_type": "code",
   "execution_count": 65,
   "id": "6ff7d0d5-f5e2-436e-8610-04e417245177",
   "metadata": {},
   "outputs": [
    {
     "data": {
      "text/plain": [
       "110"
      ]
     },
     "execution_count": 65,
     "metadata": {},
     "output_type": "execute_result"
    }
   ],
   "source": [
    "myobj = f1(10)\n",
    "myobj.method1()"
   ]
  },
  {
   "cell_type": "code",
   "execution_count": 66,
   "id": "f0e83eb4-9add-42dc-86ba-4a085e164a20",
   "metadata": {},
   "outputs": [
    {
     "name": "stdout",
     "output_type": "stream",
     "text": [
      "method2 block\n"
     ]
    }
   ],
   "source": [
    "myobj.method2()"
   ]
  },
  {
   "cell_type": "code",
   "execution_count": null,
   "id": "2733288f-0fce-4c0d-a794-1518ffb1b5f8",
   "metadata": {},
   "outputs": [],
   "source": [
    "Functional style programming\n",
    "------------------------------"
   ]
  },
  {
   "cell_type": "code",
   "execution_count": 67,
   "id": "291a10c6-dec6-4afb-b660-3affce9e6c48",
   "metadata": {},
   "outputs": [
    {
     "name": "stdout",
     "output_type": "stream",
     "text": [
      "[110, 120, 130, 140, 150]\n"
     ]
    }
   ],
   "source": [
    "L = list()\n",
    "\n",
    "def f1(a):\n",
    "    return a+100\n",
    "\n",
    "for var in [10,20,30,40,50]:\n",
    "    r = f1(var)\n",
    "    L.append(r)\n",
    "\n",
    "print(L)"
   ]
  },
  {
   "cell_type": "code",
   "execution_count": 68,
   "id": "f785f392-079a-4ed4-b5fa-8373096e1117",
   "metadata": {},
   "outputs": [
    {
     "data": {
      "text/plain": [
       "[110, 120, 130, 140, 150]"
      ]
     },
     "execution_count": 68,
     "metadata": {},
     "output_type": "execute_result"
    }
   ],
   "source": [
    "list(map(lambda a:a+100,[10,20,30,40,50]))"
   ]
  },
  {
   "cell_type": "code",
   "execution_count": null,
   "id": "bd3a21fe-a66f-4cdb-b0d4-f84c707be7de",
   "metadata": {},
   "outputs": [],
   "source": [
    "1. lambda \n",
    "2. list comprehension\n",
    "3. generator \n",
    "|\n",
    "4. map,filter \n",
    "------------------------\n",
    "1. lambda - unnamed function \n",
    "   -------\n",
    "     |-> function Call with arguments and return some value \n",
    "     |-> lambda <list of arguments>:<basic Operation>\n",
    "                                     ------------------"
   ]
  },
  {
   "cell_type": "code",
   "execution_count": 69,
   "id": "b6ac3422-85a1-467b-8a2f-e784748953d4",
   "metadata": {},
   "outputs": [
    {
     "data": {
      "text/plain": [
       "30"
      ]
     },
     "execution_count": 69,
     "metadata": {},
     "output_type": "execute_result"
    }
   ],
   "source": [
    "def f1(a1,a2):\n",
    "    return a1+a2\n",
    "f1(10,20)"
   ]
  },
  {
   "cell_type": "code",
   "execution_count": 71,
   "id": "f78e141a-7e2b-4466-9504-f2796f7cc725",
   "metadata": {},
   "outputs": [
    {
     "data": {
      "text/plain": [
       "30"
      ]
     },
     "execution_count": 71,
     "metadata": {},
     "output_type": "execute_result"
    }
   ],
   "source": [
    "f2 = lambda a1,a2:a1+a2\n",
    "f2(10,20)"
   ]
  },
  {
   "cell_type": "code",
   "execution_count": 72,
   "id": "56e8ca1e-0b94-4944-b7ff-d16652712ea7",
   "metadata": {},
   "outputs": [
    {
     "data": {
      "text/plain": [
       "'ABC'"
      ]
     },
     "execution_count": 72,
     "metadata": {},
     "output_type": "execute_result"
    }
   ],
   "source": [
    "def f3(a1):\n",
    "    return a1.upper()\n",
    "\n",
    "f3('abc')"
   ]
  },
  {
   "cell_type": "code",
   "execution_count": 73,
   "id": "9383fd4b-4f76-4454-bdaa-2c93d8f88047",
   "metadata": {},
   "outputs": [
    {
     "data": {
      "text/plain": [
       "'ABC'"
      ]
     },
     "execution_count": 73,
     "metadata": {},
     "output_type": "execute_result"
    }
   ],
   "source": [
    "f4 = lambda a1:a1.upper()\n",
    "f4('abc')"
   ]
  },
  {
   "cell_type": "code",
   "execution_count": 74,
   "id": "c1f72fa3-8bdd-4151-b0d7-e8cbc493e3db",
   "metadata": {},
   "outputs": [
    {
     "data": {
      "text/plain": [
       "True"
      ]
     },
     "execution_count": 74,
     "metadata": {},
     "output_type": "execute_result"
    }
   ],
   "source": [
    "f5 = lambda a1,a2: a1 >a2\n",
    "f5(100,20)"
   ]
  },
  {
   "cell_type": "code",
   "execution_count": 75,
   "id": "cca3705c-465a-4b25-ac29-908f7f59270c",
   "metadata": {},
   "outputs": [
    {
     "data": {
      "text/plain": [
       "False"
      ]
     },
     "execution_count": 75,
     "metadata": {},
     "output_type": "execute_result"
    }
   ],
   "source": [
    "f5(100,120)"
   ]
  },
  {
   "cell_type": "code",
   "execution_count": 76,
   "id": "51d495c0-5456-4d12-9818-c7506ba3d06c",
   "metadata": {},
   "outputs": [
    {
     "data": {
      "text/plain": [
       "True"
      ]
     },
     "execution_count": 76,
     "metadata": {},
     "output_type": "execute_result"
    }
   ],
   "source": [
    "def fx(a1):\n",
    "    return 'sales' in a1\n",
    "fx('101,raj,sales,pune')"
   ]
  },
  {
   "cell_type": "code",
   "execution_count": 77,
   "id": "f251e9b3-2473-4765-b6ae-4ed08df9d941",
   "metadata": {},
   "outputs": [
    {
     "data": {
      "text/plain": [
       "True"
      ]
     },
     "execution_count": 77,
     "metadata": {},
     "output_type": "execute_result"
    }
   ],
   "source": [
    "fy = lambda a1: 'sales' in a1\n",
    "fy('101,raj,sales,pune')"
   ]
  },
  {
   "cell_type": "code",
   "execution_count": 78,
   "id": "ee520c92-b7fd-4485-a8e5-1f02d4828b99",
   "metadata": {},
   "outputs": [
    {
     "data": {
      "text/plain": [
       "False"
      ]
     },
     "execution_count": 78,
     "metadata": {},
     "output_type": "execute_result"
    }
   ],
   "source": [
    "fy('101,raj,QA,pune')"
   ]
  },
  {
   "cell_type": "code",
   "execution_count": 79,
   "id": "dceee710-33de-4789-95d0-067286395d3e",
   "metadata": {},
   "outputs": [],
   "source": [
    "def fx(a):\n",
    "    if(a >501 and a < 600):\n",
    "        return a+100\n",
    "    elif(a >100 and a < 200):\n",
    "        return a+500\n",
    "    else:\n",
    "        return a+1000"
   ]
  },
  {
   "cell_type": "code",
   "execution_count": 80,
   "id": "20d62177-dd0d-4c0b-ab8c-4d9820a8ce89",
   "metadata": {},
   "outputs": [
    {
     "data": {
      "text/plain": [
       "650"
      ]
     },
     "execution_count": 80,
     "metadata": {},
     "output_type": "execute_result"
    }
   ],
   "source": [
    "fx(550)"
   ]
  },
  {
   "cell_type": "code",
   "execution_count": 81,
   "id": "d55109a6-bb50-4b80-823d-74cf53703292",
   "metadata": {},
   "outputs": [
    {
     "data": {
      "text/plain": [
       "650"
      ]
     },
     "execution_count": 81,
     "metadata": {},
     "output_type": "execute_result"
    }
   ],
   "source": [
    "fx(150)"
   ]
  },
  {
   "cell_type": "code",
   "execution_count": 82,
   "id": "28233c68-eb58-4cfc-a03c-e43f920a2175",
   "metadata": {},
   "outputs": [
    {
     "data": {
      "text/plain": [
       "1010"
      ]
     },
     "execution_count": 82,
     "metadata": {},
     "output_type": "execute_result"
    }
   ],
   "source": [
    "fx(10)"
   ]
  },
  {
   "cell_type": "code",
   "execution_count": 83,
   "id": "16567f1b-a981-4999-8e80-f3f5120205a6",
   "metadata": {},
   "outputs": [
    {
     "data": {
      "text/plain": [
       "1100"
      ]
     },
     "execution_count": 83,
     "metadata": {},
     "output_type": "execute_result"
    }
   ],
   "source": [
    "f6 = lambda a:fx(a)\n",
    "f6(100)"
   ]
  },
  {
   "cell_type": "code",
   "execution_count": 84,
   "id": "34eb19cc-e288-484b-9a4f-21e86c90c5a4",
   "metadata": {},
   "outputs": [
    {
     "data": {
      "text/plain": [
       "650"
      ]
     },
     "execution_count": 84,
     "metadata": {},
     "output_type": "execute_result"
    }
   ],
   "source": [
    "f6(550)"
   ]
  },
  {
   "cell_type": "code",
   "execution_count": 85,
   "id": "00c689c8-288f-4fe9-8e71-a5bbe68dee54",
   "metadata": {},
   "outputs": [
    {
     "data": {
      "text/plain": [
       "650"
      ]
     },
     "execution_count": 85,
     "metadata": {},
     "output_type": "execute_result"
    }
   ],
   "source": [
    "f6(150)"
   ]
  },
  {
   "cell_type": "code",
   "execution_count": 88,
   "id": "a8d14aa7-efe4-49f3-8957-395da8aca0ad",
   "metadata": {},
   "outputs": [
    {
     "name": "stdout",
     "output_type": "stream",
     "text": [
      "[110, 120, 130, 140, 150] \n",
      "\n"
     ]
    },
    {
     "data": {
      "text/plain": [
       "[110, 120, 130, 140, 150]"
      ]
     },
     "execution_count": 88,
     "metadata": {},
     "output_type": "execute_result"
    }
   ],
   "source": [
    "# 2. list comprehension - list append operation\n",
    "#    ==================\n",
    "#      [final_value for iterable]\n",
    "#                   -----(1)---\n",
    "#      ----(2)-----\n",
    "#    --------------------------------------\n",
    "\n",
    "L = list()\n",
    "for var in [10,20,30,40,50]:\n",
    "    r = var+100\n",
    "    L.append(r)\n",
    "print(L,\"\\n\")\n",
    "\n",
    "[var+100 for var in [10,20,30,40,50]] # list comprehension "
   ]
  },
  {
   "cell_type": "code",
   "execution_count": 90,
   "id": "1d7471da-2b17-4ff1-ab78-963009472a86",
   "metadata": {},
   "outputs": [
    {
     "name": "stdout",
     "output_type": "stream",
     "text": [
      "[510, 520, 530, 140, 150] \n",
      "\n"
     ]
    },
    {
     "data": {
      "text/plain": [
       "[510, 520, 530, 140, 150]"
      ]
     },
     "execution_count": 90,
     "metadata": {},
     "output_type": "execute_result"
    }
   ],
   "source": [
    "# 2. list comprehension - list append operation\n",
    "#    ==================\n",
    "#      [final_value for iterable]\n",
    "#                   -----(1)---\n",
    "#      ----(2)-----\n",
    "#    --------------------------------------\n",
    "\n",
    "L = list()\n",
    "for var in [10,20,30,40,50]:\n",
    "    if(var >30):\n",
    "        r = var+100\n",
    "        L.append(r)\n",
    "    else:\n",
    "        r = var+500\n",
    "        L.append(r)\n",
    "        \n",
    "print(L,\"\\n\")\n",
    "\n",
    "[var+100 if(var >30) else var+500 for var in [10,20,30,40,50]] # list comprehension "
   ]
  },
  {
   "cell_type": "code",
   "execution_count": 91,
   "id": "43f0eb24-0669-4ca2-a767-54faa3299c29",
   "metadata": {},
   "outputs": [
    {
     "data": {
      "text/plain": [
       "{'counts': [510, 520, 530, 140, 150]}"
      ]
     },
     "execution_count": 91,
     "metadata": {},
     "output_type": "execute_result"
    }
   ],
   "source": [
    "d={}\n",
    "d['counts'] = [var+100 if(var >30) else var+500 for var in [10,20,30,40,50]]\n",
    "d"
   ]
  },
  {
   "cell_type": "code",
   "execution_count": null,
   "id": "0a612a8f-fe46-4329-99b9-32a117954633",
   "metadata": {},
   "outputs": [],
   "source": [
    "In Python - class - object design model \n",
    "int - class\n",
    " |-> 10 - object -> 0x1234 \n",
    " |-> 11 - object -> 0x3334\n",
    " |-> 12 - object -> 0x3413\n",
    "\n",
    "str - class\n",
    " |-> 'a' - object -> 0x312\n",
    " |-> 'b' - object -> 0x315\n",
    "...\n",
    "..."
   ]
  },
  {
   "cell_type": "code",
   "execution_count": 95,
   "id": "64db7c84-f003-4b4a-9d31-98cad5774caa",
   "metadata": {},
   "outputs": [
    {
     "name": "stdout",
     "output_type": "stream",
     "text": [
      "0x7ffde15cb4c8\n",
      "0x7ffde15cb4c8\n",
      "0x7ffde15cb4c8\n",
      "0x7ffde15cb4c8\n",
      "\n",
      "0x7ffde15cb4e8\n",
      "0x7ffde15cb4e8\n"
     ]
    }
   ],
   "source": [
    "a = 10\n",
    "b = 10\n",
    "c = 2+8\n",
    "print(hex(id(a)))\n",
    "print(hex(id(b)))\n",
    "print(hex(id(c)))\n",
    "print(hex(id(10)))\n",
    "print('')\n",
    "a=a+1\n",
    "print(hex(id(a)))\n",
    "print(hex(id(11)))"
   ]
  },
  {
   "cell_type": "code",
   "execution_count": 96,
   "id": "58ec4a68-8eb0-43dc-b764-9921d6235f6b",
   "metadata": {},
   "outputs": [
    {
     "name": "stdout",
     "output_type": "stream",
     "text": [
      "0x7ffde15dafe0\n",
      "0x7ffde15dafe0\n",
      "0x7ffde15dafe0\n"
     ]
    }
   ],
   "source": [
    "s = 'abcab'    #   | a | b | c | a | b |\n",
    "               #   | 0 | 1 | 2 | 3 | 4 | <== index\n",
    "               #   |0x1 0x4 0x6 0x1 0x4\n",
    "print(hex(id(s[0])))\n",
    "print(hex(id(s[3])))\n",
    "print(hex(id('a')))"
   ]
  },
  {
   "cell_type": "code",
   "execution_count": 97,
   "id": "12ae6abc-f185-47f9-ae56-a29ce134e7a7",
   "metadata": {},
   "outputs": [
    {
     "data": {
      "text/plain": [
       "<str_ascii_iterator at 0x29bb13c3df0>"
      ]
     },
     "execution_count": 97,
     "metadata": {},
     "output_type": "execute_result"
    }
   ],
   "source": [
    "iter(s)\n",
    " |->iterate this object\n",
    " |-> 1. next() - iterated one element at a time....StopIteration \n",
    " |-> 2. for loop \n",
    " |-> 3. typecast to list "
   ]
  },
  {
   "cell_type": "code",
   "execution_count": 98,
   "id": "4ce512b2-40b5-495a-bd2a-7d168ff161bd",
   "metadata": {},
   "outputs": [
    {
     "name": "stdout",
     "output_type": "stream",
     "text": [
      "a\n",
      "b\n",
      "c\n",
      "d\n"
     ]
    },
    {
     "ename": "StopIteration",
     "evalue": "",
     "output_type": "error",
     "traceback": [
      "\u001b[1;31m---------------------------------------------------------------------------\u001b[0m",
      "\u001b[1;31mStopIteration\u001b[0m                             Traceback (most recent call last)",
      "Cell \u001b[1;32mIn[98], line 7\u001b[0m\n\u001b[0;32m      5\u001b[0m \u001b[38;5;28mprint\u001b[39m(\u001b[38;5;28mnext\u001b[39m(obj))\n\u001b[0;32m      6\u001b[0m \u001b[38;5;28mprint\u001b[39m(\u001b[38;5;28mnext\u001b[39m(obj))\n\u001b[1;32m----> 7\u001b[0m \u001b[38;5;28mprint\u001b[39m(\u001b[38;5;28mnext\u001b[39m(obj))\n",
      "\u001b[1;31mStopIteration\u001b[0m: "
     ]
    }
   ],
   "source": [
    "s='abcd'\n",
    "obj = iter(s)\n",
    "print(next(obj))\n",
    "print(next(obj))\n",
    "print(next(obj))\n",
    "print(next(obj))\n",
    "print(next(obj))"
   ]
  },
  {
   "cell_type": "code",
   "execution_count": 99,
   "id": "a61c3e6f-9a15-4a68-8227-72005d724a3b",
   "metadata": {},
   "outputs": [
    {
     "name": "stdout",
     "output_type": "stream",
     "text": [
      "a\n",
      "b\n",
      "c\n",
      "d\n"
     ]
    }
   ],
   "source": [
    "s='abcd'\n",
    "obj = iter(s)\n",
    "for var in obj:\n",
    "    print(var)"
   ]
  },
  {
   "cell_type": "code",
   "execution_count": 100,
   "id": "7e22e22f-0caf-4c33-8ebd-29725946ba41",
   "metadata": {},
   "outputs": [
    {
     "data": {
      "text/plain": [
       "['a', 'b', 'c', 'd']"
      ]
     },
     "execution_count": 100,
     "metadata": {},
     "output_type": "execute_result"
    }
   ],
   "source": [
    "s='abcd'\n",
    "obj = iter(s)\n",
    "list(obj)"
   ]
  },
  {
   "cell_type": "code",
   "execution_count": null,
   "id": "8f202398-82ca-4249-b9c5-e2db27fb62ba",
   "metadata": {},
   "outputs": [],
   "source": [
    "# Generator\n",
    "# ------------\n",
    "#  |->function returns an address(iterator)\n",
    "#               -----------------------------//generator\n",
    "#                  yield <Value>/Expression "
   ]
  },
  {
   "cell_type": "code",
   "execution_count": 103,
   "id": "e51e1bc9-8738-4819-8580-4ba8eb270e7a",
   "metadata": {},
   "outputs": [
    {
     "name": "stdout",
     "output_type": "stream",
     "text": [
      "<class 'function'> <class 'function'>\n",
      "<class 'int'> <class 'generator'>\n"
     ]
    }
   ],
   "source": [
    "def f1():\n",
    "    return 10\n",
    "def f2():\n",
    "    yield 10\n",
    "\n",
    "print(type(f1),type(f2))\n",
    "print(type(f1()),type(f2()))\n",
    "\n"
   ]
  },
  {
   "cell_type": "code",
   "execution_count": 105,
   "id": "84a1edd9-7d39-4054-8a42-b0381e55f9f3",
   "metadata": {},
   "outputs": [
    {
     "data": {
      "text/plain": [
       "<generator object f2 at 0x0000029BB130B640>"
      ]
     },
     "execution_count": 105,
     "metadata": {},
     "output_type": "execute_result"
    }
   ],
   "source": [
    "def f1():\n",
    "    return 10\n",
    "    print('this line never execute')\n",
    "    \n",
    "def f2():\n",
    "    yield 10\n",
    "    print('this line will execute')\n",
    "    yield 20\n",
    "    print('this line also will execute')\n",
    "    yield 'd1','d2'\n",
    "\n",
    "f1()\n",
    "f2()"
   ]
  },
  {
   "cell_type": "code",
   "execution_count": 109,
   "id": "123fb6ff-de81-4f10-aef9-8e9d646e8e4b",
   "metadata": {},
   "outputs": [
    {
     "name": "stdout",
     "output_type": "stream",
     "text": [
      "10\n",
      "this line will execute\n",
      "20\n",
      "this line also will execute\n",
      "('d1', 'd2')\n"
     ]
    },
    {
     "ename": "StopIteration",
     "evalue": "",
     "output_type": "error",
     "traceback": [
      "\u001b[1;31m---------------------------------------------------------------------------\u001b[0m",
      "\u001b[1;31mStopIteration\u001b[0m                             Traceback (most recent call last)",
      "Cell \u001b[1;32mIn[109], line 5\u001b[0m\n\u001b[0;32m      3\u001b[0m \u001b[38;5;28mprint\u001b[39m(\u001b[38;5;28mnext\u001b[39m(gobj))\n\u001b[0;32m      4\u001b[0m \u001b[38;5;28mprint\u001b[39m(\u001b[38;5;28mnext\u001b[39m(gobj))\n\u001b[1;32m----> 5\u001b[0m \u001b[38;5;28mprint\u001b[39m(\u001b[38;5;28mnext\u001b[39m(gobj))\n",
      "\u001b[1;31mStopIteration\u001b[0m: "
     ]
    }
   ],
   "source": [
    "gobj = f2()\n",
    "print(next(gobj))\n",
    "print(next(gobj))\n",
    "print(next(gobj))\n",
    "print(next(gobj))"
   ]
  },
  {
   "cell_type": "code",
   "execution_count": 110,
   "id": "c90a6196-05c0-4963-9d85-4491c36f8c91",
   "metadata": {},
   "outputs": [
    {
     "name": "stdout",
     "output_type": "stream",
     "text": [
      "10\n",
      "this line will execute\n",
      "20\n",
      "this line also will execute\n",
      "('d1', 'd2')\n"
     ]
    }
   ],
   "source": [
    "def f2():\n",
    "    yield 10\n",
    "    print('this line will execute')\n",
    "    yield 20\n",
    "    print('this line also will execute')\n",
    "    yield 'd1','d2'\n",
    "\n",
    "gobj = f2()\n",
    "for var in gobj:\n",
    "    print(var)"
   ]
  },
  {
   "cell_type": "code",
   "execution_count": 111,
   "id": "cc0c84b9-c81e-4989-838e-0f2cffa97266",
   "metadata": {},
   "outputs": [
    {
     "name": "stdout",
     "output_type": "stream",
     "text": [
      "this line will execute\n",
      "this line also will execute\n"
     ]
    },
    {
     "data": {
      "text/plain": [
       "[10, 20, ('d1', 'd2')]"
      ]
     },
     "execution_count": 111,
     "metadata": {},
     "output_type": "execute_result"
    }
   ],
   "source": [
    "gobj = f2()\n",
    "list(gobj)"
   ]
  },
  {
   "cell_type": "code",
   "execution_count": null,
   "id": "f6fd6c6e-79e2-4ace-b58f-24314818ee2c",
   "metadata": {},
   "outputs": [],
   "source": [
    "i=10   # mapping to an existing object - initialization -> i - label (or) placeholder \n",
    "j=10   # mapping to an existing object - initialization -> j - label (or) placeholder "
   ]
  },
  {
   "cell_type": "code",
   "execution_count": null,
   "id": "9b57896c-1a87-4f30-b1dd-7637bed91c23",
   "metadata": {},
   "outputs": [],
   "source": [
    "karth@paka MINGW64 ~\n",
    "$ ls Demo1\n",
    "D1/  p1.log  p2.log\n",
    "\n",
    "karth@paka MINGW64 ~\n",
    "$ ls -R Demo1\n",
    "Demo1:\n",
    "D1/  p1.log  p2.log\n",
    "\n",
    "Demo1/D1:\n",
    "D2/  t1.txt\n",
    "\n",
    "Demo1/D1/D2:\n",
    "D3/\n",
    "\n",
    "Demo1/D1/D2/D3:\n",
    "r1.log  r2.log\n",
    "\n",
    "karth@paka MINGW64 ~\n",
    "$\n",
    "C:\\Users\\karth>python\n",
    "Python 3.10.0 (tags/v3.10.0:b494f59, Oct  4 2021, 19:00:18) [MSC v.1929 64 bit (AMD64)] on win32\n",
    "Type \"help\", \"copyright\", \"credits\" or \"license\" for more information.\n",
    ">>> import os\n",
    ">>>\n",
    ">>> os.listdir(\"Demo1\")\n",
    "['D1', 'p1.log', 'p2.log']\n",
    ">>>\n",
    ">>> os.walk(\"Demo1\")\n",
    "<generator object _walk at 0x000001C877539A80>\n",
    ">>> gobj = os.walk(\"Demo1\")\n",
    ">>> for var in gobj:\n",
    "...     print(var)\n",
    "...\n",
    "('Demo1', ['D1'], ['p1.log', 'p2.log'])\n",
    "('Demo1\\\\D1', ['D2'], ['t1.txt'])\n",
    "('Demo1\\\\D1\\\\D2', ['D3'], [])\n",
    "('Demo1\\\\D1\\\\D2\\\\D3', [], ['r1.log', 'r2.log'])\n",
    ">>>\n",
    ">>> def mywalk():\n",
    "...     yield \"Demo1\",[\"D1\"],[\"p1.log\",\"p2.log\"]\n",
    "...     yield \"Demo1\\D1\",[\"D2\"],[\"t1.txt\"]\n",
    "...     yield \"Demo1\\D1\\D2\",[\"D3\"],[]\n",
    "...     yield \"Demo1\\D1\\D2\\D3\",[],['r1.log','r2.log']\n",
    "...\n",
    ">>> mywalk()\n",
    "<generator object mywalk at 0x000001C877626030>\n",
    ">>>\n",
    ">>> gobj = mywalk()\n",
    ">>> for var in gobj:\n",
    "...     print(var)\n",
    "...\n",
    "('Demo1', ['D1'], ['p1.log', 'p2.log'])\n",
    "('Demo1\\\\D1', ['D2'], ['t1.txt'])\n",
    "('Demo1\\\\D1\\\\D2', ['D3'], [])\n",
    "('Demo1\\\\D1\\\\D2\\\\D3', [], ['r1.log', 'r2.log'])\n",
    ">>>"
   ]
  },
  {
   "cell_type": "code",
   "execution_count": null,
   "id": "bcf3f17c-f901-44c1-ab82-43075054946b",
   "metadata": {},
   "outputs": [],
   "source": [
    "map() => map(function,<collection/iterable>) --> generator \n",
    "               |               |                 ============\n",
    "               lambda        list comprehension/collection"
   ]
  },
  {
   "cell_type": "code",
   "execution_count": null,
   "id": "486e7dea-abb3-4e85-a36f-f08cc2027a4c",
   "metadata": {},
   "outputs": [],
   "source": [
    "L = list()\n",
    "--------------------\n",
    "def f1(a):\n",
    "    return a+100\n",
    "-----------------------  // lambda \n",
    "for var in [10,20,30,40,50]:\n",
    "    r = f1(var)\n",
    "    L.append(r)\n",
    "\n",
    "print(L)"
   ]
  },
  {
   "cell_type": "code",
   "execution_count": 112,
   "id": "59db3747-be01-4c65-a9cc-867c12528bbb",
   "metadata": {},
   "outputs": [
    {
     "data": {
      "text/plain": [
       "<map at 0x29bb14111e0>"
      ]
     },
     "execution_count": 112,
     "metadata": {},
     "output_type": "execute_result"
    }
   ],
   "source": [
    "map(lambda a:a+100,[10,20,30,40,50])"
   ]
  },
  {
   "cell_type": "code",
   "execution_count": 114,
   "id": "daf3f3e2-9c68-4bd6-a404-d5f695392621",
   "metadata": {},
   "outputs": [
    {
     "name": "stdout",
     "output_type": "stream",
     "text": [
      "110\n",
      "120\n",
      "130\n",
      "140\n",
      "150\n"
     ]
    },
    {
     "ename": "StopIteration",
     "evalue": "",
     "output_type": "error",
     "traceback": [
      "\u001b[1;31m---------------------------------------------------------------------------\u001b[0m",
      "\u001b[1;31mStopIteration\u001b[0m                             Traceback (most recent call last)",
      "Cell \u001b[1;32mIn[114], line 7\u001b[0m\n\u001b[0;32m      5\u001b[0m \u001b[38;5;28mprint\u001b[39m(\u001b[38;5;28mnext\u001b[39m(map_obj))\n\u001b[0;32m      6\u001b[0m \u001b[38;5;28mprint\u001b[39m(\u001b[38;5;28mnext\u001b[39m(map_obj))\n\u001b[1;32m----> 7\u001b[0m \u001b[38;5;28mprint\u001b[39m(\u001b[38;5;28mnext\u001b[39m(map_obj))\n",
      "\u001b[1;31mStopIteration\u001b[0m: "
     ]
    }
   ],
   "source": [
    "map_obj = map(lambda a:a+100,[10,20,30,40,50])\n",
    "print(next(map_obj))\n",
    "print(next(map_obj))\n",
    "print(next(map_obj))\n",
    "print(next(map_obj))\n",
    "print(next(map_obj))\n",
    "print(next(map_obj))"
   ]
  },
  {
   "cell_type": "code",
   "execution_count": 115,
   "id": "c1dfa80e-bee7-43de-9e5a-4b2d51f1b2e4",
   "metadata": {},
   "outputs": [
    {
     "name": "stdout",
     "output_type": "stream",
     "text": [
      "110\n",
      "120\n",
      "130\n",
      "140\n",
      "150\n"
     ]
    }
   ],
   "source": [
    "map_obj = map(lambda a:a+100,[10,20,30,40,50])\n",
    "for var in map_obj:\n",
    "    print(var)"
   ]
  },
  {
   "cell_type": "code",
   "execution_count": 116,
   "id": "d562a08d-17d1-47e6-90fc-c5432472a094",
   "metadata": {},
   "outputs": [
    {
     "data": {
      "text/plain": [
       "[110, 120, 130, 140, 150]"
      ]
     },
     "execution_count": 116,
     "metadata": {},
     "output_type": "execute_result"
    }
   ],
   "source": [
    "map_obj = map(lambda a:a+100,[10,20,30,40,50])\n",
    "list(map_obj)"
   ]
  },
  {
   "cell_type": "code",
   "execution_count": 117,
   "id": "d010fb8d-ead6-439d-80fb-836619558b1e",
   "metadata": {},
   "outputs": [
    {
     "data": {
      "text/plain": [
       "<_io.TextIOWrapper name='emp.csv' mode='r' encoding='cp1252'>"
      ]
     },
     "execution_count": 117,
     "metadata": {},
     "output_type": "execute_result"
    }
   ],
   "source": [
    "open('emp.csv','r')"
   ]
  },
  {
   "cell_type": "code",
   "execution_count": 118,
   "id": "81fdab6f-74fe-4ba9-9233-f74d730f8b2c",
   "metadata": {},
   "outputs": [
    {
     "name": "stdout",
     "output_type": "stream",
     "text": [
      "eid,ename,edept,ecity,ecost\n",
      "\n",
      "101,raj,sales,pune,1000\n",
      "\n"
     ]
    }
   ],
   "source": [
    "fobj = open('emp.csv','r')\n",
    "print(next(fobj))\n",
    "print(next(fobj))"
   ]
  },
  {
   "cell_type": "code",
   "execution_count": 120,
   "id": "1311d1b6-e004-4115-a2ca-a9ae080602f5",
   "metadata": {},
   "outputs": [
    {
     "name": "stdout",
     "output_type": "stream",
     "text": [
      "eid,ename,edept,ecity,ecost\n",
      "101,raj,sales,pune,1000\n",
      "102,leo,prod,bglore,2301\n",
      "230,raj,prod,pune,2300\n",
      "450,shan,sales,bglore,3401\n",
      "542,anu,HR,mumbai,4590\n",
      "321,bibu,sales,hyd,5419\n",
      "651,ram,hr,bglore,3130\n",
      "541,leo,admin,chennai,4913\n",
      "652,karthik,sales,bglore,3405\n"
     ]
    }
   ],
   "source": [
    "fobj = open('emp.csv','r')\n",
    "for var in fobj:\n",
    "    print(var.strip())"
   ]
  },
  {
   "cell_type": "code",
   "execution_count": 121,
   "id": "4360ea30-ceee-4171-a5db-c63b26456f73",
   "metadata": {},
   "outputs": [
    {
     "data": {
      "text/plain": [
       "['eid,ename,edept,ecity,ecost\\n',\n",
       " '101,raj,sales,pune,1000\\n',\n",
       " '102,leo,prod,bglore,2301\\n',\n",
       " '230,raj,prod,pune,2300\\n',\n",
       " '450,shan,sales,bglore,3401\\n',\n",
       " '542,anu,HR,mumbai,4590\\n',\n",
       " '321,bibu,sales,hyd,5419\\n',\n",
       " '651,ram,hr,bglore,3130\\n',\n",
       " '541,leo,admin,chennai,4913\\n',\n",
       " '652,karthik,sales,bglore,3405\\n']"
      ]
     },
     "execution_count": 121,
     "metadata": {},
     "output_type": "execute_result"
    }
   ],
   "source": [
    "fobj = open('emp.csv','r')\n",
    "list(fobj)"
   ]
  },
  {
   "cell_type": "code",
   "execution_count": 122,
   "id": "25e366ff-9a07-4c82-b749-732970a5e3e0",
   "metadata": {},
   "outputs": [
    {
     "data": {
      "text/plain": [
       "['EID,ENAME,EDEPT,ECITY,ECOST\\n',\n",
       " '101,RAJ,SALES,PUNE,1000\\n',\n",
       " '102,LEO,PROD,BGLORE,2301\\n',\n",
       " '230,RAJ,PROD,PUNE,2300\\n',\n",
       " '450,SHAN,SALES,BGLORE,3401\\n',\n",
       " '542,ANU,HR,MUMBAI,4590\\n',\n",
       " '321,BIBU,SALES,HYD,5419\\n',\n",
       " '651,RAM,HR,BGLORE,3130\\n',\n",
       " '541,LEO,ADMIN,CHENNAI,4913\\n',\n",
       " '652,KARTHIK,SALES,BGLORE,3405\\n']"
      ]
     },
     "execution_count": 122,
     "metadata": {},
     "output_type": "execute_result"
    }
   ],
   "source": [
    "list(map(lambda a:a.upper(),open('emp.csv')))"
   ]
  },
  {
   "cell_type": "code",
   "execution_count": 123,
   "id": "251b82aa-e44f-4a43-bc1d-baa58d4d83ef",
   "metadata": {},
   "outputs": [
    {
     "data": {
      "text/plain": [
       "['Eid,Ename,Edept,Ecity,Ecost\\n',\n",
       " '101,Raj,Sales,Pune,1000\\n',\n",
       " '102,Leo,Prod,Bglore,2301\\n',\n",
       " '230,Raj,Prod,Pune,2300\\n',\n",
       " '450,Shan,Sales,Bglore,3401\\n',\n",
       " '542,Anu,Hr,Mumbai,4590\\n',\n",
       " '321,Bibu,Sales,Hyd,5419\\n',\n",
       " '651,Ram,Hr,Bglore,3130\\n',\n",
       " '541,Leo,Admin,Chennai,4913\\n',\n",
       " '652,Karthik,Sales,Bglore,3405\\n']"
      ]
     },
     "execution_count": 123,
     "metadata": {},
     "output_type": "execute_result"
    }
   ],
   "source": [
    "list(map(lambda a:a.title(),open('emp.csv')))"
   ]
  },
  {
   "cell_type": "code",
   "execution_count": 124,
   "id": "ea6a1a71-dd6f-40f7-98df-1e1a73b36bee",
   "metadata": {},
   "outputs": [
    {
     "data": {
      "text/plain": [
       "{'CSV': ['Eid,Ename,Edept,Ecity,Ecost\\n',\n",
       "  '101,Raj,Sales,Pune,1000\\n',\n",
       "  '102,Leo,Prod,Bglore,2301\\n',\n",
       "  '230,Raj,Prod,Pune,2300\\n',\n",
       "  '450,Shan,Sales,Bglore,3401\\n',\n",
       "  '542,Anu,Hr,Mumbai,4590\\n',\n",
       "  '321,Bibu,Sales,Hyd,5419\\n',\n",
       "  '651,Ram,Hr,Bglore,3130\\n',\n",
       "  '541,Leo,Admin,Chennai,4913\\n',\n",
       "  '652,Karthik,Sales,Bglore,3405\\n']}"
      ]
     },
     "execution_count": 124,
     "metadata": {},
     "output_type": "execute_result"
    }
   ],
   "source": [
    "d={}\n",
    "d['CSV'] = list(map(lambda a:a.title(),open('emp.csv')))\n",
    "d"
   ]
  },
  {
   "cell_type": "code",
   "execution_count": 125,
   "id": "c3e59dd2-a799-4298-928d-41c08a696157",
   "metadata": {},
   "outputs": [],
   "source": [
    "import json\n",
    "jd = json.dumps(d,indent=2)"
   ]
  },
  {
   "cell_type": "code",
   "execution_count": 126,
   "id": "5ce04149-b71b-4900-a164-de5ecb8d1dd3",
   "metadata": {},
   "outputs": [
    {
     "data": {
      "text/plain": [
       "{'CSV': ['Eid,Ename,Edept,Ecity,Ecost\\n',\n",
       "  '101,Raj,Sales,Pune,1000\\n',\n",
       "  '102,Leo,Prod,Bglore,2301\\n',\n",
       "  '230,Raj,Prod,Pune,2300\\n',\n",
       "  '450,Shan,Sales,Bglore,3401\\n',\n",
       "  '542,Anu,Hr,Mumbai,4590\\n',\n",
       "  '321,Bibu,Sales,Hyd,5419\\n',\n",
       "  '651,Ram,Hr,Bglore,3130\\n',\n",
       "  '541,Leo,Admin,Chennai,4913\\n',\n",
       "  '652,Karthik,Sales,Bglore,3405\\n']}"
      ]
     },
     "execution_count": 126,
     "metadata": {},
     "output_type": "execute_result"
    }
   ],
   "source": [
    "json.loads(jd) # convert to python"
   ]
  },
  {
   "cell_type": "code",
   "execution_count": 127,
   "id": "180df838-17f4-41e1-83bd-218111825092",
   "metadata": {},
   "outputs": [
    {
     "data": {
      "text/plain": [
       "[False, False, False, True, True, True, False, False]"
      ]
     },
     "execution_count": 127,
     "metadata": {},
     "output_type": "execute_result"
    }
   ],
   "source": [
    "def f1(a):\n",
    "    if(a >30):\n",
    "        return True\n",
    "    else:\n",
    "        return False\n",
    "\n",
    "L = list()\n",
    "for var in [10,20,30,40,50,60,25,15]:\n",
    "    r = f1(var)\n",
    "    L.append(r)\n",
    "L"
   ]
  },
  {
   "cell_type": "code",
   "execution_count": 128,
   "id": "45b87475-3368-4c50-8f5b-ce136d7ec3b0",
   "metadata": {},
   "outputs": [
    {
     "data": {
      "text/plain": [
       "[False, False, False, True, True, True, False, False]"
      ]
     },
     "execution_count": 128,
     "metadata": {},
     "output_type": "execute_result"
    }
   ],
   "source": [
    "list(map(lambda a: a>30,[10,20,30,40,50,60,25,15]))"
   ]
  },
  {
   "cell_type": "code",
   "execution_count": 129,
   "id": "e9bc319c-9b08-416f-bef0-048906e38784",
   "metadata": {},
   "outputs": [
    {
     "data": {
      "text/plain": [
       "[40, 50, 60]"
      ]
     },
     "execution_count": 129,
     "metadata": {},
     "output_type": "execute_result"
    }
   ],
   "source": [
    "list(filter(lambda a: a>30,[10,20,30,40,50,60,25,15]))"
   ]
  },
  {
   "cell_type": "code",
   "execution_count": null,
   "id": "424099b6-d8c1-411a-9ee3-d39b28f05f37",
   "metadata": {},
   "outputs": [],
   "source": [
    "map(function,collection) ->Generator\n",
    "filter(function,collection) ->Generator"
   ]
  },
  {
   "cell_type": "code",
   "execution_count": 133,
   "id": "2daeae67-4703-4944-ab4a-b1ad4c53f741",
   "metadata": {},
   "outputs": [
    {
     "name": "stdout",
     "output_type": "stream",
     "text": [
      "(0, 'a')\n",
      "(1, 'b')\n",
      "(2, 'c')\n",
      "(3, 'd')\n"
     ]
    }
   ],
   "source": [
    "# help(enumerate)\n",
    "for var in enumerate('abcd'):\n",
    "    print(var)"
   ]
  },
  {
   "cell_type": "code",
   "execution_count": 134,
   "id": "e122af2b-b35b-4fda-a4a8-63553462e1e2",
   "metadata": {},
   "outputs": [
    {
     "name": "stdout",
     "output_type": "stream",
     "text": [
      "(5, 'a')\n",
      "(6, 'b')\n",
      "(7, 'c')\n",
      "(8, 'd')\n"
     ]
    }
   ],
   "source": [
    "for var in enumerate('abcd',5):\n",
    "    print(var)"
   ]
  },
  {
   "cell_type": "code",
   "execution_count": 135,
   "id": "00e86be1-2d4d-4b60-bdd2-2058840fea77",
   "metadata": {},
   "outputs": [
    {
     "name": "stdout",
     "output_type": "stream",
     "text": [
      "(1, 'eid,ename,edept,ecity,ecost\\n')\n",
      "(2, '101,raj,sales,pune,1000\\n')\n",
      "(3, '102,leo,prod,bglore,2301\\n')\n",
      "(4, '230,raj,prod,pune,2300\\n')\n",
      "(5, '450,shan,sales,bglore,3401\\n')\n",
      "(6, '542,anu,HR,mumbai,4590\\n')\n",
      "(7, '321,bibu,sales,hyd,5419\\n')\n",
      "(8, '651,ram,hr,bglore,3130\\n')\n",
      "(9, '541,leo,admin,chennai,4913\\n')\n",
      "(10, '652,karthik,sales,bglore,3405\\n')\n"
     ]
    }
   ],
   "source": [
    "for var in enumerate(open('emp.csv'),1):\n",
    "    print(var)"
   ]
  },
  {
   "cell_type": "code",
   "execution_count": 136,
   "id": "d4a3d173-7e10-4d64-b996-baffce488048",
   "metadata": {},
   "outputs": [
    {
     "name": "stdout",
     "output_type": "stream",
     "text": [
      "1 - eid,ename,edept,ecity,ecost\n",
      "2 - 101,raj,sales,pune,1000\n",
      "3 - 102,leo,prod,bglore,2301\n",
      "4 - 230,raj,prod,pune,2300\n",
      "5 - 450,shan,sales,bglore,3401\n",
      "6 - 542,anu,HR,mumbai,4590\n",
      "7 - 321,bibu,sales,hyd,5419\n",
      "8 - 651,ram,hr,bglore,3130\n",
      "9 - 541,leo,admin,chennai,4913\n",
      "10 - 652,karthik,sales,bglore,3405\n"
     ]
    }
   ],
   "source": [
    "for line,data in enumerate(open('emp.csv'),1):\n",
    "    print(f'{line} - {data.strip()}')"
   ]
  },
  {
   "cell_type": "code",
   "execution_count": 138,
   "id": "a5471c37-86f2-41ea-8af8-0bd72da5ed47",
   "metadata": {},
   "outputs": [
    {
     "name": "stdout",
     "output_type": "stream",
     "text": [
      "5 - 450,shan,sales,bglore,3401\n",
      "6 - 542,anu,HR,mumbai,4590\n",
      "7 - 321,bibu,sales,hyd,5419\n",
      "8 - 651,ram,hr,bglore,3130\n"
     ]
    }
   ],
   "source": [
    "for line,data in enumerate(open('emp.csv'),1):\n",
    "    if(line >=5 and line <=8):\n",
    "        print(f'{line} - {data.strip()}')"
   ]
  },
  {
   "cell_type": "code",
   "execution_count": 139,
   "id": "767b53f7-4fcc-4b80-bdb4-444304ceacad",
   "metadata": {},
   "outputs": [
    {
     "name": "stdout",
     "output_type": "stream",
     "text": [
      "1 - eid,ename,edept,ecity,ecost\n",
      "2 - 101,raj,sales,pune,1000\n",
      "3 - 102,leo,prod,bglore,2301\n",
      "4 - 230,raj,prod,pune,2300\n",
      "9 - 541,leo,admin,chennai,4913\n",
      "10 - 652,karthik,sales,bglore,3405\n"
     ]
    }
   ],
   "source": [
    "for line,data in enumerate(open('emp.csv'),1):\n",
    "    if not(line >=5 and line <=8):\n",
    "        print(f'{line} - {data.strip()}')"
   ]
  },
  {
   "cell_type": "code",
   "execution_count": 146,
   "id": "fc575f7b-14d9-4b12-a9af-b45ed061fd90",
   "metadata": {},
   "outputs": [
    {
     "data": {
      "text/plain": [
       "[[1, 'eid,ename,edept,ecity,ecost'],\n",
       " [2, '101,raj,sales,pune,1000'],\n",
       " [3, '102,leo,prod,bglore,2301'],\n",
       " [4, '230,raj,prod,pune,2300'],\n",
       " [5, '450,shan,sales,bglore,3401'],\n",
       " [6, '542,anu,HR,mumbai,4590'],\n",
       " [7, '321,bibu,sales,hyd,5419'],\n",
       " [8, '651,ram,hr,bglore,3130'],\n",
       " [9, '541,leo,admin,chennai,4913'],\n",
       " [10, '652,karthik,sales,bglore,3405']]"
      ]
     },
     "execution_count": 146,
     "metadata": {},
     "output_type": "execute_result"
    }
   ],
   "source": [
    "[[line,data.strip()] for line,data in enumerate(open('emp.csv'),1)]"
   ]
  },
  {
   "cell_type": "code",
   "execution_count": 147,
   "id": "1ebc079a-7631-46db-a719-b967545b810c",
   "metadata": {},
   "outputs": [
    {
     "data": {
      "text/plain": [
       "[[5, '450,shan,sales,bglore,3401'],\n",
       " [6, '542,anu,HR,mumbai,4590'],\n",
       " [7, '321,bibu,sales,hyd,5419']]"
      ]
     },
     "execution_count": 147,
     "metadata": {},
     "output_type": "execute_result"
    }
   ],
   "source": [
    "[[line,data.strip()] for line,data in enumerate(open('emp.csv'),1) if(line >=5 and line <8) ]"
   ]
  },
  {
   "cell_type": "code",
   "execution_count": null,
   "id": "820e2857-f184-4a6d-aed5-f04dcb43ed02",
   "metadata": {},
   "outputs": [],
   "source": [
    "Iterator - Address - object ->traverse through elements one at a time\n",
    "\n",
    "s = 'abcd'    | [a] [b] [c] [d] | <--\n",
    "              | 0x1 0x2 0x3 0x4     |\n",
    "              |-----------------|   |\n",
    "              |     0x6         | <=="
   ]
  },
  {
   "cell_type": "code",
   "execution_count": 148,
   "id": "8701acc5-119f-4b3c-88ca-7d7f7b052d3e",
   "metadata": {},
   "outputs": [
    {
     "data": {
      "text/plain": [
       "<str_ascii_iterator at 0x29babcf2500>"
      ]
     },
     "execution_count": 148,
     "metadata": {},
     "output_type": "execute_result"
    }
   ],
   "source": [
    "s='abcd'\n",
    "iter(s) # convert string into iterator "
   ]
  },
  {
   "cell_type": "code",
   "execution_count": 149,
   "id": "1237815c-918b-4376-9b86-d123c0964976",
   "metadata": {},
   "outputs": [
    {
     "name": "stdout",
     "output_type": "stream",
     "text": [
      "a\n",
      "b\n",
      "c\n",
      "d\n"
     ]
    }
   ],
   "source": [
    "obj = iter(s) \n",
    "for var in obj:\n",
    "    print(var)"
   ]
  },
  {
   "cell_type": "code",
   "execution_count": null,
   "id": "c26093da-da31-4196-a329-e257e57900e9",
   "metadata": {},
   "outputs": [],
   "source": [
    "__iter__() \n",
    "__next__()\n",
    "for loop --> internally use iter() and next() to loop"
   ]
  },
  {
   "cell_type": "code",
   "execution_count": 150,
   "id": "73d45bfa-002c-4897-954f-37a40af86ed7",
   "metadata": {},
   "outputs": [],
   "source": [
    "'''custom iterator '''\n",
    "class myclass:\n",
    "    def __init__(self,n):\n",
    "        self.n = n\n",
    "        self.num = 1\n",
    "    def __iter__(self):\n",
    "        return self\n",
    "    def __next__(self):\n",
    "        if self.num <= self.n:\n",
    "            val = self.num\n",
    "            self.num += 1\n",
    "            return val\n",
    "        else:\n",
    "            raise StopIteration"
   ]
  },
  {
   "cell_type": "code",
   "execution_count": 151,
   "id": "96a70645-3a28-46b3-92fe-8d3be026c909",
   "metadata": {},
   "outputs": [
    {
     "data": {
      "text/plain": [
       "<__main__.myclass at 0x29bafca74d0>"
      ]
     },
     "execution_count": 151,
     "metadata": {},
     "output_type": "execute_result"
    }
   ],
   "source": [
    "myclass(5)"
   ]
  },
  {
   "cell_type": "code",
   "execution_count": 152,
   "id": "db26d454-9afe-4af0-ade2-2e2a14b66b69",
   "metadata": {},
   "outputs": [
    {
     "name": "stdout",
     "output_type": "stream",
     "text": [
      "1\n",
      "2\n",
      "3\n",
      "4\n",
      "5\n"
     ]
    }
   ],
   "source": [
    "for var in myclass(5):\n",
    "    print(var)"
   ]
  },
  {
   "cell_type": "code",
   "execution_count": null,
   "id": "455f6511-3695-4bc3-8830-0a25a67e1864",
   "metadata": {},
   "outputs": [],
   "source": [
    "Thread\n",
    "Regx \n",
    "Database \n",
    "Webscraping\n",
    "json\n",
    "..."
   ]
  },
  {
   "cell_type": "code",
   "execution_count": 153,
   "id": "689577c8-b844-496c-bd93-3ecca33f0068",
   "metadata": {},
   "outputs": [
    {
     "name": "stdout",
     "output_type": "stream",
     "text": [
      "eid,ename,edept,ecity,ecost\n",
      "101,raj,sales,pune,1000\n",
      "102,leo,prod,bglore,2301\n",
      "230,raj,prod,pune,2300\n",
      "450,shan,sales,bglore,3401\n",
      "542,anu,HR,mumbai,4590\n",
      "321,bibu,sales,hyd,5419\n",
      "651,ram,hr,bglore,3130\n",
      "541,leo,admin,chennai,4913\n",
      "652,karthik,sales,bglore,3405\n",
      "\n"
     ]
    }
   ],
   "source": [
    "fobj = open('emp.csv','r')\n",
    "s = fobj.read()\n",
    "fobj.close()\n",
    "\n",
    "with open('emp.csv','r') as fobj:\n",
    "    s = fobj.read()\n",
    "    print(s)\n",
    "\n",
    "# no need to write fobj.close()\n",
    "\n",
    "with open('r1.log','w') as wobj:\n",
    "    wobj.write('test-1\\n')\n",
    "    wobj.write('test-2\\n')\n"
   ]
  },
  {
   "cell_type": "code",
   "execution_count": 154,
   "id": "1f9fc667-0800-482f-8f04-f981f631f702",
   "metadata": {},
   "outputs": [
    {
     "data": {
      "text/plain": [
       "'test-1\\ntest-2\\n'"
      ]
     },
     "execution_count": 154,
     "metadata": {},
     "output_type": "execute_result"
    }
   ],
   "source": [
    "open('r1.log').read()"
   ]
  },
  {
   "cell_type": "code",
   "execution_count": null,
   "id": "575783e1-5044-4141-ba74-bdc8b6e77335",
   "metadata": {},
   "outputs": [],
   "source": [
    "File,Process \n",
    "File - Data - Under the store device(HD) \n",
    "Process - Data - Under the CPU\n",
    "|\n",
    "|-> [Data] + [Address] //process - new process - ProcessPID (import os ; os.getpid()\n",
    "                                                 ParentProcessPID( os.getppid())\n",
    "\n",
    "P1 - parent process - 101 - Wait  - 0x123 \n",
    "|\n",
    "P2 - new process - 102 - Child Process (R+) <== PID: 102  PPID:101  - 0x345\n",
    "                                        |__Exit ---->....\n",
    "\n",
    "Thread - [Data] //execution - smallest unit of data(execution)\n",
    "P1 [ t1 t2 t3 ]\n",
    "      |__|__| \n",
    "        0x123\n",
    "\n",
    "In Python - GIL (Global Interpreter Lock)\n",
    "CPython - GIL enabled \n",
    "t1 - r+ -IO\n",
    "t2 -r+\n",
    "t1 t2\n",
    "r+ r+\n",
    "\n",
    "IPython GIL is disabled \n",
    "Jython GIL is disabled \n",
    "pip install ipython\n",
    "ipython \n",
    "[] ..\n",
    "ipython ...\n",
    "python.org -->Cpython - we can do python programming \n",
    "              |-> MLlibs - no available by default => pip install numpy pip install pandas \n",
    "                            pip install matplotlib  pip install scikitlearn \n",
    "anaconda python ==> we can do python programming + MLlibs installed \n",
    "GIL is disabled \n",
    "--------------------------------------------------------\n",
    "import threading\n",
    "threading.Thread <== className \n",
    "           |->constructor - keyword arguments (var=value)\n",
    "                            |->target=<threadName>,args=(tuple_type)\n",
    "\n",
    "threadObject = threading.Thread(target=f1,args=(10,20,30))\n",
    "threadObject.start() # start thread\n",
    "\n",
    "    [  ]  <== t1 t2 .. tn\n",
    "     |---------------------\n",
    "Synchronization\n",
    "\n",
    "threading.Thread - class - creation\n",
    "threading.Lock - class - synchronization\n",
    "           |->obj.acquire() \n",
    "           |->obj.release()\n",
    "  <or>\n",
    "  with Lock_object:      # only one thread update counter value at a time\n",
    "      <critical section> \n",
    "\n",
    "Lock_object = threading.Lock()\n",
    "def f1():\n",
    "    with Lock_object:\n",
    "        Code block operation # critical section\n",
    "\n",
    "for var in range(1,1000000):\n",
    "    threading.Thread(target=f1).start()\n",
    "-------------------------------------------------------"
   ]
  },
  {
   "cell_type": "code",
   "execution_count": null,
   "id": "feda7928-7913-49b5-86cd-bbae01d9b037",
   "metadata": {},
   "outputs": [],
   "source": [
    "Exception Handling \n",
    "- Exception is logicalError - Exit state \n",
    "\n",
    "try:\n",
    "    <code-initialization>\n",
    "except Exception as eobj:\n",
    "    Handle the logical\n",
    "else:\n",
    "    There is no error\n",
    "finally:\n",
    "    <Always running>\n",
    "\n",
    "Python\n",
    "    'select *from table' //str\n",
    "        |------------------------------------------------->DB(SQL) ....\n",
    "                                                                    |\n",
    "                -------------<--------------------------------------\n",
    "                        python understanding format"
   ]
  },
  {
   "cell_type": "code",
   "execution_count": 155,
   "id": "a2260510-d4ea-443a-a6dd-52593c9e661b",
   "metadata": {},
   "outputs": [
    {
     "data": {
      "text/plain": [
       "<sqlite3.Connection at 0x29babd1b1f0>"
      ]
     },
     "execution_count": 155,
     "metadata": {},
     "output_type": "execute_result"
    }
   ],
   "source": [
    "import sqlite3\n",
    "sqlite3.connect('test1.db')"
   ]
  },
  {
   "cell_type": "code",
   "execution_count": 157,
   "id": "6bce3803-b2fe-42bc-96e7-4cb2ccbba459",
   "metadata": {},
   "outputs": [
    {
     "data": {
      "text/plain": [
       "<sqlite3.Cursor at 0x29bb12d5140>"
      ]
     },
     "execution_count": 157,
     "metadata": {},
     "output_type": "execute_result"
    }
   ],
   "source": [
    "conn = sqlite3.connect('test1.db')\n",
    "sth = conn.cursor()\n",
    "sth.execute('create table product(pid int,pname Text,pcost int)')"
   ]
  },
  {
   "cell_type": "code",
   "execution_count": 158,
   "id": "c0f73be5-b47f-452f-a9ea-560d7946379b",
   "metadata": {},
   "outputs": [
    {
     "data": {
      "text/plain": [
       "<sqlite3.Cursor at 0x29bb12d5140>"
      ]
     },
     "execution_count": 158,
     "metadata": {},
     "output_type": "execute_result"
    }
   ],
   "source": [
    "sth.execute(\"insert into product(pid,pname,pcost) values(101,'pA',1000)\")"
   ]
  },
  {
   "cell_type": "code",
   "execution_count": 159,
   "id": "e95e2d45-d3df-4f17-b864-6ee828c27e8b",
   "metadata": {},
   "outputs": [
    {
     "data": {
      "text/plain": [
       "<sqlite3.Cursor at 0x29bb12d5140>"
      ]
     },
     "execution_count": 159,
     "metadata": {},
     "output_type": "execute_result"
    }
   ],
   "source": [
    "sth.execute(\"insert into product(pid,pname,pcost) values(102,'pB',2000)\")\n",
    "sth.execute(\"insert into product(pid,pname,pcost) values(103,'pC',3000)\")\n",
    "sth.execute(\"insert into product(pid,pname,pcost) values(104,'pD',4000)\")\n",
    "sth.execute(\"insert into product(pid,pname,pcost) values(105,'pE',5000)\")"
   ]
  },
  {
   "cell_type": "code",
   "execution_count": 160,
   "id": "5e8e5f80-fdb2-4854-97ef-305c3e33b0ee",
   "metadata": {},
   "outputs": [
    {
     "data": {
      "text/plain": [
       "<sqlite3.Cursor at 0x29bb12d5140>"
      ]
     },
     "execution_count": 160,
     "metadata": {},
     "output_type": "execute_result"
    }
   ],
   "source": [
    "va = 106\n",
    "vb = 'pF'\n",
    "vc = 3490\n",
    "sth.execute(\"insert into product(pid,pname,pcost) values(?,?,?)\",(va,vb,vc))"
   ]
  },
  {
   "cell_type": "code",
   "execution_count": 161,
   "id": "60e0e389-8f97-49f3-8fdd-957ebe5fc8a7",
   "metadata": {},
   "outputs": [
    {
     "data": {
      "text/plain": [
       "<sqlite3.Cursor at 0x29bb12d5140>"
      ]
     },
     "execution_count": 161,
     "metadata": {},
     "output_type": "execute_result"
    }
   ],
   "source": [
    "sth.execute('select *from product')"
   ]
  },
  {
   "cell_type": "code",
   "execution_count": 162,
   "id": "db5d455d-86d2-4b08-9fff-1027bb8d5ff3",
   "metadata": {},
   "outputs": [
    {
     "data": {
      "text/plain": [
       "(101, 'pA', 1000)"
      ]
     },
     "execution_count": 162,
     "metadata": {},
     "output_type": "execute_result"
    }
   ],
   "source": [
    "sth.fetchone()"
   ]
  },
  {
   "cell_type": "code",
   "execution_count": 163,
   "id": "bbf77a4e-13bf-4d49-b7d0-0e4ced72e38e",
   "metadata": {},
   "outputs": [
    {
     "data": {
      "text/plain": [
       "(102, 'pB', 2000)"
      ]
     },
     "execution_count": 163,
     "metadata": {},
     "output_type": "execute_result"
    }
   ],
   "source": [
    "sth.fetchone()"
   ]
  },
  {
   "cell_type": "code",
   "execution_count": 164,
   "id": "db7749e5-10a3-42cb-aa0b-64875ba81944",
   "metadata": {},
   "outputs": [
    {
     "data": {
      "text/plain": [
       "(103, 'pC', 3000)"
      ]
     },
     "execution_count": 164,
     "metadata": {},
     "output_type": "execute_result"
    }
   ],
   "source": [
    "sth.fetchone()"
   ]
  },
  {
   "cell_type": "code",
   "execution_count": 165,
   "id": "de0d23d7-1bfb-4469-a8bb-33406758be01",
   "metadata": {},
   "outputs": [
    {
     "data": {
      "text/plain": [
       "(104, 'pD', 4000)"
      ]
     },
     "execution_count": 165,
     "metadata": {},
     "output_type": "execute_result"
    }
   ],
   "source": [
    "sth.fetchone()"
   ]
  },
  {
   "cell_type": "code",
   "execution_count": 166,
   "id": "d301c219-2cc0-404b-a585-1ca5b01d9a51",
   "metadata": {},
   "outputs": [
    {
     "data": {
      "text/plain": [
       "(105, 'pE', 5000)"
      ]
     },
     "execution_count": 166,
     "metadata": {},
     "output_type": "execute_result"
    }
   ],
   "source": [
    "sth.fetchone()"
   ]
  },
  {
   "cell_type": "code",
   "execution_count": 167,
   "id": "4c57e459-fb38-482c-b210-64665587f024",
   "metadata": {},
   "outputs": [
    {
     "data": {
      "text/plain": [
       "[(101, 'pA', 1000),\n",
       " (102, 'pB', 2000),\n",
       " (103, 'pC', 3000),\n",
       " (104, 'pD', 4000),\n",
       " (105, 'pE', 5000),\n",
       " (106, 'pF', 3490)]"
      ]
     },
     "execution_count": 167,
     "metadata": {},
     "output_type": "execute_result"
    }
   ],
   "source": [
    "sth.execute('select *from product')\n",
    "sth.fetchall()"
   ]
  },
  {
   "cell_type": "code",
   "execution_count": 168,
   "id": "94593d59-016f-4516-8ac2-3173b3e3c44c",
   "metadata": {},
   "outputs": [
    {
     "name": "stdout",
     "output_type": "stream",
     "text": [
      "(101, 'pA', 1000)\n",
      "(102, 'pB', 2000)\n",
      "(103, 'pC', 3000)\n",
      "(104, 'pD', 4000)\n",
      "(105, 'pE', 5000)\n",
      "(106, 'pF', 3490)\n"
     ]
    }
   ],
   "source": [
    "sth.execute('select *from product')\n",
    "# apply generator \n",
    "for var in sth:\n",
    "    print(var)"
   ]
  },
  {
   "cell_type": "code",
   "execution_count": 169,
   "id": "4527f8d1-33fa-49e1-985c-52174f2cac1a",
   "metadata": {},
   "outputs": [
    {
     "data": {
      "text/plain": [
       "[(101, 'pA', 1000),\n",
       " (102, 'pB', 2000),\n",
       " (103, 'pC', 3000),\n",
       " (104, 'pD', 4000),\n",
       " (105, 'pE', 5000),\n",
       " (106, 'pF', 3490)]"
      ]
     },
     "execution_count": 169,
     "metadata": {},
     "output_type": "execute_result"
    }
   ],
   "source": [
    "sth.execute('select *from product')\n",
    "list(sth) # generator"
   ]
  },
  {
   "cell_type": "code",
   "execution_count": 170,
   "id": "d198e12a-ac07-4928-99cd-842df821462f",
   "metadata": {},
   "outputs": [],
   "source": [
    "conn.commit() # commit changes"
   ]
  },
  {
   "cell_type": "code",
   "execution_count": 171,
   "id": "3f0fd9de-dfad-4002-8f2e-44dab7f62a40",
   "metadata": {},
   "outputs": [],
   "source": [
    "conn.close() # close the connection"
   ]
  },
  {
   "cell_type": "code",
   "execution_count": 172,
   "id": "02b5b422-fc3c-47ff-880c-18bd1f84ca9d",
   "metadata": {},
   "outputs": [
    {
     "data": {
      "text/plain": [
       "[(101, 'pA', 1000),\n",
       " (102, 'pB', 2000),\n",
       " (103, 'pC', 3000),\n",
       " (104, 'pD', 4000),\n",
       " (105, 'pE', 5000),\n",
       " (106, 'pF', 3490)]"
      ]
     },
     "execution_count": 172,
     "metadata": {},
     "output_type": "execute_result"
    }
   ],
   "source": [
    "conn = sqlite3.connect('test1.db')\n",
    "sth = conn.cursor()\n",
    "sth.execute('select *from product')\n",
    "list(sth)"
   ]
  },
  {
   "cell_type": "code",
   "execution_count": null,
   "id": "415c2605-5df3-4257-93db-12a20bf193a2",
   "metadata": {},
   "outputs": [],
   "source": [
    "# Requests module\n",
    "# -->download webcontent\n",
    "#                 |->response as webpage = <html>+{{data}} \n",
    "#                 |->response as data <--- json\n",
    "import requests\n",
    "requests.get(URL) -> 200 # OK\n",
    "r = requests.get(URL)\n",
    "r.status_code -> 200 \n",
    "|\n",
    "r.headers -> webHeader info - dict//\n",
    "|\n",
    "r.text --> Get the content  \n"
   ]
  },
  {
   "cell_type": "code",
   "execution_count": 173,
   "id": "3820510a-e588-4c78-a5f8-088047922306",
   "metadata": {},
   "outputs": [],
   "source": [
    "URL1 = 'https://www.google.com'\n",
    "URL2 = 'https://api.github.com/users/hadley/orgs'"
   ]
  },
  {
   "cell_type": "code",
   "execution_count": 174,
   "id": "328cd753-5a9b-4b48-ba9d-3b5a71b49879",
   "metadata": {},
   "outputs": [
    {
     "data": {
      "text/plain": [
       "<Response [200]>"
      ]
     },
     "execution_count": 174,
     "metadata": {},
     "output_type": "execute_result"
    }
   ],
   "source": [
    "import requests\n",
    "requests.get(URL1)"
   ]
  },
  {
   "cell_type": "code",
   "execution_count": 175,
   "id": "1c47f8a2-a8ba-41b9-ac23-037af5983d8a",
   "metadata": {},
   "outputs": [
    {
     "data": {
      "text/plain": [
       "<Response [200]>"
      ]
     },
     "execution_count": 175,
     "metadata": {},
     "output_type": "execute_result"
    }
   ],
   "source": [
    "requests.get(URL2)"
   ]
  },
  {
   "cell_type": "code",
   "execution_count": 177,
   "id": "53ed6093-5c78-4f93-bd4c-d89d801aa9bc",
   "metadata": {},
   "outputs": [
    {
     "name": "stdout",
     "output_type": "stream",
     "text": [
      "200 200\n"
     ]
    }
   ],
   "source": [
    "r1 = requests.get(URL1)\n",
    "r2 = requests.get(URL2)\n",
    "print(r1.status_code,r2.status_code)"
   ]
  },
  {
   "cell_type": "code",
   "execution_count": 179,
   "id": "1cad0375-fe36-4a9d-968a-5e0a12f72568",
   "metadata": {},
   "outputs": [
    {
     "data": {
      "text/plain": [
       "'text/html; charset=ISO-8859-1'"
      ]
     },
     "execution_count": 179,
     "metadata": {},
     "output_type": "execute_result"
    }
   ],
   "source": [
    "r1.headers\n",
    "r1.headers['Content-Type']"
   ]
  },
  {
   "cell_type": "code",
   "execution_count": 180,
   "id": "f52b0fa9-5b31-4291-87b1-e44927afa191",
   "metadata": {},
   "outputs": [
    {
     "data": {
      "text/plain": [
       "'application/json; charset=utf-8'"
      ]
     },
     "execution_count": 180,
     "metadata": {},
     "output_type": "execute_result"
    }
   ],
   "source": [
    "r2.headers['Content-Type']"
   ]
  },
  {
   "cell_type": "code",
   "execution_count": 181,
   "id": "d4488b56-9f92-425a-8f1f-4c5e02b4a320",
   "metadata": {},
   "outputs": [
    {
     "name": "stdout",
     "output_type": "stream",
     "text": [
      "<class 'str'> 19196\n"
     ]
    }
   ],
   "source": [
    "google_web_page = r1.text \n",
    "print(type(google_web_page),len(google_web_page))"
   ]
  },
  {
   "cell_type": "code",
   "execution_count": 182,
   "id": "d41e804e-0a43-4e38-8079-2a8653c71fa2",
   "metadata": {},
   "outputs": [],
   "source": [
    "with open('test1.html','w') as wobj:\n",
    "    wobj.write(google_web_page)\n",
    "\n",
    "''' testing purpose '''"
   ]
  },
  {
   "cell_type": "code",
   "execution_count": 184,
   "id": "d3b4c0d0-add0-4f12-9823-2b9fab031653",
   "metadata": {},
   "outputs": [],
   "source": [
    "#print(google_web_page)"
   ]
  },
  {
   "cell_type": "code",
   "execution_count": null,
   "id": "ef82050b-062f-4ec2-b7ca-9e66ea13de7f",
   "metadata": {},
   "outputs": [],
   "source": [
    "bs4 - module\n",
    " |-> web scraping  \n",
    " |-> parse html / xml document and extract the data \n",
    "\n",
    "bs4.BeautifulSoup - className\n",
    "     |->Constructor - webpage  - default parser is html.parser\n",
    "\n",
    "soupObject = bs4.BeautifulSoup(webpage)\n",
    "soupObject.<htmlTagName> -> Value (ex: soupObject.p ->paragraphTag ; \n",
    "                                       soupObject.h1 ->header1Tag ; )\n",
    " <or>\n",
    "soupObject.find(<htmlTagName>) //same as soupObject.<htmlTagName>\n",
    "  Vs\n",
    "soupObject.find_all(<htmlTagName>) -> //list of all inputTag data\n",
    "soupObject.get_text() - Extract all the text"
   ]
  },
  {
   "cell_type": "code",
   "execution_count": 186,
   "id": "04ad1cd1-27d6-4cc2-a226-337663133f5d",
   "metadata": {},
   "outputs": [],
   "source": [
    "import requests\n",
    "URL1 = 'https://www.google.com'\n",
    "r1 = requests.get(URL1)\n",
    "if(r1.status_code != 200):\n",
    "    print(f'URL - {URL1} download is failed')\n",
    "    exit()\n",
    "r1.headers['Content-Type']\n",
    "gpage = r1.text"
   ]
  },
  {
   "cell_type": "code",
   "execution_count": 187,
   "id": "67484c15-089a-425d-854c-a1ef029a17fe",
   "metadata": {},
   "outputs": [],
   "source": [
    "import bs4\n",
    "soupObj = bs4.BeautifulSoup(gpage)\n"
   ]
  },
  {
   "cell_type": "code",
   "execution_count": 188,
   "id": "dfb96735-4947-4b0c-8853-1d83b31612b7",
   "metadata": {},
   "outputs": [
    {
     "data": {
      "text/plain": [
       "<title>Google</title>"
      ]
     },
     "execution_count": 188,
     "metadata": {},
     "output_type": "execute_result"
    }
   ],
   "source": [
    "soupObj.title"
   ]
  },
  {
   "cell_type": "code",
   "execution_count": 189,
   "id": "50573028-b8ee-426a-afe8-78c45b178d5c",
   "metadata": {},
   "outputs": [
    {
     "data": {
      "text/plain": [
       "<p style=\"font-size:8pt;color:#636363\">© 2025 - <a href=\"/intl/en/policies/privacy/\">Privacy</a> - <a href=\"/intl/en/policies/terms/\">Terms</a></p>"
      ]
     },
     "execution_count": 189,
     "metadata": {},
     "output_type": "execute_result"
    }
   ],
   "source": [
    "soupObj.p"
   ]
  },
  {
   "cell_type": "code",
   "execution_count": 190,
   "id": "34a829e2-3c06-4638-919a-b69e639cf486",
   "metadata": {},
   "outputs": [],
   "source": [
    "soupObj.h1"
   ]
  },
  {
   "cell_type": "code",
   "execution_count": 192,
   "id": "9d4734d1-e691-48c4-8f28-b66e31cc2c91",
   "metadata": {},
   "outputs": [],
   "source": [
    "head_info = soupObj.head"
   ]
  },
  {
   "cell_type": "code",
   "execution_count": 193,
   "id": "b718dfd4-22e2-4b72-a3a9-774456d8247d",
   "metadata": {},
   "outputs": [
    {
     "data": {
      "text/plain": [
       "<title>Google</title>"
      ]
     },
     "execution_count": 193,
     "metadata": {},
     "output_type": "execute_result"
    }
   ],
   "source": [
    "soupObj.find('title') # soupObj.title"
   ]
  },
  {
   "cell_type": "code",
   "execution_count": 194,
   "id": "3b4156e1-6ee4-47d1-b715-5ed86ba6be02",
   "metadata": {},
   "outputs": [
    {
     "data": {
      "text/plain": [
       "<p style=\"font-size:8pt;color:#636363\">© 2025 - <a href=\"/intl/en/policies/privacy/\">Privacy</a> - <a href=\"/intl/en/policies/terms/\">Terms</a></p>"
      ]
     },
     "execution_count": 194,
     "metadata": {},
     "output_type": "execute_result"
    }
   ],
   "source": [
    "soupObj.find('p') # soupObj.p"
   ]
  },
  {
   "cell_type": "code",
   "execution_count": null,
   "id": "b560e250-7cbc-492c-94e5-a62dcaca5ece",
   "metadata": {},
   "outputs": [],
   "source": [
    "# soupObj.find('p') # like a dict   <Tag>=<Value> \n",
    "#                                     |->dictKey = Value"
   ]
  },
  {
   "cell_type": "code",
   "execution_count": 197,
   "id": "b9ffe0c0-22a1-4bb2-97a9-9c1a1ca898ee",
   "metadata": {},
   "outputs": [
    {
     "data": {
      "text/plain": [
       "'V1'"
      ]
     },
     "execution_count": 197,
     "metadata": {},
     "output_type": "execute_result"
    }
   ],
   "source": [
    "d={'K1':'V1'}\n",
    "d['K1']\n",
    "# d['Kx']  -> KeyError: 'Kx'"
   ]
  },
  {
   "cell_type": "code",
   "execution_count": 199,
   "id": "ad2af957-816d-4768-8c7c-61d4f342e1fb",
   "metadata": {},
   "outputs": [
    {
     "name": "stdout",
     "output_type": "stream",
     "text": [
      "V1\n",
      "None\n"
     ]
    }
   ],
   "source": [
    "# dictName.get('inputKey') ->Value / None  Vs  dictName['InputKey'] ->Value/KeyError\n",
    "print(d.get('K1'))\n",
    "print(d.get('Kx'))"
   ]
  },
  {
   "cell_type": "code",
   "execution_count": 200,
   "id": "fd3281b8-47de-45a6-836e-cf4e40d76526",
   "metadata": {},
   "outputs": [
    {
     "data": {
      "text/plain": [
       "'font-size:8pt;color:#636363'"
      ]
     },
     "execution_count": 200,
     "metadata": {},
     "output_type": "execute_result"
    }
   ],
   "source": [
    "soupObj.find('p')['style']"
   ]
  },
  {
   "cell_type": "code",
   "execution_count": 201,
   "id": "926561ca-c929-49ec-9a67-2c7f7695c481",
   "metadata": {},
   "outputs": [
    {
     "data": {
      "text/plain": [
       "'font-size:8pt;color:#636363'"
      ]
     },
     "execution_count": 201,
     "metadata": {},
     "output_type": "execute_result"
    }
   ],
   "source": [
    "soupObj.find('p').get('style')"
   ]
  },
  {
   "cell_type": "code",
   "execution_count": 203,
   "id": "bc8286af-b3dd-4091-a333-7f88e1067225",
   "metadata": {},
   "outputs": [
    {
     "data": {
      "text/plain": [
       "'© 2025 - Privacy - Terms'"
      ]
     },
     "execution_count": 203,
     "metadata": {},
     "output_type": "execute_result"
    }
   ],
   "source": [
    "soupObj.find('p').text"
   ]
  },
  {
   "cell_type": "code",
   "execution_count": 205,
   "id": "8b2c9288-9b04-4ccf-ae70-d3f3de095c5d",
   "metadata": {},
   "outputs": [
    {
     "data": {
      "text/plain": [
       "'Google'"
      ]
     },
     "execution_count": 205,
     "metadata": {},
     "output_type": "execute_result"
    }
   ],
   "source": [
    "soupObj.title.text"
   ]
  },
  {
   "cell_type": "code",
   "execution_count": 206,
   "id": "92b45b03-309b-417e-978d-52b2241b0322",
   "metadata": {},
   "outputs": [
    {
     "data": {
      "text/plain": [
       "'Search Images Maps Play YouTube News Gmail Drive More »Web History | Settings | Sign in\\xa0Advanced searchGoogle offered in:  हिन्दी বাংলা తెలుగు मराठी தமிழ் ગુજરાતી ಕನ್ನಡ മലയാളം ਪੰਜਾਬੀ AdvertisingBusiness SolutionsAbout GoogleGoogle.co.in© 2025 - Privacy - Terms'"
      ]
     },
     "execution_count": 206,
     "metadata": {},
     "output_type": "execute_result"
    }
   ],
   "source": [
    "soupObj.body.text"
   ]
  },
  {
   "cell_type": "code",
   "execution_count": 207,
   "id": "d54d0a49-aba9-4a06-b863-d88b9047639c",
   "metadata": {},
   "outputs": [
    {
     "data": {
      "text/plain": [
       "<p style=\"font-size:8pt;color:#636363\">© 2025 - <a href=\"/intl/en/policies/privacy/\">Privacy</a> - <a href=\"/intl/en/policies/terms/\">Terms</a></p>"
      ]
     },
     "execution_count": 207,
     "metadata": {},
     "output_type": "execute_result"
    }
   ],
   "source": [
    "soupObj.find('p')"
   ]
  },
  {
   "cell_type": "code",
   "execution_count": 208,
   "id": "2cb2b23e-c5ad-4334-b770-ac60c1ce26e3",
   "metadata": {},
   "outputs": [
    {
     "data": {
      "text/plain": [
       "[<p style=\"font-size:8pt;color:#636363\">© 2025 - <a href=\"/intl/en/policies/privacy/\">Privacy</a> - <a href=\"/intl/en/policies/terms/\">Terms</a></p>]"
      ]
     },
     "execution_count": 208,
     "metadata": {},
     "output_type": "execute_result"
    }
   ],
   "source": [
    "soupObj.find_all('p')"
   ]
  },
  {
   "cell_type": "code",
   "execution_count": 209,
   "id": "3323cf58-5852-476a-8918-8306fd13f075",
   "metadata": {},
   "outputs": [
    {
     "data": {
      "text/plain": [
       "'GoogleSearch Images Maps Play YouTube News Gmail Drive More »Web History | Settings | Sign in\\xa0Advanced searchGoogle offered in:  हिन्दी বাংলা తెలుగు मराठी தமிழ் ગુજરાતી ಕನ್ನಡ മലയാളം ਪੰਜਾਬੀ AdvertisingBusiness SolutionsAbout GoogleGoogle.co.in© 2025 - Privacy - Terms'"
      ]
     },
     "execution_count": 209,
     "metadata": {},
     "output_type": "execute_result"
    }
   ],
   "source": [
    "soupObj.get_text() # soupObj.body.text "
   ]
  },
  {
   "cell_type": "code",
   "execution_count": 210,
   "id": "33e10ecd-e507-46c4-bf2c-ed3420121ed7",
   "metadata": {},
   "outputs": [
    {
     "data": {
      "text/plain": [
       "[<p style=\"font-size:8pt;color:#636363\">© 2025 - <a href=\"/intl/en/policies/privacy/\">Privacy</a> - <a href=\"/intl/en/policies/terms/\">Terms</a></p>]"
      ]
     },
     "execution_count": 210,
     "metadata": {},
     "output_type": "execute_result"
    }
   ],
   "source": [
    "soupObj.find_all('p')"
   ]
  },
  {
   "cell_type": "code",
   "execution_count": 211,
   "id": "d00e90fe-82ba-4bbb-806a-220c5ceb846a",
   "metadata": {},
   "outputs": [
    {
     "data": {
      "text/plain": [
       "<a class=\"gb1\" href=\"https://www.google.com/imghp?hl=en&amp;tab=wi\">Images</a>"
      ]
     },
     "execution_count": 211,
     "metadata": {},
     "output_type": "execute_result"
    }
   ],
   "source": [
    "soupObj.find('a')"
   ]
  },
  {
   "cell_type": "code",
   "execution_count": 212,
   "id": "fb11aadd-868e-49e2-89a8-2f2ab5c6d0a9",
   "metadata": {},
   "outputs": [
    {
     "data": {
      "text/plain": [
       "[<a class=\"gb1\" href=\"https://www.google.com/imghp?hl=en&amp;tab=wi\">Images</a>,\n",
       " <a class=\"gb1\" href=\"https://maps.google.co.in/maps?hl=en&amp;tab=wl\">Maps</a>,\n",
       " <a class=\"gb1\" href=\"https://play.google.com/?hl=en&amp;tab=w8\">Play</a>,\n",
       " <a class=\"gb1\" href=\"https://www.youtube.com/?tab=w1\">YouTube</a>,\n",
       " <a class=\"gb1\" href=\"https://news.google.com/?tab=wn\">News</a>,\n",
       " <a class=\"gb1\" href=\"https://mail.google.com/mail/?tab=wm\">Gmail</a>,\n",
       " <a class=\"gb1\" href=\"https://drive.google.com/?tab=wo\">Drive</a>,\n",
       " <a class=\"gb1\" href=\"https://www.google.co.in/intl/en/about/products?tab=wh\" style=\"text-decoration:none\"><u>More</u> »</a>,\n",
       " <a class=\"gb4\" href=\"http://www.google.co.in/history/optout?hl=en\">Web History</a>,\n",
       " <a class=\"gb4\" href=\"/preferences?hl=en\">Settings</a>,\n",
       " <a class=\"gb4\" href=\"https://accounts.google.com/ServiceLogin?hl=en&amp;passive=true&amp;continue=https://www.google.com/&amp;ec=GAZAAQ\" id=\"gb_70\" target=\"_top\">Sign in</a>,\n",
       " <a href=\"/advanced_search?hl=en-IN&amp;authuser=0\">Advanced search</a>,\n",
       " <a href=\"https://www.google.com/setprefs?sig=0_gdycJoLm1PbO_kfzhlXgs1ne-VM%3D&amp;hl=hi&amp;source=homepage&amp;sa=X&amp;ved=0ahUKEwiKofKjudCPAxUmP7kGHTBWHW8Q2ZgBCAY\">हिन्दी</a>,\n",
       " <a href=\"https://www.google.com/setprefs?sig=0_gdycJoLm1PbO_kfzhlXgs1ne-VM%3D&amp;hl=bn&amp;source=homepage&amp;sa=X&amp;ved=0ahUKEwiKofKjudCPAxUmP7kGHTBWHW8Q2ZgBCAc\">বাংলা</a>,\n",
       " <a href=\"https://www.google.com/setprefs?sig=0_gdycJoLm1PbO_kfzhlXgs1ne-VM%3D&amp;hl=te&amp;source=homepage&amp;sa=X&amp;ved=0ahUKEwiKofKjudCPAxUmP7kGHTBWHW8Q2ZgBCAg\">తెలుగు</a>,\n",
       " <a href=\"https://www.google.com/setprefs?sig=0_gdycJoLm1PbO_kfzhlXgs1ne-VM%3D&amp;hl=mr&amp;source=homepage&amp;sa=X&amp;ved=0ahUKEwiKofKjudCPAxUmP7kGHTBWHW8Q2ZgBCAk\">मराठी</a>,\n",
       " <a href=\"https://www.google.com/setprefs?sig=0_gdycJoLm1PbO_kfzhlXgs1ne-VM%3D&amp;hl=ta&amp;source=homepage&amp;sa=X&amp;ved=0ahUKEwiKofKjudCPAxUmP7kGHTBWHW8Q2ZgBCAo\">தமிழ்</a>,\n",
       " <a href=\"https://www.google.com/setprefs?sig=0_gdycJoLm1PbO_kfzhlXgs1ne-VM%3D&amp;hl=gu&amp;source=homepage&amp;sa=X&amp;ved=0ahUKEwiKofKjudCPAxUmP7kGHTBWHW8Q2ZgBCAs\">ગુજરાતી</a>,\n",
       " <a href=\"https://www.google.com/setprefs?sig=0_gdycJoLm1PbO_kfzhlXgs1ne-VM%3D&amp;hl=kn&amp;source=homepage&amp;sa=X&amp;ved=0ahUKEwiKofKjudCPAxUmP7kGHTBWHW8Q2ZgBCAw\">ಕನ್ನಡ</a>,\n",
       " <a href=\"https://www.google.com/setprefs?sig=0_gdycJoLm1PbO_kfzhlXgs1ne-VM%3D&amp;hl=ml&amp;source=homepage&amp;sa=X&amp;ved=0ahUKEwiKofKjudCPAxUmP7kGHTBWHW8Q2ZgBCA0\">മലയാളം</a>,\n",
       " <a href=\"https://www.google.com/setprefs?sig=0_gdycJoLm1PbO_kfzhlXgs1ne-VM%3D&amp;hl=pa&amp;source=homepage&amp;sa=X&amp;ved=0ahUKEwiKofKjudCPAxUmP7kGHTBWHW8Q2ZgBCA4\">ਪੰਜਾਬੀ</a>,\n",
       " <a href=\"/intl/en/ads/\">Advertising</a>,\n",
       " <a href=\"http://www.google.co.in/services/\">Business Solutions</a>,\n",
       " <a href=\"/intl/en/about.html\">About Google</a>,\n",
       " <a href=\"https://www.google.com/setprefdomain?prefdom=IN&amp;prev=https://www.google.co.in/&amp;sig=K_1ibo2GagxxYN4HnbCWS0x7bAki4%3D\">Google.co.in</a>,\n",
       " <a href=\"/intl/en/policies/privacy/\">Privacy</a>,\n",
       " <a href=\"/intl/en/policies/terms/\">Terms</a>]"
      ]
     },
     "execution_count": 212,
     "metadata": {},
     "output_type": "execute_result"
    }
   ],
   "source": [
    "soupObj.find_all('a')"
   ]
  },
  {
   "cell_type": "code",
   "execution_count": 213,
   "id": "1b2408b0-ca42-4f54-93d0-feb13a683196",
   "metadata": {},
   "outputs": [
    {
     "data": {
      "text/plain": [
       "<a class=\"gb1\" href=\"https://www.google.com/imghp?hl=en&amp;tab=wi\">Images</a>"
      ]
     },
     "execution_count": 213,
     "metadata": {},
     "output_type": "execute_result"
    }
   ],
   "source": [
    "soupObj.find_all('a')[0]"
   ]
  },
  {
   "cell_type": "code",
   "execution_count": 214,
   "id": "d923e5b9-e621-4f7e-9e59-893843747bee",
   "metadata": {},
   "outputs": [
    {
     "data": {
      "text/plain": [
       "'https://www.google.com/imghp?hl=en&tab=wi'"
      ]
     },
     "execution_count": 214,
     "metadata": {},
     "output_type": "execute_result"
    }
   ],
   "source": [
    "soupObj.find_all('a')[0]['href']"
   ]
  },
  {
   "cell_type": "code",
   "execution_count": 217,
   "id": "3a61882a-cf0d-4b76-940a-e2d37c8d938d",
   "metadata": {},
   "outputs": [
    {
     "data": {
      "text/plain": [
       "'Images'"
      ]
     },
     "execution_count": 217,
     "metadata": {},
     "output_type": "execute_result"
    }
   ],
   "source": [
    "soupObj.find_all('a')[0].text"
   ]
  },
  {
   "cell_type": "code",
   "execution_count": 218,
   "id": "4886257c-b385-4fc6-8ed6-99a15f1c6c06",
   "metadata": {},
   "outputs": [
    {
     "name": "stdout",
     "output_type": "stream",
     "text": [
      "https://www.google.com/imghp?hl=en&tab=wi\n",
      "https://maps.google.co.in/maps?hl=en&tab=wl\n",
      "https://play.google.com/?hl=en&tab=w8\n",
      "https://www.youtube.com/?tab=w1\n",
      "https://news.google.com/?tab=wn\n",
      "https://mail.google.com/mail/?tab=wm\n",
      "https://drive.google.com/?tab=wo\n",
      "https://www.google.co.in/intl/en/about/products?tab=wh\n",
      "http://www.google.co.in/history/optout?hl=en\n",
      "/preferences?hl=en\n",
      "https://accounts.google.com/ServiceLogin?hl=en&passive=true&continue=https://www.google.com/&ec=GAZAAQ\n",
      "/advanced_search?hl=en-IN&authuser=0\n",
      "https://www.google.com/setprefs?sig=0_gdycJoLm1PbO_kfzhlXgs1ne-VM%3D&hl=hi&source=homepage&sa=X&ved=0ahUKEwiKofKjudCPAxUmP7kGHTBWHW8Q2ZgBCAY\n",
      "https://www.google.com/setprefs?sig=0_gdycJoLm1PbO_kfzhlXgs1ne-VM%3D&hl=bn&source=homepage&sa=X&ved=0ahUKEwiKofKjudCPAxUmP7kGHTBWHW8Q2ZgBCAc\n",
      "https://www.google.com/setprefs?sig=0_gdycJoLm1PbO_kfzhlXgs1ne-VM%3D&hl=te&source=homepage&sa=X&ved=0ahUKEwiKofKjudCPAxUmP7kGHTBWHW8Q2ZgBCAg\n",
      "https://www.google.com/setprefs?sig=0_gdycJoLm1PbO_kfzhlXgs1ne-VM%3D&hl=mr&source=homepage&sa=X&ved=0ahUKEwiKofKjudCPAxUmP7kGHTBWHW8Q2ZgBCAk\n",
      "https://www.google.com/setprefs?sig=0_gdycJoLm1PbO_kfzhlXgs1ne-VM%3D&hl=ta&source=homepage&sa=X&ved=0ahUKEwiKofKjudCPAxUmP7kGHTBWHW8Q2ZgBCAo\n",
      "https://www.google.com/setprefs?sig=0_gdycJoLm1PbO_kfzhlXgs1ne-VM%3D&hl=gu&source=homepage&sa=X&ved=0ahUKEwiKofKjudCPAxUmP7kGHTBWHW8Q2ZgBCAs\n",
      "https://www.google.com/setprefs?sig=0_gdycJoLm1PbO_kfzhlXgs1ne-VM%3D&hl=kn&source=homepage&sa=X&ved=0ahUKEwiKofKjudCPAxUmP7kGHTBWHW8Q2ZgBCAw\n",
      "https://www.google.com/setprefs?sig=0_gdycJoLm1PbO_kfzhlXgs1ne-VM%3D&hl=ml&source=homepage&sa=X&ved=0ahUKEwiKofKjudCPAxUmP7kGHTBWHW8Q2ZgBCA0\n",
      "https://www.google.com/setprefs?sig=0_gdycJoLm1PbO_kfzhlXgs1ne-VM%3D&hl=pa&source=homepage&sa=X&ved=0ahUKEwiKofKjudCPAxUmP7kGHTBWHW8Q2ZgBCA4\n",
      "/intl/en/ads/\n",
      "http://www.google.co.in/services/\n",
      "/intl/en/about.html\n",
      "https://www.google.com/setprefdomain?prefdom=IN&prev=https://www.google.co.in/&sig=K_1ibo2GagxxYN4HnbCWS0x7bAki4%3D\n",
      "/intl/en/policies/privacy/\n",
      "/intl/en/policies/terms/\n"
     ]
    }
   ],
   "source": [
    "for var in soupObj.find_all('a'):\n",
    "    print(var.get('href'))"
   ]
  },
  {
   "cell_type": "code",
   "execution_count": 219,
   "id": "8f11fdec-1fd6-4d06-9f6b-6e65ab8588d3",
   "metadata": {},
   "outputs": [],
   "source": [
    "gURLs=[]\n",
    "for var in soupObj.find_all('a'):\n",
    "    gURLs.append(var.get('href'))"
   ]
  },
  {
   "cell_type": "code",
   "execution_count": 220,
   "id": "813c9189-c2bf-493c-bb59-c40bd420a2e5",
   "metadata": {},
   "outputs": [
    {
     "data": {
      "text/plain": [
       "27"
      ]
     },
     "execution_count": 220,
     "metadata": {},
     "output_type": "execute_result"
    }
   ],
   "source": [
    "len(gURLs)"
   ]
  },
  {
   "cell_type": "code",
   "execution_count": 221,
   "id": "8460e04a-4ee1-421e-8259-697d72f6c246",
   "metadata": {},
   "outputs": [
    {
     "data": {
      "text/plain": [
       "{'Google': ['https://www.google.com/imghp?hl=en&tab=wi',\n",
       "  'https://maps.google.co.in/maps?hl=en&tab=wl',\n",
       "  'https://play.google.com/?hl=en&tab=w8',\n",
       "  'https://www.youtube.com/?tab=w1',\n",
       "  'https://news.google.com/?tab=wn',\n",
       "  'https://mail.google.com/mail/?tab=wm',\n",
       "  'https://drive.google.com/?tab=wo',\n",
       "  'https://www.google.co.in/intl/en/about/products?tab=wh',\n",
       "  'http://www.google.co.in/history/optout?hl=en',\n",
       "  '/preferences?hl=en',\n",
       "  'https://accounts.google.com/ServiceLogin?hl=en&passive=true&continue=https://www.google.com/&ec=GAZAAQ',\n",
       "  '/advanced_search?hl=en-IN&authuser=0',\n",
       "  'https://www.google.com/setprefs?sig=0_gdycJoLm1PbO_kfzhlXgs1ne-VM%3D&hl=hi&source=homepage&sa=X&ved=0ahUKEwiKofKjudCPAxUmP7kGHTBWHW8Q2ZgBCAY',\n",
       "  'https://www.google.com/setprefs?sig=0_gdycJoLm1PbO_kfzhlXgs1ne-VM%3D&hl=bn&source=homepage&sa=X&ved=0ahUKEwiKofKjudCPAxUmP7kGHTBWHW8Q2ZgBCAc',\n",
       "  'https://www.google.com/setprefs?sig=0_gdycJoLm1PbO_kfzhlXgs1ne-VM%3D&hl=te&source=homepage&sa=X&ved=0ahUKEwiKofKjudCPAxUmP7kGHTBWHW8Q2ZgBCAg',\n",
       "  'https://www.google.com/setprefs?sig=0_gdycJoLm1PbO_kfzhlXgs1ne-VM%3D&hl=mr&source=homepage&sa=X&ved=0ahUKEwiKofKjudCPAxUmP7kGHTBWHW8Q2ZgBCAk',\n",
       "  'https://www.google.com/setprefs?sig=0_gdycJoLm1PbO_kfzhlXgs1ne-VM%3D&hl=ta&source=homepage&sa=X&ved=0ahUKEwiKofKjudCPAxUmP7kGHTBWHW8Q2ZgBCAo',\n",
       "  'https://www.google.com/setprefs?sig=0_gdycJoLm1PbO_kfzhlXgs1ne-VM%3D&hl=gu&source=homepage&sa=X&ved=0ahUKEwiKofKjudCPAxUmP7kGHTBWHW8Q2ZgBCAs',\n",
       "  'https://www.google.com/setprefs?sig=0_gdycJoLm1PbO_kfzhlXgs1ne-VM%3D&hl=kn&source=homepage&sa=X&ved=0ahUKEwiKofKjudCPAxUmP7kGHTBWHW8Q2ZgBCAw',\n",
       "  'https://www.google.com/setprefs?sig=0_gdycJoLm1PbO_kfzhlXgs1ne-VM%3D&hl=ml&source=homepage&sa=X&ved=0ahUKEwiKofKjudCPAxUmP7kGHTBWHW8Q2ZgBCA0',\n",
       "  'https://www.google.com/setprefs?sig=0_gdycJoLm1PbO_kfzhlXgs1ne-VM%3D&hl=pa&source=homepage&sa=X&ved=0ahUKEwiKofKjudCPAxUmP7kGHTBWHW8Q2ZgBCA4',\n",
       "  '/intl/en/ads/',\n",
       "  'http://www.google.co.in/services/',\n",
       "  '/intl/en/about.html',\n",
       "  'https://www.google.com/setprefdomain?prefdom=IN&prev=https://www.google.co.in/&sig=K_1ibo2GagxxYN4HnbCWS0x7bAki4%3D',\n",
       "  '/intl/en/policies/privacy/',\n",
       "  '/intl/en/policies/terms/']}"
      ]
     },
     "execution_count": 221,
     "metadata": {},
     "output_type": "execute_result"
    }
   ],
   "source": [
    "d={}\n",
    "d['Google'] = gURLs \n",
    "# d['Python'] = pURLs\n",
    "# d['aws'] = aURLs\n",
    "d"
   ]
  },
  {
   "cell_type": "code",
   "execution_count": 223,
   "id": "d463ac12-19ce-41de-93d6-2fa81bd9bb44",
   "metadata": {},
   "outputs": [
    {
     "name": "stdout",
     "output_type": "stream",
     "text": [
      "<a class=\"gb1\" href=\"https://www.google.com/imghp?hl=en&amp;tab=wi\">Images</a> Images\n",
      "<a class=\"gb1\" href=\"https://maps.google.co.in/maps?hl=en&amp;tab=wl\">Maps</a> Maps\n",
      "<a class=\"gb1\" href=\"https://play.google.com/?hl=en&amp;tab=w8\">Play</a> Play\n",
      "<a class=\"gb1\" href=\"https://www.youtube.com/?tab=w1\">YouTube</a> YouTube\n",
      "<a class=\"gb1\" href=\"https://news.google.com/?tab=wn\">News</a> News\n",
      "<a class=\"gb1\" href=\"https://mail.google.com/mail/?tab=wm\">Gmail</a> Gmail\n",
      "<a class=\"gb1\" href=\"https://drive.google.com/?tab=wo\">Drive</a> Drive\n",
      "<a class=\"gb1\" href=\"https://www.google.co.in/intl/en/about/products?tab=wh\" style=\"text-decoration:none\"><u>More</u> »</a> More »\n",
      "<a class=\"gb4\" href=\"http://www.google.co.in/history/optout?hl=en\">Web History</a> Web History\n",
      "<a class=\"gb4\" href=\"/preferences?hl=en\">Settings</a> Settings\n",
      "<a class=\"gb4\" href=\"https://accounts.google.com/ServiceLogin?hl=en&amp;passive=true&amp;continue=https://www.google.com/&amp;ec=GAZAAQ\" id=\"gb_70\" target=\"_top\">Sign in</a> Sign in\n",
      "<a href=\"/advanced_search?hl=en-IN&amp;authuser=0\">Advanced search</a> Advanced search\n",
      "<a href=\"https://www.google.com/setprefs?sig=0_gdycJoLm1PbO_kfzhlXgs1ne-VM%3D&amp;hl=hi&amp;source=homepage&amp;sa=X&amp;ved=0ahUKEwiKofKjudCPAxUmP7kGHTBWHW8Q2ZgBCAY\">हिन्दी</a> हिन्दी\n",
      "<a href=\"https://www.google.com/setprefs?sig=0_gdycJoLm1PbO_kfzhlXgs1ne-VM%3D&amp;hl=bn&amp;source=homepage&amp;sa=X&amp;ved=0ahUKEwiKofKjudCPAxUmP7kGHTBWHW8Q2ZgBCAc\">বাংলা</a> বাংলা\n",
      "<a href=\"https://www.google.com/setprefs?sig=0_gdycJoLm1PbO_kfzhlXgs1ne-VM%3D&amp;hl=te&amp;source=homepage&amp;sa=X&amp;ved=0ahUKEwiKofKjudCPAxUmP7kGHTBWHW8Q2ZgBCAg\">తెలుగు</a> తెలుగు\n",
      "<a href=\"https://www.google.com/setprefs?sig=0_gdycJoLm1PbO_kfzhlXgs1ne-VM%3D&amp;hl=mr&amp;source=homepage&amp;sa=X&amp;ved=0ahUKEwiKofKjudCPAxUmP7kGHTBWHW8Q2ZgBCAk\">मराठी</a> मराठी\n",
      "<a href=\"https://www.google.com/setprefs?sig=0_gdycJoLm1PbO_kfzhlXgs1ne-VM%3D&amp;hl=ta&amp;source=homepage&amp;sa=X&amp;ved=0ahUKEwiKofKjudCPAxUmP7kGHTBWHW8Q2ZgBCAo\">தமிழ்</a> தமிழ்\n",
      "<a href=\"https://www.google.com/setprefs?sig=0_gdycJoLm1PbO_kfzhlXgs1ne-VM%3D&amp;hl=gu&amp;source=homepage&amp;sa=X&amp;ved=0ahUKEwiKofKjudCPAxUmP7kGHTBWHW8Q2ZgBCAs\">ગુજરાતી</a> ગુજરાતી\n",
      "<a href=\"https://www.google.com/setprefs?sig=0_gdycJoLm1PbO_kfzhlXgs1ne-VM%3D&amp;hl=kn&amp;source=homepage&amp;sa=X&amp;ved=0ahUKEwiKofKjudCPAxUmP7kGHTBWHW8Q2ZgBCAw\">ಕನ್ನಡ</a> ಕನ್ನಡ\n",
      "<a href=\"https://www.google.com/setprefs?sig=0_gdycJoLm1PbO_kfzhlXgs1ne-VM%3D&amp;hl=ml&amp;source=homepage&amp;sa=X&amp;ved=0ahUKEwiKofKjudCPAxUmP7kGHTBWHW8Q2ZgBCA0\">മലയാളം</a> മലയാളം\n",
      "<a href=\"https://www.google.com/setprefs?sig=0_gdycJoLm1PbO_kfzhlXgs1ne-VM%3D&amp;hl=pa&amp;source=homepage&amp;sa=X&amp;ved=0ahUKEwiKofKjudCPAxUmP7kGHTBWHW8Q2ZgBCA4\">ਪੰਜਾਬੀ</a> ਪੰਜਾਬੀ\n",
      "<a href=\"/intl/en/ads/\">Advertising</a> Advertising\n",
      "<a href=\"http://www.google.co.in/services/\">Business Solutions</a> Business Solutions\n",
      "<a href=\"/intl/en/about.html\">About Google</a> About Google\n",
      "<a href=\"https://www.google.com/setprefdomain?prefdom=IN&amp;prev=https://www.google.co.in/&amp;sig=K_1ibo2GagxxYN4HnbCWS0x7bAki4%3D\">Google.co.in</a> Google.co.in\n",
      "<a href=\"/intl/en/policies/privacy/\">Privacy</a> Privacy\n",
      "<a href=\"/intl/en/policies/terms/\">Terms</a> Terms\n"
     ]
    }
   ],
   "source": [
    "for var in soupObj.find_all('a'):\n",
    "    print(var,var.text)"
   ]
  },
  {
   "cell_type": "code",
   "execution_count": 227,
   "id": "287381a4-bf99-4c24-a8da-e4ac5330ab3f",
   "metadata": {},
   "outputs": [
    {
     "name": "stdout",
     "output_type": "stream",
     "text": [
      "<tr valign=\"top\"><td width=\"25%\"> </td><td align=\"center\" nowrap=\"\"><input name=\"ie\" type=\"hidden\" value=\"ISO-8859-1\"/><input name=\"hl\" type=\"hidden\" value=\"en-IN\"/><input name=\"source\" type=\"hidden\" value=\"hp\"/><input name=\"biw\" type=\"hidden\"/><input name=\"bih\" type=\"hidden\"/><div class=\"ds\" style=\"height:32px;margin:4px 0\"><input autocomplete=\"off\" class=\"lst\" maxlength=\"2048\" name=\"q\" size=\"57\" style=\"margin:0;padding:5px 8px 0 6px;vertical-align:top;color:#1f1f1f\" title=\"Google Search\" value=\"\"/></div><br style=\"line-height:0\"/><span class=\"ds\"><span class=\"lsbb\"><input class=\"lsb\" name=\"btnG\" type=\"submit\" value=\"Google Search\"/></span></span><span class=\"ds\"><span class=\"lsbb\"><input class=\"lsb\" id=\"tsuid_SZ3CaMrYBab-5OUPsKz1-AY_1\" name=\"btnI\" type=\"submit\" value=\"I'm Feeling Lucky\"/><script nonce=\"XPfiKqHYsOQ2Ai9FvoEd_w\">(function(){var id='tsuid_SZ3CaMrYBab-5OUPsKz1-AY_1';document.getElementById(id).onclick = function(){if (this.form.q.value){this.checked = 1;if (this.form.iflsig)this.form.iflsig.disabled = false;}\n",
      "else top.location='/doodles/';};})();</script><input name=\"iflsig\" type=\"hidden\" value=\"AOw8s4IAAAAAaMKrWYqt1vOPqQvcA5TadWVojeWtp7vW\"/></span></span></td><td align=\"left\" class=\"fl sblc\" nowrap=\"\" width=\"25%\"><a href=\"/advanced_search?hl=en-IN&amp;authuser=0\">Advanced search</a></td></tr>\n",
      " Advanced search\n",
      "--\n",
      "\n",
      "<td width=\"25%\"> </td>\n",
      " \n",
      "--\n",
      "\n",
      "<td align=\"center\" nowrap=\"\"><input name=\"ie\" type=\"hidden\" value=\"ISO-8859-1\"/><input name=\"hl\" type=\"hidden\" value=\"en-IN\"/><input name=\"source\" type=\"hidden\" value=\"hp\"/><input name=\"biw\" type=\"hidden\"/><input name=\"bih\" type=\"hidden\"/><div class=\"ds\" style=\"height:32px;margin:4px 0\"><input autocomplete=\"off\" class=\"lst\" maxlength=\"2048\" name=\"q\" size=\"57\" style=\"margin:0;padding:5px 8px 0 6px;vertical-align:top;color:#1f1f1f\" title=\"Google Search\" value=\"\"/></div><br style=\"line-height:0\"/><span class=\"ds\"><span class=\"lsbb\"><input class=\"lsb\" name=\"btnG\" type=\"submit\" value=\"Google Search\"/></span></span><span class=\"ds\"><span class=\"lsbb\"><input class=\"lsb\" id=\"tsuid_SZ3CaMrYBab-5OUPsKz1-AY_1\" name=\"btnI\" type=\"submit\" value=\"I'm Feeling Lucky\"/><script nonce=\"XPfiKqHYsOQ2Ai9FvoEd_w\">(function(){var id='tsuid_SZ3CaMrYBab-5OUPsKz1-AY_1';document.getElementById(id).onclick = function(){if (this.form.q.value){this.checked = 1;if (this.form.iflsig)this.form.iflsig.disabled = false;}\n",
      "else top.location='/doodles/';};})();</script><input name=\"iflsig\" type=\"hidden\" value=\"AOw8s4IAAAAAaMKrWYqt1vOPqQvcA5TadWVojeWtp7vW\"/></span></span></td>\n",
      "\n",
      "--\n",
      "\n",
      "<td align=\"left\" class=\"fl sblc\" nowrap=\"\" width=\"25%\"><a href=\"/advanced_search?hl=en-IN&amp;authuser=0\">Advanced search</a></td>\n",
      "Advanced search\n",
      "--\n",
      "\n",
      "<p style=\"font-size:8pt;color:#636363\">© 2025 - <a href=\"/intl/en/policies/privacy/\">Privacy</a> - <a href=\"/intl/en/policies/terms/\">Terms</a></p>\n",
      "© 2025 - Privacy - Terms\n",
      "--\n",
      "\n"
     ]
    }
   ],
   "source": [
    "for var in soupObj.find_all(['p','tr','td']):\n",
    "    print(f'{var}\\n{var.text}\\n--\\n')"
   ]
  },
  {
   "cell_type": "code",
   "execution_count": 229,
   "id": "940e7663-8908-4bb5-b834-d71812a4fae2",
   "metadata": {},
   "outputs": [
    {
     "data": {
      "text/plain": [
       "'text/html; charset=utf-8'"
      ]
     },
     "execution_count": 229,
     "metadata": {},
     "output_type": "execute_result"
    }
   ],
   "source": [
    "requests.get('https://www.python.org').headers['Content-Type']"
   ]
  },
  {
   "cell_type": "code",
   "execution_count": 230,
   "id": "e5b9cdb4-4408-46a5-b23e-1999480312e9",
   "metadata": {},
   "outputs": [
    {
     "data": {
      "text/plain": [
       "<title>Welcome to Python.org</title>"
      ]
     },
     "execution_count": 230,
     "metadata": {},
     "output_type": "execute_result"
    }
   ],
   "source": [
    "pSoup = bs4.BeautifulSoup(requests.get('https://www.python.org').text)\n",
    "pSoup.title"
   ]
  },
  {
   "cell_type": "code",
   "execution_count": 234,
   "id": "977d44e9-e6b5-4db2-b1e9-4bbe12db4a43",
   "metadata": {},
   "outputs": [
    {
     "name": "stdout",
     "output_type": "stream",
     "text": [
      "\n",
      "\n",
      "\n",
      "Functions Defined\n",
      "Compound Data Types\n",
      "Intuitive Interpretation\n",
      "All the Flow You’d Expect\n",
      "Quick & Easy to Learn\n",
      "Get Started\n",
      "Download\n",
      "Docs\n",
      "Jobs\n",
      "Latest News\n",
      "Upcoming Events\n",
      "Success Stories\n",
      "Use Python for…\n",
      "\n",
      ">>> Python Software Foundation\n",
      "\n"
     ]
    }
   ],
   "source": [
    "for var in pSoup.find_all(['h1','h2','h3']):\n",
    "    print(var.text)"
   ]
  },
  {
   "cell_type": "code",
   "execution_count": 236,
   "id": "20a4bb9f-cfde-4309-b752-74b9ffb5a309",
   "metadata": {},
   "outputs": [
    {
     "data": {
      "text/plain": [
       "['',\n",
       " 'Functions Defined',\n",
       " 'Compound Data Types',\n",
       " 'Intuitive Interpretation',\n",
       " 'All the Flow You’d Expect',\n",
       " 'Quick & Easy to Learn',\n",
       " 'Get Started',\n",
       " 'Download',\n",
       " 'Docs',\n",
       " 'Jobs',\n",
       " 'Latest News',\n",
       " 'Upcoming Events',\n",
       " 'Success Stories',\n",
       " 'Use Python for…',\n",
       " '>>> Python Software Foundation']"
      ]
     },
     "execution_count": 236,
     "metadata": {},
     "output_type": "execute_result"
    }
   ],
   "source": [
    "headers = []\n",
    "for var in pSoup.find_all(['h1','h2','h3']):\n",
    "    headers.append(var.text.strip())\n",
    "\n",
    "headers"
   ]
  },
  {
   "cell_type": "code",
   "execution_count": 248,
   "id": "eea9f451-e7b5-4900-8047-6e783ae28f28",
   "metadata": {},
   "outputs": [
    {
     "data": {
      "text/plain": [
       "<sqlite3.Cursor at 0x29bb1c2b6c0>"
      ]
     },
     "execution_count": 248,
     "metadata": {},
     "output_type": "execute_result"
    }
   ],
   "source": [
    "import sqlite3\n",
    "conn = sqlite3.connect('python_tags.db')\n",
    "sth = conn.cursor()\n",
    "sth.execute(\"create table if not exists pythonorg(id INT PRIMARY KEY AUTOINCREMENT,heading text)\")"
   ]
  },
  {
   "cell_type": "code",
   "execution_count": 249,
   "id": "223c3569-9113-4b52-ac25-3644c6e2a0c1",
   "metadata": {},
   "outputs": [],
   "source": [
    "for var in headers:\n",
    "    sth.execute(\"insert into pythonorg(heading) values(?)\",(var,))"
   ]
  },
  {
   "cell_type": "code",
   "execution_count": 250,
   "id": "1dcf7f49-6551-4df0-aa10-da809160ba68",
   "metadata": {},
   "outputs": [],
   "source": [
    "conn.commit()"
   ]
  },
  {
   "cell_type": "code",
   "execution_count": 251,
   "id": "9d4224a5-1bd0-4004-bbb5-aa8803f410e3",
   "metadata": {},
   "outputs": [
    {
     "data": {
      "text/plain": [
       "[(None, ''),\n",
       " (None, 'Functions Defined'),\n",
       " (None, 'Compound Data Types'),\n",
       " (None, 'Intuitive Interpretation'),\n",
       " (None, 'All the Flow You’d Expect'),\n",
       " (None, 'Quick & Easy to Learn'),\n",
       " (None, 'Get Started'),\n",
       " (None, 'Download'),\n",
       " (None, 'Docs'),\n",
       " (None, 'Jobs'),\n",
       " (None, 'Latest News'),\n",
       " (None, 'Upcoming Events'),\n",
       " (None, 'Success Stories'),\n",
       " (None, 'Use Python for…'),\n",
       " (None, '>>> Python Software Foundation')]"
      ]
     },
     "execution_count": 251,
     "metadata": {},
     "output_type": "execute_result"
    }
   ],
   "source": [
    "sth.execute('select *from pythonorg')\n",
    "list(sth)"
   ]
  },
  {
   "cell_type": "code",
   "execution_count": null,
   "id": "bb5560ba-f1c0-4d71-8301-73b4dc442847",
   "metadata": {},
   "outputs": [],
   "source": [
    "##################### end of day3 #######################"
   ]
  }
 ],
 "metadata": {
  "kernelspec": {
   "display_name": "Python [conda env:base] *",
   "language": "python",
   "name": "conda-base-py"
  },
  "language_info": {
   "codemirror_mode": {
    "name": "ipython",
    "version": 3
   },
   "file_extension": ".py",
   "mimetype": "text/x-python",
   "name": "python",
   "nbconvert_exporter": "python",
   "pygments_lexer": "ipython3",
   "version": "3.13.5"
  }
 },
 "nbformat": 4,
 "nbformat_minor": 5
}
